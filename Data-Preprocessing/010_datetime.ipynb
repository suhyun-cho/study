{
 "cells": [
  {
   "cell_type": "markdown",
   "metadata": {},
   "source": [
    "# 10장. 일시형\n",
    "2020-03-24"
   ]
  },
  {
   "cell_type": "markdown",
   "metadata": {},
   "source": [
    "## 10.1 일시형과 날짜형으로 변환\n",
    "예약 테이블의 reserve_datetime을 일시형과 날짜형으로, checkin_date와 checkin_time을 합쳐서 일시형으로, checkin_date를 날짜형으로 변환하자."
   ]
  },
  {
   "cell_type": "code",
   "execution_count": 1,
   "metadata": {},
   "outputs": [],
   "source": [
    "import pandas as pd\n",
    "import numpy as np"
   ]
  },
  {
   "cell_type": "code",
   "execution_count": 2,
   "metadata": {},
   "outputs": [],
   "source": [
    "reserve_tb=pd.read_csv('./data/reserve.csv',encoding='UTF-8')"
   ]
  },
  {
   "cell_type": "code",
   "execution_count": 4,
   "metadata": {},
   "outputs": [
    {
     "data": {
      "text/html": [
       "<div>\n",
       "<style scoped>\n",
       "    .dataframe tbody tr th:only-of-type {\n",
       "        vertical-align: middle;\n",
       "    }\n",
       "\n",
       "    .dataframe tbody tr th {\n",
       "        vertical-align: top;\n",
       "    }\n",
       "\n",
       "    .dataframe thead th {\n",
       "        text-align: right;\n",
       "    }\n",
       "</style>\n",
       "<table border=\"1\" class=\"dataframe\">\n",
       "  <thead>\n",
       "    <tr style=\"text-align: right;\">\n",
       "      <th></th>\n",
       "      <th>reserve_id</th>\n",
       "      <th>hotel_id</th>\n",
       "      <th>customer_id</th>\n",
       "      <th>reserve_datetime</th>\n",
       "      <th>checkin_date</th>\n",
       "      <th>checkin_time</th>\n",
       "      <th>checkout_date</th>\n",
       "      <th>people_num</th>\n",
       "      <th>total_price</th>\n",
       "    </tr>\n",
       "  </thead>\n",
       "  <tbody>\n",
       "    <tr>\n",
       "      <td>0</td>\n",
       "      <td>r1</td>\n",
       "      <td>h_75</td>\n",
       "      <td>c_1</td>\n",
       "      <td>2016-03-06 13:09:42</td>\n",
       "      <td>2016-03-26</td>\n",
       "      <td>10:00:00</td>\n",
       "      <td>2016-03-29</td>\n",
       "      <td>4</td>\n",
       "      <td>97200</td>\n",
       "    </tr>\n",
       "    <tr>\n",
       "      <td>1</td>\n",
       "      <td>r2</td>\n",
       "      <td>h_219</td>\n",
       "      <td>c_1</td>\n",
       "      <td>2016-07-16 23:39:55</td>\n",
       "      <td>2016-07-20</td>\n",
       "      <td>11:30:00</td>\n",
       "      <td>2016-07-21</td>\n",
       "      <td>2</td>\n",
       "      <td>20600</td>\n",
       "    </tr>\n",
       "    <tr>\n",
       "      <td>2</td>\n",
       "      <td>r3</td>\n",
       "      <td>h_179</td>\n",
       "      <td>c_1</td>\n",
       "      <td>2016-09-24 10:03:17</td>\n",
       "      <td>2016-10-19</td>\n",
       "      <td>09:00:00</td>\n",
       "      <td>2016-10-22</td>\n",
       "      <td>2</td>\n",
       "      <td>33600</td>\n",
       "    </tr>\n",
       "    <tr>\n",
       "      <td>3</td>\n",
       "      <td>r4</td>\n",
       "      <td>h_214</td>\n",
       "      <td>c_1</td>\n",
       "      <td>2017-03-08 03:20:10</td>\n",
       "      <td>2017-03-29</td>\n",
       "      <td>11:00:00</td>\n",
       "      <td>2017-03-30</td>\n",
       "      <td>4</td>\n",
       "      <td>194400</td>\n",
       "    </tr>\n",
       "    <tr>\n",
       "      <td>4</td>\n",
       "      <td>r5</td>\n",
       "      <td>h_16</td>\n",
       "      <td>c_1</td>\n",
       "      <td>2017-09-05 19:50:37</td>\n",
       "      <td>2017-09-22</td>\n",
       "      <td>10:30:00</td>\n",
       "      <td>2017-09-23</td>\n",
       "      <td>3</td>\n",
       "      <td>68100</td>\n",
       "    </tr>\n",
       "  </tbody>\n",
       "</table>\n",
       "</div>"
      ],
      "text/plain": [
       "  reserve_id hotel_id customer_id     reserve_datetime checkin_date  \\\n",
       "0         r1     h_75         c_1  2016-03-06 13:09:42   2016-03-26   \n",
       "1         r2    h_219         c_1  2016-07-16 23:39:55   2016-07-20   \n",
       "2         r3    h_179         c_1  2016-09-24 10:03:17   2016-10-19   \n",
       "3         r4    h_214         c_1  2017-03-08 03:20:10   2017-03-29   \n",
       "4         r5     h_16         c_1  2017-09-05 19:50:37   2017-09-22   \n",
       "\n",
       "  checkin_time checkout_date  people_num  total_price  \n",
       "0     10:00:00    2016-03-29           4        97200  \n",
       "1     11:30:00    2016-07-21           2        20600  \n",
       "2     09:00:00    2016-10-22           2        33600  \n",
       "3     11:00:00    2017-03-30           4       194400  \n",
       "4     10:30:00    2017-09-23           3        68100  "
      ]
     },
     "execution_count": 4,
     "metadata": {},
     "output_type": "execute_result"
    }
   ],
   "source": [
    "reserve_tb.head()"
   ]
  },
  {
   "cell_type": "code",
   "execution_count": 11,
   "metadata": {},
   "outputs": [
    {
     "data": {
      "text/plain": [
       "0      2016-03-06 13:09:42\n",
       "1      2016-07-16 23:39:55\n",
       "2      2016-09-24 10:03:17\n",
       "3      2017-03-08 03:20:10\n",
       "4      2017-09-05 19:50:37\n",
       "               ...        \n",
       "4025   2017-06-27 23:00:02\n",
       "4026   2017-09-29 05:24:57\n",
       "4027   2018-03-14 05:01:45\n",
       "4028   2016-04-16 15:20:17\n",
       "4029   2016-06-06 08:16:51\n",
       "Name: reserve_datetime, Length: 4030, dtype: datetime64[ns]"
      ]
     },
     "execution_count": 11,
     "metadata": {},
     "output_type": "execute_result"
    }
   ],
   "source": [
    "# to_datetime함수를 이용해 datetime64[ns]형으로 변환한다.\n",
    "pd.to_datetime(reserve_tb['reserve_datetime'],format='%Y-%m-%d %H:%M:%S')"
   ]
  },
  {
   "cell_type": "code",
   "execution_count": 8,
   "metadata": {},
   "outputs": [
    {
     "data": {
      "text/plain": [
       "0      2016-03-26 10:00:00\n",
       "1      2016-07-20 11:30:00\n",
       "2      2016-10-19 09:00:00\n",
       "3      2017-03-29 11:00:00\n",
       "4      2017-09-22 10:30:00\n",
       "               ...        \n",
       "4025   2017-07-10 09:30:00\n",
       "4026   2017-10-09 10:30:00\n",
       "4027   2018-04-02 11:30:00\n",
       "4028   2016-05-10 09:30:00\n",
       "4029   2016-07-06 09:00:00\n",
       "Length: 4030, dtype: datetime64[ns]"
      ]
     },
     "execution_count": 8,
     "metadata": {},
     "output_type": "execute_result"
    }
   ],
   "source": [
    "pd.to_datetime(reserve_tb['checkin_date']+reserve_tb['checkin_time'],format='%Y-%m-%d%H:%M:%S')"
   ]
  },
  {
   "cell_type": "code",
   "execution_count": 16,
   "metadata": {},
   "outputs": [
    {
     "data": {
      "text/plain": [
       "0       2016-03-06\n",
       "1       2016-07-16\n",
       "2       2016-09-24\n",
       "3       2017-03-08\n",
       "4       2017-09-05\n",
       "           ...    \n",
       "4025    2017-06-27\n",
       "4026    2017-09-29\n",
       "4027    2018-03-14\n",
       "4028    2016-04-16\n",
       "4029    2016-06-06\n",
       "Name: reserve_datetime, Length: 4030, dtype: object"
      ]
     },
     "execution_count": 16,
     "metadata": {},
     "output_type": "execute_result"
    }
   ],
   "source": [
    "# datetime64[ns]형에서 날짜 정보를 얻는다.\n",
    "pd.to_datetime(reserve_tb['reserve_datetime'],format='%Y-%m-%d %H:%M:%S').dt.date   # dt.time하면 시간"
   ]
  },
  {
   "cell_type": "code",
   "execution_count": 13,
   "metadata": {},
   "outputs": [
    {
     "data": {
      "text/plain": [
       "0       2016-03-26\n",
       "1       2016-07-20\n",
       "2       2016-10-19\n",
       "3       2017-03-29\n",
       "4       2017-09-22\n",
       "           ...    \n",
       "4025    2017-07-10\n",
       "4026    2017-10-09\n",
       "4027    2018-04-02\n",
       "4028    2016-05-10\n",
       "4029    2016-07-06\n",
       "Name: checkin_date, Length: 4030, dtype: object"
      ]
     },
     "execution_count": 13,
     "metadata": {},
     "output_type": "execute_result"
    }
   ],
   "source": [
    "pd.to_datetime(reserve_tb['checkin_date'],format='%Y-%m-%d').dt.date"
   ]
  },
  {
   "cell_type": "markdown",
   "metadata": {},
   "source": [
    "## 10.2 연, 월, 일, 시각, 분 , 초, 요일로 변환"
   ]
  },
  {
   "cell_type": "code",
   "execution_count": 17,
   "metadata": {},
   "outputs": [
    {
     "data": {
      "text/plain": [
       "0       2016-03-06 13:09:42\n",
       "1       2016-07-16 23:39:55\n",
       "2       2016-09-24 10:03:17\n",
       "3       2017-03-08 03:20:10\n",
       "4       2017-09-05 19:50:37\n",
       "               ...         \n",
       "4025    2017-06-27 23:00:02\n",
       "4026    2017-09-29 05:24:57\n",
       "4027    2018-03-14 05:01:45\n",
       "4028    2016-04-16 15:20:17\n",
       "4029    2016-06-06 08:16:51\n",
       "Name: reserve_datetime, Length: 4030, dtype: object"
      ]
     },
     "execution_count": 17,
     "metadata": {},
     "output_type": "execute_result"
    }
   ],
   "source": [
    "reserve_tb['reserve_datetime']"
   ]
  },
  {
   "cell_type": "code",
   "execution_count": 18,
   "metadata": {},
   "outputs": [
    {
     "data": {
      "text/plain": [
       "0      2016-03-06 13:09:42\n",
       "1      2016-07-16 23:39:55\n",
       "2      2016-09-24 10:03:17\n",
       "3      2017-03-08 03:20:10\n",
       "4      2017-09-05 19:50:37\n",
       "               ...        \n",
       "4025   2017-06-27 23:00:02\n",
       "4026   2017-09-29 05:24:57\n",
       "4027   2018-03-14 05:01:45\n",
       "4028   2016-04-16 15:20:17\n",
       "4029   2016-06-06 08:16:51\n",
       "Name: reserve_datetime, Length: 4030, dtype: datetime64[ns]"
      ]
     },
     "execution_count": 18,
     "metadata": {},
     "output_type": "execute_result"
    }
   ],
   "source": [
    "# reserve_datetime을 datetime64[ns]형으로 변환한다. \n",
    "reserve_tb['reserve_datetime']=pd.to_datetime(reserve_tb['reserve_datetime'],format='%Y-%m-%d %H:%M:%S')\n",
    "reserve_tb['reserve_datetime']"
   ]
  },
  {
   "cell_type": "code",
   "execution_count": 19,
   "metadata": {},
   "outputs": [
    {
     "data": {
      "text/plain": [
       "0       2016\n",
       "1       2016\n",
       "2       2016\n",
       "3       2017\n",
       "4       2017\n",
       "        ... \n",
       "4025    2017\n",
       "4026    2017\n",
       "4027    2018\n",
       "4028    2016\n",
       "4029    2016\n",
       "Name: reserve_datetime, Length: 4030, dtype: int64"
      ]
     },
     "execution_count": 19,
     "metadata": {},
     "output_type": "execute_result"
    }
   ],
   "source": [
    "reserve_tb['reserve_datetime'].dt.year"
   ]
  },
  {
   "cell_type": "code",
   "execution_count": 20,
   "metadata": {},
   "outputs": [
    {
     "data": {
      "text/plain": [
       "0       3\n",
       "1       7\n",
       "2       9\n",
       "3       3\n",
       "4       9\n",
       "       ..\n",
       "4025    6\n",
       "4026    9\n",
       "4027    3\n",
       "4028    4\n",
       "4029    6\n",
       "Name: reserve_datetime, Length: 4030, dtype: int64"
      ]
     },
     "execution_count": 20,
     "metadata": {},
     "output_type": "execute_result"
    }
   ],
   "source": [
    "reserve_tb['reserve_datetime'].dt.month"
   ]
  },
  {
   "cell_type": "code",
   "execution_count": 21,
   "metadata": {},
   "outputs": [
    {
     "data": {
      "text/plain": [
       "0        6\n",
       "1       16\n",
       "2       24\n",
       "3        8\n",
       "4        5\n",
       "        ..\n",
       "4025    27\n",
       "4026    29\n",
       "4027    14\n",
       "4028    16\n",
       "4029     6\n",
       "Name: reserve_datetime, Length: 4030, dtype: int64"
      ]
     },
     "execution_count": 21,
     "metadata": {},
     "output_type": "execute_result"
    }
   ],
   "source": [
    "reserve_tb['reserve_datetime'].dt.day"
   ]
  },
  {
   "cell_type": "code",
   "execution_count": 22,
   "metadata": {},
   "outputs": [
    {
     "data": {
      "text/plain": [
       "0       6\n",
       "1       5\n",
       "2       5\n",
       "3       2\n",
       "4       1\n",
       "       ..\n",
       "4025    1\n",
       "4026    4\n",
       "4027    2\n",
       "4028    5\n",
       "4029    0\n",
       "Name: reserve_datetime, Length: 4030, dtype: int64"
      ]
     },
     "execution_count": 22,
     "metadata": {},
     "output_type": "execute_result"
    }
   ],
   "source": [
    "# 요일(0=일요일, 1=월요일)을 수치로 얻는다.\n",
    "reserve_tb['reserve_datetime'].dt.dayofweek"
   ]
  },
  {
   "cell_type": "code",
   "execution_count": 100,
   "metadata": {},
   "outputs": [],
   "source": [
    "def dayofweek(x):\n",
    "    if x==0:\n",
    "        return '일'\n",
    "    elif x==1:\n",
    "        return '월'\n",
    "    elif x==2:\n",
    "        return '화'\n",
    "    elif x==3:\n",
    "        return '수'\n",
    "    elif x==4:\n",
    "        return '목'\n",
    "    elif x==5:\n",
    "        return '금'\n",
    "    else :\n",
    "        return '토'"
   ]
  },
  {
   "cell_type": "code",
   "execution_count": 101,
   "metadata": {},
   "outputs": [
    {
     "data": {
      "text/plain": [
       "0       토\n",
       "1       금\n",
       "2       금\n",
       "3       화\n",
       "4       월\n",
       "       ..\n",
       "4025    월\n",
       "4026    목\n",
       "4027    화\n",
       "4028    금\n",
       "4029    일\n",
       "Name: reserve_datetime, Length: 4030, dtype: object"
      ]
     },
     "execution_count": 101,
     "metadata": {},
     "output_type": "execute_result"
    }
   ],
   "source": [
    "reserve_tb['reserve_datetime'].dt.dayofweek.apply(dayofweek)"
   ]
  },
  {
   "cell_type": "code",
   "execution_count": 113,
   "metadata": {},
   "outputs": [
    {
     "data": {
      "text/html": [
       "<div>\n",
       "<style scoped>\n",
       "    .dataframe tbody tr th:only-of-type {\n",
       "        vertical-align: middle;\n",
       "    }\n",
       "\n",
       "    .dataframe tbody tr th {\n",
       "        vertical-align: top;\n",
       "    }\n",
       "\n",
       "    .dataframe thead th {\n",
       "        text-align: right;\n",
       "    }\n",
       "</style>\n",
       "<table border=\"1\" class=\"dataframe\">\n",
       "  <thead>\n",
       "    <tr style=\"text-align: right;\">\n",
       "      <th></th>\n",
       "      <th>checkin_datetime</th>\n",
       "      <th>reserve_date</th>\n",
       "      <th>reserve_season</th>\n",
       "      <th>dayofweek</th>\n",
       "    </tr>\n",
       "  </thead>\n",
       "  <tbody>\n",
       "    <tr>\n",
       "      <td>0</td>\n",
       "      <td>2016-03-26 10:00:00</td>\n",
       "      <td>2016-03-06</td>\n",
       "      <td>spring</td>\n",
       "      <td>토</td>\n",
       "    </tr>\n",
       "    <tr>\n",
       "      <td>1</td>\n",
       "      <td>2016-07-20 11:30:00</td>\n",
       "      <td>2016-07-16</td>\n",
       "      <td>summer</td>\n",
       "      <td>금</td>\n",
       "    </tr>\n",
       "    <tr>\n",
       "      <td>2</td>\n",
       "      <td>2016-10-19 09:00:00</td>\n",
       "      <td>2016-09-24</td>\n",
       "      <td>autumn</td>\n",
       "      <td>금</td>\n",
       "    </tr>\n",
       "    <tr>\n",
       "      <td>3</td>\n",
       "      <td>2017-03-29 11:00:00</td>\n",
       "      <td>2017-03-08</td>\n",
       "      <td>spring</td>\n",
       "      <td>화</td>\n",
       "    </tr>\n",
       "    <tr>\n",
       "      <td>4</td>\n",
       "      <td>2017-09-22 10:30:00</td>\n",
       "      <td>2017-09-05</td>\n",
       "      <td>autumn</td>\n",
       "      <td>월</td>\n",
       "    </tr>\n",
       "  </tbody>\n",
       "</table>\n",
       "</div>"
      ],
      "text/plain": [
       "     checkin_datetime reserve_date reserve_season dayofweek\n",
       "0 2016-03-26 10:00:00   2016-03-06         spring         토\n",
       "1 2016-07-20 11:30:00   2016-07-16         summer         금\n",
       "2 2016-10-19 09:00:00   2016-09-24         autumn         금\n",
       "3 2017-03-29 11:00:00   2017-03-08         spring         화\n",
       "4 2017-09-22 10:30:00   2017-09-05         autumn         월"
      ]
     },
     "execution_count": 113,
     "metadata": {},
     "output_type": "execute_result"
    }
   ],
   "source": [
    "reserve_tb['dayofweek']=reserve_tb['reserve_datetime'].dt.dayofweek.apply(dayofweek)\n",
    "reserve_tb.iloc[:5,9:]"
   ]
  },
  {
   "cell_type": "code",
   "execution_count": 23,
   "metadata": {},
   "outputs": [
    {
     "data": {
      "text/plain": [
       "0       13\n",
       "1       23\n",
       "2       10\n",
       "3        3\n",
       "4       19\n",
       "        ..\n",
       "4025    23\n",
       "4026     5\n",
       "4027     5\n",
       "4028    15\n",
       "4029     8\n",
       "Name: reserve_datetime, Length: 4030, dtype: int64"
      ]
     },
     "execution_count": 23,
     "metadata": {},
     "output_type": "execute_result"
    }
   ],
   "source": [
    "reserve_tb['reserve_datetime'].dt.hour"
   ]
  },
  {
   "cell_type": "code",
   "execution_count": 24,
   "metadata": {},
   "outputs": [
    {
     "data": {
      "text/plain": [
       "0       2016-03-06 13:09:42\n",
       "1       2016-07-16 23:39:55\n",
       "2       2016-09-24 10:03:17\n",
       "3       2017-03-08 03:20:10\n",
       "4       2017-09-05 19:50:37\n",
       "               ...         \n",
       "4025    2017-06-27 23:00:02\n",
       "4026    2017-09-29 05:24:57\n",
       "4027    2018-03-14 05:01:45\n",
       "4028    2016-04-16 15:20:17\n",
       "4029    2016-06-06 08:16:51\n",
       "Name: reserve_datetime, Length: 4030, dtype: object"
      ]
     },
     "execution_count": 24,
     "metadata": {},
     "output_type": "execute_result"
    }
   ],
   "source": [
    "# 지정한 포맷의 문자열로 변환.\n",
    "reserve_tb['reserve_datetime'].dt.strftime('%Y-%m-%d %H:%M:%S')"
   ]
  },
  {
   "cell_type": "markdown",
   "metadata": {},
   "source": [
    "## 10.3 일시의 차이로 변환"
   ]
  },
  {
   "cell_type": "code",
   "execution_count": 25,
   "metadata": {},
   "outputs": [],
   "source": [
    "# reserve_datetime을 datetime64[ns]형으로 변환한다.\n",
    "reserve_tb['reserve_datetime']=pd.to_datetime(reserve_tb['reserve_datetime'],format='%Y-%m-%d %H:%M:%S')"
   ]
  },
  {
   "cell_type": "code",
   "execution_count": 32,
   "metadata": {},
   "outputs": [],
   "source": [
    "reserve_tb['checkin_datetime']=pd.to_datetime(reserve_tb['checkin_date']+reserve_tb['checkin_time'],format='%Y-%m-%d%H:%M:%S')"
   ]
  },
  {
   "cell_type": "code",
   "execution_count": 33,
   "metadata": {},
   "outputs": [
    {
     "data": {
      "text/plain": [
       "0      2016-03-26 10:00:00\n",
       "1      2016-07-20 11:30:00\n",
       "2      2016-10-19 09:00:00\n",
       "3      2017-03-29 11:00:00\n",
       "4      2017-09-22 10:30:00\n",
       "               ...        \n",
       "4025   2017-07-10 09:30:00\n",
       "4026   2017-10-09 10:30:00\n",
       "4027   2018-04-02 11:30:00\n",
       "4028   2016-05-10 09:30:00\n",
       "4029   2016-07-06 09:00:00\n",
       "Name: checkin_datetime, Length: 4030, dtype: datetime64[ns]"
      ]
     },
     "execution_count": 33,
     "metadata": {},
     "output_type": "execute_result"
    }
   ],
   "source": [
    "reserve_tb['checkin_datetime']"
   ]
  },
  {
   "cell_type": "code",
   "execution_count": 35,
   "metadata": {},
   "outputs": [
    {
     "data": {
      "text/plain": [
       "0       0\n",
       "1       0\n",
       "2       0\n",
       "3       0\n",
       "4       0\n",
       "       ..\n",
       "4025    0\n",
       "4026    0\n",
       "4027    0\n",
       "4028    0\n",
       "4029    0\n",
       "Length: 4030, dtype: int64"
      ]
     },
     "execution_count": 35,
     "metadata": {},
     "output_type": "execute_result"
    }
   ],
   "source": [
    "# 연도의 차이를 계산한다.(월 이하의 일시 요소는 고려하지 않는다.)\n",
    "reserve_tb['reserve_datetime'].dt.year - reserve_tb['checkin_datetime'].dt.year"
   ]
  },
  {
   "cell_type": "code",
   "execution_count": 38,
   "metadata": {},
   "outputs": [
    {
     "data": {
      "text/plain": [
       "0       0\n",
       "1       0\n",
       "2      -1\n",
       "3       0\n",
       "4       0\n",
       "       ..\n",
       "4025   -1\n",
       "4026   -1\n",
       "4027   -1\n",
       "4028   -1\n",
       "4029   -1\n",
       "Length: 4030, dtype: int64"
      ]
     },
     "execution_count": 38,
     "metadata": {},
     "output_type": "execute_result"
    }
   ],
   "source": [
    "# 월의 차이를 계산한다 (일 이하의 일시 요소는 고려하지 않는다.)\n",
    "(reserve_tb['reserve_datetime'].dt.year *12 +\n",
    "reserve_tb['reserve_datetime'].dt.month)\\\n",
    "-(reserve_tb['checkin_datetime'].dt.year *12+\n",
    " reserve_tb['checkin_datetime'].dt.month)"
   ]
  },
  {
   "cell_type": "code",
   "execution_count": 43,
   "metadata": {},
   "outputs": [
    {
     "data": {
      "text/plain": [
       "0      -20 days +03:09:42\n",
       "1       -4 days +12:09:55\n",
       "2      -25 days +01:03:17\n",
       "3      -22 days +16:20:10\n",
       "4      -17 days +09:20:37\n",
       "              ...        \n",
       "4025   -13 days +13:30:02\n",
       "4026   -11 days +18:54:57\n",
       "4027   -20 days +17:31:45\n",
       "4028   -24 days +05:50:17\n",
       "4029   -31 days +23:16:51\n",
       "Length: 4030, dtype: timedelta64[ns]"
      ]
     },
     "execution_count": 43,
     "metadata": {},
     "output_type": "execute_result"
    }
   ],
   "source": [
    "(reserve_tb['reserve_datetime']-reserve_tb['checkin_datetime'])"
   ]
  },
  {
   "cell_type": "code",
   "execution_count": 42,
   "metadata": {},
   "outputs": [
    {
     "data": {
      "text/plain": [
       "0      -20.0\n",
       "1       -4.0\n",
       "2      -25.0\n",
       "3      -22.0\n",
       "4      -17.0\n",
       "        ... \n",
       "4025   -13.0\n",
       "4026   -11.0\n",
       "4027   -20.0\n",
       "4028   -24.0\n",
       "4029   -31.0\n",
       "Length: 4030, dtype: float64"
      ]
     },
     "execution_count": 42,
     "metadata": {},
     "output_type": "execute_result"
    }
   ],
   "source": [
    "# 일 단위로 차이를 계산한다.\n",
    "(reserve_tb['reserve_datetime']-reserve_tb['checkin_datetime']).astype('timedelta64[D]')"
   ]
  },
  {
   "cell_type": "code",
   "execution_count": 45,
   "metadata": {},
   "outputs": [
    {
     "data": {
      "text/plain": [
       "0      -477.0\n",
       "1       -84.0\n",
       "2      -599.0\n",
       "3      -512.0\n",
       "4      -399.0\n",
       "        ...  \n",
       "4025   -299.0\n",
       "4026   -246.0\n",
       "4027   -463.0\n",
       "4028   -571.0\n",
       "4029   -721.0\n",
       "Length: 4030, dtype: float64"
      ]
     },
     "execution_count": 45,
     "metadata": {},
     "output_type": "execute_result"
    }
   ],
   "source": [
    "# 시간 단위로 차이를 계산한다.\n",
    "(reserve_tb['reserve_datetime']-reserve_tb['checkin_datetime']).astype('timedelta64[h]')"
   ]
  },
  {
   "cell_type": "code",
   "execution_count": 49,
   "metadata": {},
   "outputs": [
    {
     "data": {
      "text/plain": [
       "0      -28611.0\n",
       "1       -5031.0\n",
       "2      -35937.0\n",
       "3      -30700.0\n",
       "4      -23920.0\n",
       "         ...   \n",
       "4025   -17910.0\n",
       "4026   -14706.0\n",
       "4027   -27749.0\n",
       "4028   -34210.0\n",
       "4029   -43244.0\n",
       "Length: 4030, dtype: float64"
      ]
     },
     "execution_count": 49,
     "metadata": {},
     "output_type": "execute_result"
    }
   ],
   "source": [
    "# 분 단위로 차이를 계산한다.\n",
    "(reserve_tb['reserve_datetime']-reserve_tb['checkin_datetime']).astype('timedelta64[m]')"
   ]
  },
  {
   "cell_type": "code",
   "execution_count": 51,
   "metadata": {},
   "outputs": [
    {
     "data": {
      "text/plain": [
       "0      -1716618.0\n",
       "1       -301805.0\n",
       "2      -2156203.0\n",
       "3      -1841990.0\n",
       "4      -1435163.0\n",
       "          ...    \n",
       "4025   -1074598.0\n",
       "4026    -882303.0\n",
       "4027   -1664895.0\n",
       "4028   -2052583.0\n",
       "4029   -2594589.0\n",
       "Length: 4030, dtype: float64"
      ]
     },
     "execution_count": 51,
     "metadata": {},
     "output_type": "execute_result"
    }
   ],
   "source": [
    "# 초 단위로 차이를 계산한다.\n",
    "(reserve_tb['reserve_datetime']-reserve_tb['checkin_datetime']).astype('timedelta64[s]')"
   ]
  },
  {
   "cell_type": "markdown",
   "metadata": {},
   "source": [
    "## 10.4 일시형의 증감"
   ]
  },
  {
   "cell_type": "code",
   "execution_count": 52,
   "metadata": {},
   "outputs": [],
   "source": [
    "# timedelta를 위한 datetime 라이브러리 호출.\n",
    "import datetime"
   ]
  },
  {
   "cell_type": "code",
   "execution_count": 55,
   "metadata": {},
   "outputs": [
    {
     "data": {
      "text/plain": [
       "0      2016-03-06 13:09:42\n",
       "1      2016-07-16 23:39:55\n",
       "2      2016-09-24 10:03:17\n",
       "3      2017-03-08 03:20:10\n",
       "4      2017-09-05 19:50:37\n",
       "               ...        \n",
       "4025   2017-06-27 23:00:02\n",
       "4026   2017-09-29 05:24:57\n",
       "4027   2018-03-14 05:01:45\n",
       "4028   2016-04-16 15:20:17\n",
       "4029   2016-06-06 08:16:51\n",
       "Name: reserve_datetime, Length: 4030, dtype: datetime64[ns]"
      ]
     },
     "execution_count": 55,
     "metadata": {},
     "output_type": "execute_result"
    }
   ],
   "source": [
    "# reserve_datetime을 datetime64[ns]형으로 변환한다.\n",
    "reserve_tb['reserve_datetime']=pd.to_datetime(reserve_tb['reserve_datetime'],format='%Y-%m-%d %H:%M:%S')\n",
    "reserve_tb['reserve_datetime']"
   ]
  },
  {
   "cell_type": "code",
   "execution_count": 56,
   "metadata": {},
   "outputs": [
    {
     "data": {
      "text/plain": [
       "0       2016-03-06\n",
       "1       2016-07-16\n",
       "2       2016-09-24\n",
       "3       2017-03-08\n",
       "4       2017-09-05\n",
       "           ...    \n",
       "4025    2017-06-27\n",
       "4026    2017-09-29\n",
       "4027    2018-03-14\n",
       "4028    2016-04-16\n",
       "4029    2016-06-06\n",
       "Name: reserve_date, Length: 4030, dtype: object"
      ]
     },
     "execution_count": 56,
     "metadata": {},
     "output_type": "execute_result"
    }
   ],
   "source": [
    "# reserve_datetime에서 date를 추출한다.\n",
    "reserve_tb['reserve_date']=reserve_tb['reserve_datetime'].dt.date\n",
    "reserve_tb['reserve_date']"
   ]
  },
  {
   "cell_type": "code",
   "execution_count": 57,
   "metadata": {},
   "outputs": [
    {
     "data": {
      "text/plain": [
       "0      2016-03-07 13:09:42\n",
       "1      2016-07-17 23:39:55\n",
       "2      2016-09-25 10:03:17\n",
       "3      2017-03-09 03:20:10\n",
       "4      2017-09-06 19:50:37\n",
       "               ...        \n",
       "4025   2017-06-28 23:00:02\n",
       "4026   2017-09-30 05:24:57\n",
       "4027   2018-03-15 05:01:45\n",
       "4028   2016-04-17 15:20:17\n",
       "4029   2016-06-07 08:16:51\n",
       "Name: reserve_datetime, Length: 4030, dtype: datetime64[ns]"
      ]
     },
     "execution_count": 57,
     "metadata": {},
     "output_type": "execute_result"
    }
   ],
   "source": [
    "#reserve_datetime에 1일을 더한다.\n",
    "reserve_tb['reserve_datetime']+datetime.timedelta(days=1)"
   ]
  },
  {
   "cell_type": "code",
   "execution_count": 58,
   "metadata": {},
   "outputs": [
    {
     "data": {
      "text/plain": [
       "0       2016-03-07\n",
       "1       2016-07-17\n",
       "2       2016-09-25\n",
       "3       2017-03-09\n",
       "4       2017-09-06\n",
       "           ...    \n",
       "4025    2017-06-28\n",
       "4026    2017-09-30\n",
       "4027    2018-03-15\n",
       "4028    2016-04-17\n",
       "4029    2016-06-07\n",
       "Name: reserve_date, Length: 4030, dtype: object"
      ]
     },
     "execution_count": 58,
     "metadata": {},
     "output_type": "execute_result"
    }
   ],
   "source": [
    "# reserve_date에 1일을 더한다.\n",
    "reserve_tb['reserve_date']+datetime.timedelta(days=1)"
   ]
  },
  {
   "cell_type": "code",
   "execution_count": 59,
   "metadata": {},
   "outputs": [
    {
     "data": {
      "text/plain": [
       "0      2016-03-06 14:09:42\n",
       "1      2016-07-17 00:39:55\n",
       "2      2016-09-24 11:03:17\n",
       "3      2017-03-08 04:20:10\n",
       "4      2017-09-05 20:50:37\n",
       "               ...        \n",
       "4025   2017-06-28 00:00:02\n",
       "4026   2017-09-29 06:24:57\n",
       "4027   2018-03-14 06:01:45\n",
       "4028   2016-04-16 16:20:17\n",
       "4029   2016-06-06 09:16:51\n",
       "Name: reserve_datetime, Length: 4030, dtype: datetime64[ns]"
      ]
     },
     "execution_count": 59,
     "metadata": {},
     "output_type": "execute_result"
    }
   ],
   "source": [
    "# reserve_datetime에 1시간을 더한다.\n",
    "reserve_tb['reserve_datetime']+datetime.timedelta(hours=1)"
   ]
  },
  {
   "cell_type": "code",
   "execution_count": 61,
   "metadata": {},
   "outputs": [
    {
     "data": {
      "text/plain": [
       "0      2016-03-06 13:10:42\n",
       "1      2016-07-16 23:40:55\n",
       "2      2016-09-24 10:04:17\n",
       "3      2017-03-08 03:21:10\n",
       "4      2017-09-05 19:51:37\n",
       "               ...        \n",
       "4025   2017-06-27 23:01:02\n",
       "4026   2017-09-29 05:25:57\n",
       "4027   2018-03-14 05:02:45\n",
       "4028   2016-04-16 15:21:17\n",
       "4029   2016-06-06 08:17:51\n",
       "Name: reserve_datetime, Length: 4030, dtype: datetime64[ns]"
      ]
     },
     "execution_count": 61,
     "metadata": {},
     "output_type": "execute_result"
    }
   ],
   "source": [
    "# 1분을 더한다.\n",
    "reserve_tb['reserve_datetime']+datetime.timedelta(minutes=1)"
   ]
  },
  {
   "cell_type": "code",
   "execution_count": 64,
   "metadata": {},
   "outputs": [
    {
     "data": {
      "text/plain": [
       "0      2016-03-06 13:09:43\n",
       "1      2016-07-16 23:39:56\n",
       "2      2016-09-24 10:03:18\n",
       "3      2017-03-08 03:20:11\n",
       "4      2017-09-05 19:50:38\n",
       "               ...        \n",
       "4025   2017-06-27 23:00:03\n",
       "4026   2017-09-29 05:24:58\n",
       "4027   2018-03-14 05:01:46\n",
       "4028   2016-04-16 15:20:18\n",
       "4029   2016-06-06 08:16:52\n",
       "Name: reserve_datetime, Length: 4030, dtype: datetime64[ns]"
      ]
     },
     "execution_count": 64,
     "metadata": {},
     "output_type": "execute_result"
    }
   ],
   "source": [
    "# 1초를 더한다.\n",
    "reserve_tb['reserve_datetime']+datetime.timedelta(seconds=1)"
   ]
  },
  {
   "cell_type": "markdown",
   "metadata": {},
   "source": [
    "## 10.5 계절로 변환\n",
    "계절 변화를 고려할 때는 직접적으로 영향을 끼치는 요소를 생각하는 것이 중요하다.\n",
    "> 예를들어, 아이스크림이 가장많이 팔리는 계절은 여름이다. 여기서 더 나아가 여름의 무엇이 아이스크림 매출에 영향을 끼치는지 생각해보자. <br>\n",
    "여름의 높은 기온이 영향을 끼친다고 예측할 수 있으며, 예상이 맞다면 **계절이 아니라 기온을 분석 요소**로 다뤄야 한다."
   ]
  },
  {
   "cell_type": "code",
   "execution_count": 65,
   "metadata": {},
   "outputs": [],
   "source": [
    "# datetime64[ns]형으로 변환.\n",
    "reserve_tb['reserve_datetime']=pd.to_datetime(reserve_tb['reserve_datetime'],format='%Y-%m-%d %H:%M:%S')"
   ]
  },
  {
   "cell_type": "code",
   "execution_count": 71,
   "metadata": {},
   "outputs": [],
   "source": [
    "# 월의 숫자를 계절로 변환하는 함수.\n",
    "def to_season(month_num):\n",
    "    season='winter'\n",
    "    if 3 <= month_num <=5:\n",
    "        season='spring'\n",
    "    elif 6 <= month_num <=8:\n",
    "        season='summer'\n",
    "    elif 9 <= month_num <=11:\n",
    "        season='autumn'\n",
    "    return season"
   ]
  },
  {
   "cell_type": "code",
   "execution_count": 73,
   "metadata": {},
   "outputs": [
    {
     "data": {
      "text/plain": [
       "'autumn'"
      ]
     },
     "execution_count": 73,
     "metadata": {},
     "output_type": "execute_result"
    }
   ],
   "source": [
    "to_season(10)"
   ]
  },
  {
   "cell_type": "code",
   "execution_count": 83,
   "metadata": {},
   "outputs": [
    {
     "data": {
      "text/plain": [
       "0       3\n",
       "1       7\n",
       "2       9\n",
       "3       3\n",
       "4       9\n",
       "       ..\n",
       "4025    6\n",
       "4026    9\n",
       "4027    3\n",
       "4028    4\n",
       "4029    6\n",
       "Name: reserve_datetime, Length: 4030, dtype: int64"
      ]
     },
     "execution_count": 83,
     "metadata": {},
     "output_type": "execute_result"
    }
   ],
   "source": [
    "reserve_tb['reserve_datetime'].dt.month"
   ]
  },
  {
   "cell_type": "code",
   "execution_count": 76,
   "metadata": {},
   "outputs": [
    {
     "data": {
      "text/plain": [
       "0       spring\n",
       "1       summer\n",
       "2       autumn\n",
       "3       spring\n",
       "4       autumn\n",
       "         ...  \n",
       "4025    summer\n",
       "4026    autumn\n",
       "4027    spring\n",
       "4028    spring\n",
       "4029    summer\n",
       "Name: reserve_datetime, Length: 4030, dtype: object"
      ]
     },
     "execution_count": 76,
     "metadata": {},
     "output_type": "execute_result"
    }
   ],
   "source": [
    "reserve_tb['reserve_datetime'].dt.month.apply(to_season)"
   ]
  },
  {
   "cell_type": "code",
   "execution_count": 93,
   "metadata": {},
   "outputs": [
    {
     "data": {
      "text/plain": [
       "0       spring\n",
       "1       summer\n",
       "2       autumn\n",
       "3       spring\n",
       "4       autumn\n",
       "         ...  \n",
       "4025    summer\n",
       "4026    autumn\n",
       "4027    spring\n",
       "4028    spring\n",
       "4029    summer\n",
       "Name: reserve_datetime, Length: 4030, dtype: object"
      ]
     },
     "execution_count": 93,
     "metadata": {},
     "output_type": "execute_result"
    }
   ],
   "source": [
    "# 함수에 전달하기 전에 값을 변환하고 싶다면 람다식을 이용.(결과는 같음.)\n",
    "reserve_tb['reserve_datetime'].dt.month.apply(lambda x: to_season(x))"
   ]
  },
  {
   "cell_type": "code",
   "execution_count": 84,
   "metadata": {},
   "outputs": [
    {
     "data": {
      "text/plain": [
       "[spring, summer, autumn, spring, autumn, ..., summer, autumn, spring, spring, summer]\n",
       "Length: 4030\n",
       "Categories (4, object): [spring, summer, autumn, winter]"
      ]
     },
     "execution_count": 84,
     "metadata": {},
     "output_type": "execute_result"
    }
   ],
   "source": [
    "# 계절로 변환한다.\n",
    "pd.Categorical(reserve_tb['reserve_datetime'].dt.month.apply(to_season),categories=['spring','summer','autumn','winter'])"
   ]
  },
  {
   "cell_type": "code",
   "execution_count": 86,
   "metadata": {},
   "outputs": [
    {
     "data": {
      "text/plain": [
       "0       spring\n",
       "1       summer\n",
       "2       autumn\n",
       "3       spring\n",
       "4       autumn\n",
       "         ...  \n",
       "4025    summer\n",
       "4026    autumn\n",
       "4027    spring\n",
       "4028    spring\n",
       "4029    summer\n",
       "Name: reserve_season, Length: 4030, dtype: category\n",
       "Categories (4, object): [spring, summer, autumn, winter]"
      ]
     },
     "execution_count": 86,
     "metadata": {},
     "output_type": "execute_result"
    }
   ],
   "source": [
    "reserve_tb['reserve_season']=pd.Categorical(reserve_tb['reserve_datetime'].dt.month.apply(to_season),categories=['spring','summer','autumn','winter'])\n",
    "reserve_tb['reserve_season']"
   ]
  },
  {
   "cell_type": "markdown",
   "metadata": {},
   "source": [
    "## 10.7 평일과 휴일로 변환\n",
    "휴일 마스터와 결합하면 휴일 플래그, 휴일 전날 플래그를 부여할 수 있다."
   ]
  },
  {
   "cell_type": "code",
   "execution_count": 115,
   "metadata": {},
   "outputs": [],
   "source": [
    "holiday_mst=pd.read_csv('./data/holiday_mst.csv',encoding='UTF-8')"
   ]
  },
  {
   "cell_type": "code",
   "execution_count": 117,
   "metadata": {},
   "outputs": [
    {
     "data": {
      "text/html": [
       "<div>\n",
       "<style scoped>\n",
       "    .dataframe tbody tr th:only-of-type {\n",
       "        vertical-align: middle;\n",
       "    }\n",
       "\n",
       "    .dataframe tbody tr th {\n",
       "        vertical-align: top;\n",
       "    }\n",
       "\n",
       "    .dataframe thead th {\n",
       "        text-align: right;\n",
       "    }\n",
       "</style>\n",
       "<table border=\"1\" class=\"dataframe\">\n",
       "  <thead>\n",
       "    <tr style=\"text-align: right;\">\n",
       "      <th></th>\n",
       "      <th>target_day</th>\n",
       "      <th>holidayday_flg</th>\n",
       "      <th>nextday_is_holiday_flg</th>\n",
       "    </tr>\n",
       "  </thead>\n",
       "  <tbody>\n",
       "    <tr>\n",
       "      <td>0</td>\n",
       "      <td>2016-01-01</td>\n",
       "      <td>True</td>\n",
       "      <td>True</td>\n",
       "    </tr>\n",
       "    <tr>\n",
       "      <td>1</td>\n",
       "      <td>2016-01-02</td>\n",
       "      <td>True</td>\n",
       "      <td>True</td>\n",
       "    </tr>\n",
       "    <tr>\n",
       "      <td>2</td>\n",
       "      <td>2016-01-03</td>\n",
       "      <td>True</td>\n",
       "      <td>False</td>\n",
       "    </tr>\n",
       "    <tr>\n",
       "      <td>3</td>\n",
       "      <td>2016-01-04</td>\n",
       "      <td>False</td>\n",
       "      <td>False</td>\n",
       "    </tr>\n",
       "    <tr>\n",
       "      <td>4</td>\n",
       "      <td>2016-01-05</td>\n",
       "      <td>False</td>\n",
       "      <td>False</td>\n",
       "    </tr>\n",
       "    <tr>\n",
       "      <td>...</td>\n",
       "      <td>...</td>\n",
       "      <td>...</td>\n",
       "      <td>...</td>\n",
       "    </tr>\n",
       "    <tr>\n",
       "      <td>1181</td>\n",
       "      <td>2019-03-27</td>\n",
       "      <td>False</td>\n",
       "      <td>False</td>\n",
       "    </tr>\n",
       "    <tr>\n",
       "      <td>1182</td>\n",
       "      <td>2019-03-28</td>\n",
       "      <td>False</td>\n",
       "      <td>False</td>\n",
       "    </tr>\n",
       "    <tr>\n",
       "      <td>1183</td>\n",
       "      <td>2019-03-29</td>\n",
       "      <td>False</td>\n",
       "      <td>True</td>\n",
       "    </tr>\n",
       "    <tr>\n",
       "      <td>1184</td>\n",
       "      <td>2019-03-30</td>\n",
       "      <td>True</td>\n",
       "      <td>True</td>\n",
       "    </tr>\n",
       "    <tr>\n",
       "      <td>1185</td>\n",
       "      <td>2019-03-31</td>\n",
       "      <td>True</td>\n",
       "      <td>False</td>\n",
       "    </tr>\n",
       "  </tbody>\n",
       "</table>\n",
       "<p>1186 rows × 3 columns</p>\n",
       "</div>"
      ],
      "text/plain": [
       "      target_day  holidayday_flg  nextday_is_holiday_flg\n",
       "0     2016-01-01            True                    True\n",
       "1     2016-01-02            True                    True\n",
       "2     2016-01-03            True                   False\n",
       "3     2016-01-04           False                   False\n",
       "4     2016-01-05           False                   False\n",
       "...          ...             ...                     ...\n",
       "1181  2019-03-27           False                   False\n",
       "1182  2019-03-28           False                   False\n",
       "1183  2019-03-29           False                    True\n",
       "1184  2019-03-30            True                    True\n",
       "1185  2019-03-31            True                   False\n",
       "\n",
       "[1186 rows x 3 columns]"
      ]
     },
     "execution_count": 117,
     "metadata": {},
     "output_type": "execute_result"
    }
   ],
   "source": [
    "holiday_mst"
   ]
  },
  {
   "cell_type": "code",
   "execution_count": 118,
   "metadata": {},
   "outputs": [
    {
     "data": {
      "text/html": [
       "<div>\n",
       "<style scoped>\n",
       "    .dataframe tbody tr th:only-of-type {\n",
       "        vertical-align: middle;\n",
       "    }\n",
       "\n",
       "    .dataframe tbody tr th {\n",
       "        vertical-align: top;\n",
       "    }\n",
       "\n",
       "    .dataframe thead th {\n",
       "        text-align: right;\n",
       "    }\n",
       "</style>\n",
       "<table border=\"1\" class=\"dataframe\">\n",
       "  <thead>\n",
       "    <tr style=\"text-align: right;\">\n",
       "      <th></th>\n",
       "      <th>reserve_id</th>\n",
       "      <th>hotel_id</th>\n",
       "      <th>customer_id</th>\n",
       "      <th>reserve_datetime</th>\n",
       "      <th>checkin_date</th>\n",
       "      <th>checkin_time</th>\n",
       "      <th>checkout_date</th>\n",
       "      <th>people_num</th>\n",
       "      <th>total_price</th>\n",
       "      <th>checkin_datetime</th>\n",
       "      <th>reserve_date</th>\n",
       "      <th>reserve_season</th>\n",
       "      <th>dayofweek</th>\n",
       "    </tr>\n",
       "  </thead>\n",
       "  <tbody>\n",
       "    <tr>\n",
       "      <td>0</td>\n",
       "      <td>r1</td>\n",
       "      <td>h_75</td>\n",
       "      <td>c_1</td>\n",
       "      <td>2016-03-06 13:09:42</td>\n",
       "      <td>2016-03-26</td>\n",
       "      <td>10:00:00</td>\n",
       "      <td>2016-03-29</td>\n",
       "      <td>4</td>\n",
       "      <td>97200</td>\n",
       "      <td>2016-03-26 10:00:00</td>\n",
       "      <td>2016-03-06</td>\n",
       "      <td>spring</td>\n",
       "      <td>토</td>\n",
       "    </tr>\n",
       "    <tr>\n",
       "      <td>1</td>\n",
       "      <td>r2</td>\n",
       "      <td>h_219</td>\n",
       "      <td>c_1</td>\n",
       "      <td>2016-07-16 23:39:55</td>\n",
       "      <td>2016-07-20</td>\n",
       "      <td>11:30:00</td>\n",
       "      <td>2016-07-21</td>\n",
       "      <td>2</td>\n",
       "      <td>20600</td>\n",
       "      <td>2016-07-20 11:30:00</td>\n",
       "      <td>2016-07-16</td>\n",
       "      <td>summer</td>\n",
       "      <td>금</td>\n",
       "    </tr>\n",
       "    <tr>\n",
       "      <td>2</td>\n",
       "      <td>r3</td>\n",
       "      <td>h_179</td>\n",
       "      <td>c_1</td>\n",
       "      <td>2016-09-24 10:03:17</td>\n",
       "      <td>2016-10-19</td>\n",
       "      <td>09:00:00</td>\n",
       "      <td>2016-10-22</td>\n",
       "      <td>2</td>\n",
       "      <td>33600</td>\n",
       "      <td>2016-10-19 09:00:00</td>\n",
       "      <td>2016-09-24</td>\n",
       "      <td>autumn</td>\n",
       "      <td>금</td>\n",
       "    </tr>\n",
       "    <tr>\n",
       "      <td>3</td>\n",
       "      <td>r4</td>\n",
       "      <td>h_214</td>\n",
       "      <td>c_1</td>\n",
       "      <td>2017-03-08 03:20:10</td>\n",
       "      <td>2017-03-29</td>\n",
       "      <td>11:00:00</td>\n",
       "      <td>2017-03-30</td>\n",
       "      <td>4</td>\n",
       "      <td>194400</td>\n",
       "      <td>2017-03-29 11:00:00</td>\n",
       "      <td>2017-03-08</td>\n",
       "      <td>spring</td>\n",
       "      <td>화</td>\n",
       "    </tr>\n",
       "    <tr>\n",
       "      <td>4</td>\n",
       "      <td>r5</td>\n",
       "      <td>h_16</td>\n",
       "      <td>c_1</td>\n",
       "      <td>2017-09-05 19:50:37</td>\n",
       "      <td>2017-09-22</td>\n",
       "      <td>10:30:00</td>\n",
       "      <td>2017-09-23</td>\n",
       "      <td>3</td>\n",
       "      <td>68100</td>\n",
       "      <td>2017-09-22 10:30:00</td>\n",
       "      <td>2017-09-05</td>\n",
       "      <td>autumn</td>\n",
       "      <td>월</td>\n",
       "    </tr>\n",
       "  </tbody>\n",
       "</table>\n",
       "</div>"
      ],
      "text/plain": [
       "  reserve_id hotel_id customer_id    reserve_datetime checkin_date  \\\n",
       "0         r1     h_75         c_1 2016-03-06 13:09:42   2016-03-26   \n",
       "1         r2    h_219         c_1 2016-07-16 23:39:55   2016-07-20   \n",
       "2         r3    h_179         c_1 2016-09-24 10:03:17   2016-10-19   \n",
       "3         r4    h_214         c_1 2017-03-08 03:20:10   2017-03-29   \n",
       "4         r5     h_16         c_1 2017-09-05 19:50:37   2017-09-22   \n",
       "\n",
       "  checkin_time checkout_date  people_num  total_price    checkin_datetime  \\\n",
       "0     10:00:00    2016-03-29           4        97200 2016-03-26 10:00:00   \n",
       "1     11:30:00    2016-07-21           2        20600 2016-07-20 11:30:00   \n",
       "2     09:00:00    2016-10-22           2        33600 2016-10-19 09:00:00   \n",
       "3     11:00:00    2017-03-30           4       194400 2017-03-29 11:00:00   \n",
       "4     10:30:00    2017-09-23           3        68100 2017-09-22 10:30:00   \n",
       "\n",
       "  reserve_date reserve_season dayofweek  \n",
       "0   2016-03-06         spring         토  \n",
       "1   2016-07-16         summer         금  \n",
       "2   2016-09-24         autumn         금  \n",
       "3   2017-03-08         spring         화  \n",
       "4   2017-09-05         autumn         월  "
      ]
     },
     "execution_count": 118,
     "metadata": {},
     "output_type": "execute_result"
    }
   ],
   "source": [
    "reserve_tb.head()"
   ]
  },
  {
   "cell_type": "code",
   "execution_count": 116,
   "metadata": {},
   "outputs": [
    {
     "data": {
      "text/html": [
       "<div>\n",
       "<style scoped>\n",
       "    .dataframe tbody tr th:only-of-type {\n",
       "        vertical-align: middle;\n",
       "    }\n",
       "\n",
       "    .dataframe tbody tr th {\n",
       "        vertical-align: top;\n",
       "    }\n",
       "\n",
       "    .dataframe thead th {\n",
       "        text-align: right;\n",
       "    }\n",
       "</style>\n",
       "<table border=\"1\" class=\"dataframe\">\n",
       "  <thead>\n",
       "    <tr style=\"text-align: right;\">\n",
       "      <th></th>\n",
       "      <th>reserve_id</th>\n",
       "      <th>hotel_id</th>\n",
       "      <th>customer_id</th>\n",
       "      <th>reserve_datetime</th>\n",
       "      <th>checkin_date</th>\n",
       "      <th>checkin_time</th>\n",
       "      <th>checkout_date</th>\n",
       "      <th>people_num</th>\n",
       "      <th>total_price</th>\n",
       "      <th>checkin_datetime</th>\n",
       "      <th>reserve_date</th>\n",
       "      <th>reserve_season</th>\n",
       "      <th>dayofweek</th>\n",
       "      <th>target_day</th>\n",
       "      <th>holidayday_flg</th>\n",
       "      <th>nextday_is_holiday_flg</th>\n",
       "    </tr>\n",
       "  </thead>\n",
       "  <tbody>\n",
       "    <tr>\n",
       "      <td>0</td>\n",
       "      <td>r1</td>\n",
       "      <td>h_75</td>\n",
       "      <td>c_1</td>\n",
       "      <td>2016-03-06 13:09:42</td>\n",
       "      <td>2016-03-26</td>\n",
       "      <td>10:00:00</td>\n",
       "      <td>2016-03-29</td>\n",
       "      <td>4</td>\n",
       "      <td>97200</td>\n",
       "      <td>2016-03-26 10:00:00</td>\n",
       "      <td>2016-03-06</td>\n",
       "      <td>spring</td>\n",
       "      <td>토</td>\n",
       "      <td>2016-03-26</td>\n",
       "      <td>True</td>\n",
       "      <td>True</td>\n",
       "    </tr>\n",
       "    <tr>\n",
       "      <td>1</td>\n",
       "      <td>r1269</td>\n",
       "      <td>h_138</td>\n",
       "      <td>c_309</td>\n",
       "      <td>2016-03-14 13:57:45</td>\n",
       "      <td>2016-03-26</td>\n",
       "      <td>11:30:00</td>\n",
       "      <td>2016-03-29</td>\n",
       "      <td>4</td>\n",
       "      <td>115200</td>\n",
       "      <td>2016-03-26 11:30:00</td>\n",
       "      <td>2016-03-14</td>\n",
       "      <td>spring</td>\n",
       "      <td>일</td>\n",
       "      <td>2016-03-26</td>\n",
       "      <td>True</td>\n",
       "      <td>True</td>\n",
       "    </tr>\n",
       "    <tr>\n",
       "      <td>2</td>\n",
       "      <td>r2192</td>\n",
       "      <td>h_267</td>\n",
       "      <td>c_547</td>\n",
       "      <td>2016-03-21 09:23:13</td>\n",
       "      <td>2016-03-26</td>\n",
       "      <td>11:00:00</td>\n",
       "      <td>2016-03-27</td>\n",
       "      <td>2</td>\n",
       "      <td>19600</td>\n",
       "      <td>2016-03-26 11:00:00</td>\n",
       "      <td>2016-03-21</td>\n",
       "      <td>spring</td>\n",
       "      <td>일</td>\n",
       "      <td>2016-03-26</td>\n",
       "      <td>True</td>\n",
       "      <td>True</td>\n",
       "    </tr>\n",
       "    <tr>\n",
       "      <td>3</td>\n",
       "      <td>r2288</td>\n",
       "      <td>h_144</td>\n",
       "      <td>c_574</td>\n",
       "      <td>2016-03-05 23:44:17</td>\n",
       "      <td>2016-03-26</td>\n",
       "      <td>12:30:00</td>\n",
       "      <td>2016-03-28</td>\n",
       "      <td>3</td>\n",
       "      <td>60000</td>\n",
       "      <td>2016-03-26 12:30:00</td>\n",
       "      <td>2016-03-05</td>\n",
       "      <td>spring</td>\n",
       "      <td>금</td>\n",
       "      <td>2016-03-26</td>\n",
       "      <td>True</td>\n",
       "      <td>True</td>\n",
       "    </tr>\n",
       "    <tr>\n",
       "      <td>4</td>\n",
       "      <td>r2987</td>\n",
       "      <td>h_230</td>\n",
       "      <td>c_754</td>\n",
       "      <td>2016-03-21 07:00:01</td>\n",
       "      <td>2016-03-26</td>\n",
       "      <td>10:00:00</td>\n",
       "      <td>2016-03-27</td>\n",
       "      <td>2</td>\n",
       "      <td>34800</td>\n",
       "      <td>2016-03-26 10:00:00</td>\n",
       "      <td>2016-03-21</td>\n",
       "      <td>spring</td>\n",
       "      <td>일</td>\n",
       "      <td>2016-03-26</td>\n",
       "      <td>True</td>\n",
       "      <td>True</td>\n",
       "    </tr>\n",
       "    <tr>\n",
       "      <td>...</td>\n",
       "      <td>...</td>\n",
       "      <td>...</td>\n",
       "      <td>...</td>\n",
       "      <td>...</td>\n",
       "      <td>...</td>\n",
       "      <td>...</td>\n",
       "      <td>...</td>\n",
       "      <td>...</td>\n",
       "      <td>...</td>\n",
       "      <td>...</td>\n",
       "      <td>...</td>\n",
       "      <td>...</td>\n",
       "      <td>...</td>\n",
       "      <td>...</td>\n",
       "      <td>...</td>\n",
       "      <td>...</td>\n",
       "    </tr>\n",
       "    <tr>\n",
       "      <td>4025</td>\n",
       "      <td>r3904</td>\n",
       "      <td>h_240</td>\n",
       "      <td>c_970</td>\n",
       "      <td>2018-04-10 10:01:59</td>\n",
       "      <td>2018-04-10</td>\n",
       "      <td>12:00:00</td>\n",
       "      <td>2018-04-13</td>\n",
       "      <td>4</td>\n",
       "      <td>320400</td>\n",
       "      <td>2018-04-10 12:00:00</td>\n",
       "      <td>2018-04-10</td>\n",
       "      <td>spring</td>\n",
       "      <td>월</td>\n",
       "      <td>2018-04-10</td>\n",
       "      <td>False</td>\n",
       "      <td>False</td>\n",
       "    </tr>\n",
       "    <tr>\n",
       "      <td>4026</td>\n",
       "      <td>r3905</td>\n",
       "      <td>h_230</td>\n",
       "      <td>c_970</td>\n",
       "      <td>2018-07-02 01:37:45</td>\n",
       "      <td>2018-07-24</td>\n",
       "      <td>12:30:00</td>\n",
       "      <td>2018-07-25</td>\n",
       "      <td>3</td>\n",
       "      <td>52200</td>\n",
       "      <td>2018-07-24 12:30:00</td>\n",
       "      <td>2018-07-02</td>\n",
       "      <td>summer</td>\n",
       "      <td>일</td>\n",
       "      <td>2018-07-24</td>\n",
       "      <td>False</td>\n",
       "      <td>False</td>\n",
       "    </tr>\n",
       "    <tr>\n",
       "      <td>4027</td>\n",
       "      <td>r3936</td>\n",
       "      <td>h_46</td>\n",
       "      <td>c_979</td>\n",
       "      <td>2018-09-10 05:48:22</td>\n",
       "      <td>2018-10-02</td>\n",
       "      <td>12:00:00</td>\n",
       "      <td>2018-10-05</td>\n",
       "      <td>3</td>\n",
       "      <td>166500</td>\n",
       "      <td>2018-10-02 12:00:00</td>\n",
       "      <td>2018-09-10</td>\n",
       "      <td>autumn</td>\n",
       "      <td>일</td>\n",
       "      <td>2018-10-02</td>\n",
       "      <td>False</td>\n",
       "      <td>False</td>\n",
       "    </tr>\n",
       "    <tr>\n",
       "      <td>4028</td>\n",
       "      <td>r3959</td>\n",
       "      <td>h_93</td>\n",
       "      <td>c_983</td>\n",
       "      <td>2018-02-16 11:01:40</td>\n",
       "      <td>2018-03-15</td>\n",
       "      <td>11:00:00</td>\n",
       "      <td>2018-03-17</td>\n",
       "      <td>3</td>\n",
       "      <td>58800</td>\n",
       "      <td>2018-03-15 11:00:00</td>\n",
       "      <td>2018-02-16</td>\n",
       "      <td>winter</td>\n",
       "      <td>목</td>\n",
       "      <td>2018-03-15</td>\n",
       "      <td>False</td>\n",
       "      <td>False</td>\n",
       "    </tr>\n",
       "    <tr>\n",
       "      <td>4029</td>\n",
       "      <td>r4020</td>\n",
       "      <td>h_243</td>\n",
       "      <td>c_996</td>\n",
       "      <td>2018-04-22 20:41:29</td>\n",
       "      <td>2018-05-21</td>\n",
       "      <td>12:00:00</td>\n",
       "      <td>2018-05-22</td>\n",
       "      <td>2</td>\n",
       "      <td>55400</td>\n",
       "      <td>2018-05-21 12:00:00</td>\n",
       "      <td>2018-04-22</td>\n",
       "      <td>spring</td>\n",
       "      <td>토</td>\n",
       "      <td>2018-05-21</td>\n",
       "      <td>False</td>\n",
       "      <td>False</td>\n",
       "    </tr>\n",
       "  </tbody>\n",
       "</table>\n",
       "<p>4030 rows × 16 columns</p>\n",
       "</div>"
      ],
      "text/plain": [
       "     reserve_id hotel_id customer_id    reserve_datetime checkin_date  \\\n",
       "0            r1     h_75         c_1 2016-03-06 13:09:42   2016-03-26   \n",
       "1         r1269    h_138       c_309 2016-03-14 13:57:45   2016-03-26   \n",
       "2         r2192    h_267       c_547 2016-03-21 09:23:13   2016-03-26   \n",
       "3         r2288    h_144       c_574 2016-03-05 23:44:17   2016-03-26   \n",
       "4         r2987    h_230       c_754 2016-03-21 07:00:01   2016-03-26   \n",
       "...         ...      ...         ...                 ...          ...   \n",
       "4025      r3904    h_240       c_970 2018-04-10 10:01:59   2018-04-10   \n",
       "4026      r3905    h_230       c_970 2018-07-02 01:37:45   2018-07-24   \n",
       "4027      r3936     h_46       c_979 2018-09-10 05:48:22   2018-10-02   \n",
       "4028      r3959     h_93       c_983 2018-02-16 11:01:40   2018-03-15   \n",
       "4029      r4020    h_243       c_996 2018-04-22 20:41:29   2018-05-21   \n",
       "\n",
       "     checkin_time checkout_date  people_num  total_price    checkin_datetime  \\\n",
       "0        10:00:00    2016-03-29           4        97200 2016-03-26 10:00:00   \n",
       "1        11:30:00    2016-03-29           4       115200 2016-03-26 11:30:00   \n",
       "2        11:00:00    2016-03-27           2        19600 2016-03-26 11:00:00   \n",
       "3        12:30:00    2016-03-28           3        60000 2016-03-26 12:30:00   \n",
       "4        10:00:00    2016-03-27           2        34800 2016-03-26 10:00:00   \n",
       "...           ...           ...         ...          ...                 ...   \n",
       "4025     12:00:00    2018-04-13           4       320400 2018-04-10 12:00:00   \n",
       "4026     12:30:00    2018-07-25           3        52200 2018-07-24 12:30:00   \n",
       "4027     12:00:00    2018-10-05           3       166500 2018-10-02 12:00:00   \n",
       "4028     11:00:00    2018-03-17           3        58800 2018-03-15 11:00:00   \n",
       "4029     12:00:00    2018-05-22           2        55400 2018-05-21 12:00:00   \n",
       "\n",
       "     reserve_date reserve_season dayofweek  target_day  holidayday_flg  \\\n",
       "0      2016-03-06         spring         토  2016-03-26            True   \n",
       "1      2016-03-14         spring         일  2016-03-26            True   \n",
       "2      2016-03-21         spring         일  2016-03-26            True   \n",
       "3      2016-03-05         spring         금  2016-03-26            True   \n",
       "4      2016-03-21         spring         일  2016-03-26            True   \n",
       "...           ...            ...       ...         ...             ...   \n",
       "4025   2018-04-10         spring         월  2018-04-10           False   \n",
       "4026   2018-07-02         summer         일  2018-07-24           False   \n",
       "4027   2018-09-10         autumn         일  2018-10-02           False   \n",
       "4028   2018-02-16         winter         목  2018-03-15           False   \n",
       "4029   2018-04-22         spring         토  2018-05-21           False   \n",
       "\n",
       "      nextday_is_holiday_flg  \n",
       "0                       True  \n",
       "1                       True  \n",
       "2                       True  \n",
       "3                       True  \n",
       "4                       True  \n",
       "...                      ...  \n",
       "4025                   False  \n",
       "4026                   False  \n",
       "4027                   False  \n",
       "4028                   False  \n",
       "4029                   False  \n",
       "\n",
       "[4030 rows x 16 columns]"
      ]
     },
     "execution_count": 116,
     "metadata": {},
     "output_type": "execute_result"
    }
   ],
   "source": [
    "# 휴일 마스터와 결합.\n",
    "pd.merge(reserve_tb, holiday_mst, left_on='checkin_date',right_on='target_day')"
   ]
  },
  {
   "cell_type": "code",
   "execution_count": null,
   "metadata": {},
   "outputs": [],
   "source": []
  },
  {
   "cell_type": "code",
   "execution_count": null,
   "metadata": {},
   "outputs": [],
   "source": []
  },
  {
   "cell_type": "code",
   "execution_count": null,
   "metadata": {},
   "outputs": [],
   "source": []
  },
  {
   "cell_type": "code",
   "execution_count": null,
   "metadata": {},
   "outputs": [],
   "source": []
  }
 ],
 "metadata": {
  "kernelspec": {
   "display_name": "suhyun3",
   "language": "python",
   "name": "suhyun3"
  },
  "language_info": {
   "codemirror_mode": {
    "name": "ipython",
    "version": 3
   },
   "file_extension": ".py",
   "mimetype": "text/x-python",
   "name": "python",
   "nbconvert_exporter": "python",
   "pygments_lexer": "ipython3",
   "version": "3.7.4"
  }
 },
 "nbformat": 4,
 "nbformat_minor": 4
}
