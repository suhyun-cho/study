{
 "cells": [
  {
   "cell_type": "markdown",
   "metadata": {},
   "source": [
    "# 6장. 생성\n",
    "어느 분류에 속하는 데이터 수가 다른 분류에 속하는 데이터에 비해 매우 적은 상태일 경우 데이터를 생성해야 함.\n",
    "\n",
    "> #### 불균형한 데이터를 대처하는 방법\n",
    "* 머신러닝 모델을 만들 때 가중치를 부여하는 법.\n",
    "* 데이터를 변경하여 불균형한 상태 해소.\n",
    "    * 적은 데이터를 늘리는 오버샘플링 \n",
    "    * 많으느 데이터를 줄이는 언더샘플링  \n",
    "    * 두 가지 방법을 모두 사용하는 방법 \n",
    "\n",
    "=> 가중치를 부여하는 방법은 머신러닝 모델의 종류에 따라 특성이 달라지고 사용하기 까다로우며, 제공되는 라이브러리에 따라서는 이용할 수 없는 경우도 있다.\n",
    "\n",
    "    \n",
    "    \n",
    "    "
   ]
  },
  {
   "cell_type": "markdown",
   "metadata": {},
   "source": [
    "## 6.1 언더샘플링으로 데이터 불균형 조정하기\n",
    "> 1) 데이터 선택 방법은 중복선택 (같은 데이터를 두 번 이상 선택)을 허용하지 않는 것이 좋다.\n",
    "* 중복 선택으로 특정 데이터가 여러 번 선택되면 데이터가 편중될 수 있어 과학습이 발생되기 쉬우므로\n",
    "\n",
    "> 2) 샘플링 수가 적을 때 데이터 편향이 없는 랜덤 샘플링을 구현하기 위해 <br>\n",
    "미리 데이터를 클러스터링 하여 작성된 크러스터별로 샘플링을 실행하는 방법 있음.\n",
    "* 그러나 언더샘플링은 데이터를 걸러서 정보량을 적게 만드는 방법이기 때문에 되도록 사용하지 않는 게 좋음.\n",
    "\n",
    "> 3) 오버샘플링과 언더샘플링을 같이 사용하는 법\n",
    "* 오버샘플링으로 악영향이 미치지 않는 정도까지만 데이터양이 적은 쪽 데이터를 늘리고,\n",
    "* 언더샘플링으로 불균형이 해소되는 정도까지만 데이터양이 많은 쪽 데이터를 줄이는 것."
   ]
  },
  {
   "cell_type": "markdown",
   "metadata": {},
   "source": [
    "## 6.2 오버샘플링으로 데이터 불균형 조정하기\n",
    "\n",
    "#### 랜덤샘플링으로 오버샘플링 할 경우 문제\n",
    "* 간단하지만, 완전히 똑같은 데이터가 생성되기 때문에 과학습이 발생할 수 있음.\n",
    "\n",
    "> #### SMOTE (Synthetic Minority Over-samplling Technique) 기법 \n",
    "* SMOTE는 오버샘플링을 할 때 원본 데이터를 기반으로 새로운 데이터를 생성하는 방법.\n",
    "* SMOTE의 데이터 생성부분 알고리즘 개요\n",
    "    * 대상선택 -> 대상 근처의 데이터를 선택 후보로 지정 -> 선택 후보 중 하나의 데이터를 선택 -> 두 가지 데이터로 새로운 데이터 생성\n",
    "* SMOTE로 생성된 데이터는 원본 데이터와 같은 특성을 유지하면서 약간의 노이즈를 더한 데이터를 의미한다. \n",
    "    * 그 결과 단순 랜덤 샘플링으로 원본 데이터를 복사하는 것 보다 좀 더 자연스럽게 발생한 데이터에 가까운 값을 가짐.\n",
    "\n",
    "* SMOTE기법 단점\n",
    "    * SMOTE는 직선상값을 샘플링하는 방법이기 때문에, 차원 수 (생성할 데이터의 열수)가 큰 경우는 편중된 샘플링이 되기 쉽다.\n",
    "         * 차원 수가 큰 경우엔 언더샘플링과 배깅을 조합하여 예측 모델을 구축하는 게 좋음."
   ]
  },
  {
   "cell_type": "markdown",
   "metadata": {},
   "source": [
    "### Q1. 오버샘플링\n",
    "장애가 발생하지 않은 레코드가 927건, 장애가 발생한 레코드가 73건 이므로 , <br>\n",
    "장애가 발생한 레코드를 SMOTE로 오버샘플링하여 장애가 발생하지 않은 레코드의 건수에 가깝게 만든다. <br>\n",
    "SMOTE의 k매개변수는 5로 지정. \n"
   ]
  },
  {
   "cell_type": "code",
   "execution_count": 1,
   "metadata": {},
   "outputs": [],
   "source": [
    "import pandas as pd\n",
    "import numpy as np"
   ]
  },
  {
   "cell_type": "code",
   "execution_count": 2,
   "metadata": {},
   "outputs": [],
   "source": [
    "# warning 무시\n",
    "import warnings\n",
    "warnings.filterwarnings(action='ignore')"
   ]
  },
  {
   "cell_type": "code",
   "execution_count": 3,
   "metadata": {},
   "outputs": [
    {
     "data": {
      "text/html": [
       "<div>\n",
       "<style scoped>\n",
       "    .dataframe tbody tr th:only-of-type {\n",
       "        vertical-align: middle;\n",
       "    }\n",
       "\n",
       "    .dataframe tbody tr th {\n",
       "        vertical-align: top;\n",
       "    }\n",
       "\n",
       "    .dataframe thead th {\n",
       "        text-align: right;\n",
       "    }\n",
       "</style>\n",
       "<table border=\"1\" class=\"dataframe\">\n",
       "  <thead>\n",
       "    <tr style=\"text-align: right;\">\n",
       "      <th></th>\n",
       "      <th>type</th>\n",
       "      <th>length</th>\n",
       "      <th>thickness</th>\n",
       "      <th>fault_flg</th>\n",
       "    </tr>\n",
       "  </thead>\n",
       "  <tbody>\n",
       "    <tr>\n",
       "      <th>0</th>\n",
       "      <td>E</td>\n",
       "      <td>274.027383</td>\n",
       "      <td>40.241131</td>\n",
       "      <td>False</td>\n",
       "    </tr>\n",
       "    <tr>\n",
       "      <th>1</th>\n",
       "      <td>D</td>\n",
       "      <td>86.319269</td>\n",
       "      <td>16.906715</td>\n",
       "      <td>False</td>\n",
       "    </tr>\n",
       "    <tr>\n",
       "      <th>2</th>\n",
       "      <td>E</td>\n",
       "      <td>123.940388</td>\n",
       "      <td>1.018462</td>\n",
       "      <td>False</td>\n",
       "    </tr>\n",
       "    <tr>\n",
       "      <th>3</th>\n",
       "      <td>B</td>\n",
       "      <td>175.554886</td>\n",
       "      <td>16.414924</td>\n",
       "      <td>False</td>\n",
       "    </tr>\n",
       "    <tr>\n",
       "      <th>4</th>\n",
       "      <td>B</td>\n",
       "      <td>244.934740</td>\n",
       "      <td>29.061081</td>\n",
       "      <td>False</td>\n",
       "    </tr>\n",
       "  </tbody>\n",
       "</table>\n",
       "</div>"
      ],
      "text/plain": [
       "  type      length  thickness  fault_flg\n",
       "0    E  274.027383  40.241131      False\n",
       "1    D   86.319269  16.906715      False\n",
       "2    E  123.940388   1.018462      False\n",
       "3    B  175.554886  16.414924      False\n",
       "4    B  244.934740  29.061081      False"
      ]
     },
     "execution_count": 3,
     "metadata": {},
     "output_type": "execute_result"
    }
   ],
   "source": [
    "production_tb=pd.read_csv('./data/production.csv',encoding='UTF-8')\n",
    "production_tb.head()"
   ]
  },
  {
   "cell_type": "code",
   "execution_count": 27,
   "metadata": {},
   "outputs": [],
   "source": [
    "from imblearn.over_sampling import SMOTE\n",
    "\n",
    "# ratio는 불균형 데이터에서 적은 열의 데이터를 많은 열의 몇 할까지 늘릴지 설정한다.\n",
    "\n",
    "# auto는 수가 같아질 때 까지 늘리고, 0.5로 설정하면 5할까지 데이터를 늘린다.\n",
    "\n",
    "# k_neighbors는 smote의 k매개변수\n",
    "\n",
    "sm = SMOTE(sampling_strategy='auto', k_neighbors=5, random_state=71)\n",
    "\n",
    "# 오버샘플링을 실행한다.\n",
    "balance_data, balance_target = sm.fit_sample(production_tb[['length','thickness']], production_tb['fault_flg'])\n"
   ]
  },
  {
   "cell_type": "markdown",
   "metadata": {},
   "source": [
    "* 이 예시에서 이용하는 라이브러리에는 범줏값을 오버샘플링 할 수 없다. \n",
    "    * 범줏값을 오버샘플링 하려면 라이브러리의 내용을 변경하거나 SMOTE함수를 처음부터 만들어야 함."
   ]
  },
  {
   "cell_type": "code",
   "execution_count": 28,
   "metadata": {
    "run_control": {
     "marked": false
    }
   },
   "outputs": [
    {
     "data": {
      "text/plain": [
       "1000"
      ]
     },
     "execution_count": 28,
     "metadata": {},
     "output_type": "execute_result"
    }
   ],
   "source": [
    "len(production_tb)"
   ]
  },
  {
   "cell_type": "code",
   "execution_count": 29,
   "metadata": {},
   "outputs": [
    {
     "data": {
      "text/html": [
       "<div>\n",
       "<style scoped>\n",
       "    .dataframe tbody tr th:only-of-type {\n",
       "        vertical-align: middle;\n",
       "    }\n",
       "\n",
       "    .dataframe tbody tr th {\n",
       "        vertical-align: top;\n",
       "    }\n",
       "\n",
       "    .dataframe thead th {\n",
       "        text-align: right;\n",
       "    }\n",
       "</style>\n",
       "<table border=\"1\" class=\"dataframe\">\n",
       "  <thead>\n",
       "    <tr style=\"text-align: right;\">\n",
       "      <th></th>\n",
       "      <th>type</th>\n",
       "      <th>length</th>\n",
       "      <th>thickness</th>\n",
       "    </tr>\n",
       "    <tr>\n",
       "      <th>fault_flg</th>\n",
       "      <th></th>\n",
       "      <th></th>\n",
       "      <th></th>\n",
       "    </tr>\n",
       "  </thead>\n",
       "  <tbody>\n",
       "    <tr>\n",
       "      <th>False</th>\n",
       "      <td>948</td>\n",
       "      <td>948</td>\n",
       "      <td>948</td>\n",
       "    </tr>\n",
       "    <tr>\n",
       "      <th>True</th>\n",
       "      <td>52</td>\n",
       "      <td>52</td>\n",
       "      <td>52</td>\n",
       "    </tr>\n",
       "  </tbody>\n",
       "</table>\n",
       "</div>"
      ],
      "text/plain": [
       "           type  length  thickness\n",
       "fault_flg                         \n",
       "False       948     948        948\n",
       "True         52      52         52"
      ]
     },
     "execution_count": 29,
     "metadata": {},
     "output_type": "execute_result"
    }
   ],
   "source": [
    "production_tb.groupby(['fault_flg']).count()"
   ]
  },
  {
   "cell_type": "code",
   "execution_count": 48,
   "metadata": {},
   "outputs": [
    {
     "data": {
      "text/plain": [
       "1896"
      ]
     },
     "execution_count": 48,
     "metadata": {},
     "output_type": "execute_result"
    }
   ],
   "source": [
    "len(balance_data)"
   ]
  },
  {
   "cell_type": "markdown",
   "metadata": {},
   "source": [
    "### 결과 확인\n",
    "원본 테이블에서 False는 948개, True는 52개 였는데 오버샘플링 후 True도 948개로 False데이터 개수와 같아짐 ."
   ]
  },
  {
   "cell_type": "code",
   "execution_count": 46,
   "metadata": {},
   "outputs": [
    {
     "data": {
      "text/plain": [
       "True     948\n",
       "False    948\n",
       "Name: fault_flg, dtype: int64"
      ]
     },
     "execution_count": 46,
     "metadata": {},
     "output_type": "execute_result"
    }
   ],
   "source": [
    "# Series타입 카운트 할때는 value_counts\n",
    "balance_target.value_counts()"
   ]
  },
  {
   "cell_type": "code",
   "execution_count": null,
   "metadata": {},
   "outputs": [],
   "source": []
  }
 ],
 "metadata": {
  "hide_input": false,
  "kernelspec": {
   "display_name": "Python 3",
   "language": "python",
   "name": "python3"
  },
  "language_info": {
   "codemirror_mode": {
    "name": "ipython",
    "version": 3
   },
   "file_extension": ".py",
   "mimetype": "text/x-python",
   "name": "python",
   "nbconvert_exporter": "python",
   "pygments_lexer": "ipython3",
   "version": "3.7.3"
  },
  "varInspector": {
   "cols": {
    "lenName": 16,
    "lenType": 16,
    "lenVar": 40
   },
   "kernels_config": {
    "python": {
     "delete_cmd_postfix": "",
     "delete_cmd_prefix": "del ",
     "library": "var_list.py",
     "varRefreshCmd": "print(var_dic_list())"
    },
    "r": {
     "delete_cmd_postfix": ") ",
     "delete_cmd_prefix": "rm(",
     "library": "var_list.r",
     "varRefreshCmd": "cat(var_dic_list()) "
    }
   },
   "types_to_exclude": [
    "module",
    "function",
    "builtin_function_or_method",
    "instance",
    "_Feature"
   ],
   "window_display": false
  }
 },
 "nbformat": 4,
 "nbformat_minor": 4
}
