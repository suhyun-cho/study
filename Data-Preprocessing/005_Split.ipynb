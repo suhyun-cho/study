{
 "cells": [
  {
   "cell_type": "markdown",
   "metadata": {},
   "source": [
    "# 5장. 분할\n",
    "데이터 분할은 예측 모델을 평가할 때 필요한 전처리이다. <br>\n",
    "학습데이터와 검증 데이터는 같은 전처리를 적용하며, 되도록 같은 데이터로 묶어서 다루고 <br>\n",
    "예측 모델에 입력하기 직전 분할하는 것이 좋은 방법이다.\n",
    "* 예측 모델에 사용하는 데이터에는 예측 모델을 이용하여 예측할 때 사용하는 데이터가 있다. \n",
    "    * 여기선 이를 '적용 데이터'라 부름."
   ]
  },
  {
   "cell_type": "markdown",
   "metadata": {},
   "source": [
    "## 5.1 모델 검증을 위한 데이터 레코드 분할\n",
    "> #### 교차 검증(cross validaiton) \n",
    "교차검증은 데이터를 몇 개의 데이터로 나누어 그중 하나의 데이터는 평가용 데이터로, <br>\n",
    "나머지 데이터는 모델 학습을 실행한다.\n",
    "* 교차 검증은 분할할 수를 매개변수로 전달해야 하며, 이 매개변수를 '교차수' 라 한다.\n",
    "    * 교차수는 학습 데이터의 양과 계산량에 영향을 주므로, 정확도가 떨어지지 않을 정도의 학습 데이터양을 확보하면서 <br>\n",
    "    최소한의 교차수를 사용하길 추천.\n",
    "\n",
    "> #### 홀드아웃 검증 (Hold-out validation)\n",
    "교차검증용 데이터와는 별개로 최종 정확도 검증을 위한 데이터를 준비해두고, 이 데이터를 사용하여 모델의 정확도를 검증해 해결.\n",
    "\n",
    "> #### 과학습(over learning)\n",
    "과학습이란 학습 데이터에 과도하게 의존하게 되어 학습 데이터 외에는 제대로 된 예측을 할 수 없는 것을 말한다.\n",
    "\n"
   ]
  },
  {
   "cell_type": "markdown",
   "metadata": {},
   "source": [
    "### Q1. 교차검증\n",
    "데이터의 20%를 홀드아웃 검증으로 사용하고, 남은 데이터로 교차수 4의 교차검증 실행."
   ]
  },
  {
   "cell_type": "code",
   "execution_count": 2,
   "metadata": {},
   "outputs": [],
   "source": [
    "import pandas as pd\n",
    "import numpy as np"
   ]
  },
  {
   "cell_type": "code",
   "execution_count": 3,
   "metadata": {},
   "outputs": [],
   "source": [
    "# warning 무시\n",
    "import warnings\n",
    "warnings.filterwarnings(action='ignore')"
   ]
  },
  {
   "cell_type": "code",
   "execution_count": 4,
   "metadata": {},
   "outputs": [
    {
     "data": {
      "text/html": [
       "<div>\n",
       "<style scoped>\n",
       "    .dataframe tbody tr th:only-of-type {\n",
       "        vertical-align: middle;\n",
       "    }\n",
       "\n",
       "    .dataframe tbody tr th {\n",
       "        vertical-align: top;\n",
       "    }\n",
       "\n",
       "    .dataframe thead th {\n",
       "        text-align: right;\n",
       "    }\n",
       "</style>\n",
       "<table border=\"1\" class=\"dataframe\">\n",
       "  <thead>\n",
       "    <tr style=\"text-align: right;\">\n",
       "      <th></th>\n",
       "      <th>type</th>\n",
       "      <th>length</th>\n",
       "      <th>thickness</th>\n",
       "      <th>fault_flg</th>\n",
       "    </tr>\n",
       "  </thead>\n",
       "  <tbody>\n",
       "    <tr>\n",
       "      <th>0</th>\n",
       "      <td>E</td>\n",
       "      <td>274.027383</td>\n",
       "      <td>40.241131</td>\n",
       "      <td>False</td>\n",
       "    </tr>\n",
       "    <tr>\n",
       "      <th>1</th>\n",
       "      <td>D</td>\n",
       "      <td>86.319269</td>\n",
       "      <td>16.906715</td>\n",
       "      <td>False</td>\n",
       "    </tr>\n",
       "    <tr>\n",
       "      <th>2</th>\n",
       "      <td>E</td>\n",
       "      <td>123.940388</td>\n",
       "      <td>1.018462</td>\n",
       "      <td>False</td>\n",
       "    </tr>\n",
       "    <tr>\n",
       "      <th>3</th>\n",
       "      <td>B</td>\n",
       "      <td>175.554886</td>\n",
       "      <td>16.414924</td>\n",
       "      <td>False</td>\n",
       "    </tr>\n",
       "    <tr>\n",
       "      <th>4</th>\n",
       "      <td>B</td>\n",
       "      <td>244.934740</td>\n",
       "      <td>29.061081</td>\n",
       "      <td>False</td>\n",
       "    </tr>\n",
       "  </tbody>\n",
       "</table>\n",
       "</div>"
      ],
      "text/plain": [
       "  type      length  thickness  fault_flg\n",
       "0    E  274.027383  40.241131      False\n",
       "1    D   86.319269  16.906715      False\n",
       "2    E  123.940388   1.018462      False\n",
       "3    B  175.554886  16.414924      False\n",
       "4    B  244.934740  29.061081      False"
      ]
     },
     "execution_count": 4,
     "metadata": {},
     "output_type": "execute_result"
    }
   ],
   "source": [
    "production_tb=pd.read_csv('./data/production.csv',encoding='UTF-8')\n",
    "production_tb.head()"
   ]
  },
  {
   "cell_type": "code",
   "execution_count": 5,
   "metadata": {},
   "outputs": [],
   "source": [
    "from sklearn.model_selection import train_test_split\n",
    "from sklearn.model_selection import KFold"
   ]
  },
  {
   "cell_type": "code",
   "execution_count": 6,
   "metadata": {},
   "outputs": [],
   "source": [
    "# 홀드아웃 검증을 위한 데이터를 분할한다.\n",
    "# 예측 모델의 입력값과 예측 대상의 값을 각각 train_test_split 함수에 설정한다.\n",
    "# test_size는 검증 데이터의 분할이다.\n",
    "train_data, test_data, train_target, test_target = train_test_split(production_tb.drop('fault_flg',axis=1), production_tb[['fault_flg']], test_size=0.2)"
   ]
  },
  {
   "cell_type": "code",
   "execution_count": 7,
   "metadata": {},
   "outputs": [],
   "source": [
    "# train_test_split로 행 이름을 현재의 행 번호로 바꾼다.\n",
    "train_data.reset_index(inplace=True, drop=True)\n",
    "test_data.reset_index(inplace=True, drop=True)\n",
    "train_target.reset_index(inplace=True, drop=True)\n",
    "test_target.reset_index(inplace=True, drop=True)"
   ]
  },
  {
   "cell_type": "code",
   "execution_count": 8,
   "metadata": {},
   "outputs": [
    {
     "name": "stdout",
     "output_type": "stream",
     "text": [
      "train data: 800\n",
      "test data 200\n"
     ]
    }
   ],
   "source": [
    "print('train data:',len(train_target))\n",
    "print('test data',len(test_target))"
   ]
  },
  {
   "cell_type": "code",
   "execution_count": 9,
   "metadata": {},
   "outputs": [],
   "source": [
    "# 대상 행 번호 리스트를 생성한다.\n",
    "row_no_list=list(range(len(train_target)))     # train 800개, test 200개"
   ]
  },
  {
   "cell_type": "code",
   "execution_count": 11,
   "metadata": {},
   "outputs": [
    {
     "data": {
      "text/plain": [
       "800"
      ]
     },
     "execution_count": 11,
     "metadata": {},
     "output_type": "execute_result"
    }
   ],
   "source": [
    "len(row_no_list)"
   ]
  },
  {
   "cell_type": "code",
   "execution_count": 29,
   "metadata": {},
   "outputs": [],
   "source": [
    "# 교차검증을 위한 데이터로 분할한다.\n",
    "k_fold = KFold(n_splits=4, shuffle=True)      # KFold는 fold로 나누고 index를 반환해줌."
   ]
  },
  {
   "cell_type": "code",
   "execution_count": 35,
   "metadata": {},
   "outputs": [],
   "source": [
    "# 교차수만큼 반복 처리한다.\n",
    "for train_cv_no, test_cv_no in k_fold.split(row_no_list):    \n",
    "    train_cv = train_data.iloc[train_cv_no,:]\n",
    "    test_cv=train_data.iloc[test_cv_no,:]"
   ]
  },
  {
   "cell_type": "code",
   "execution_count": 37,
   "metadata": {},
   "outputs": [
    {
     "data": {
      "text/plain": [
       "600"
      ]
     },
     "execution_count": 37,
     "metadata": {},
     "output_type": "execute_result"
    }
   ],
   "source": [
    "len(train_cv)"
   ]
  },
  {
   "cell_type": "code",
   "execution_count": 47,
   "metadata": {},
   "outputs": [
    {
     "data": {
      "text/plain": [
       "200"
      ]
     },
     "execution_count": 47,
     "metadata": {},
     "output_type": "execute_result"
    }
   ],
   "source": [
    "len(test_cv)"
   ]
  },
  {
   "cell_type": "code",
   "execution_count": 48,
   "metadata": {},
   "outputs": [
    {
     "data": {
      "text/plain": [
       "array([  0,   3,   6,   8,  14,  15,  17,  24,  26,  28,  31,  36,  40,\n",
       "        44,  52,  57,  70,  74,  77,  83,  90,  92,  93,  94,  95,  97,\n",
       "        99, 102, 105, 106, 107, 114, 115, 116, 117, 120, 124, 130, 131,\n",
       "       137, 140, 141, 143, 144, 152, 153, 160, 164, 165, 170, 172, 176,\n",
       "       178, 185, 186, 188, 197, 203, 207, 209, 210, 212, 214, 216, 217,\n",
       "       218, 219, 221, 222, 225, 228, 229, 241, 243, 252, 253, 254, 259,\n",
       "       267, 269, 285, 288, 291, 295, 312, 313, 314, 322, 323, 327, 331,\n",
       "       332, 334, 335, 336, 337, 339, 341, 344, 347, 363, 369, 370, 372,\n",
       "       376, 377, 380, 383, 384, 386, 388, 392, 394, 404, 410, 412, 418,\n",
       "       421, 427, 428, 429, 435, 439, 441, 450, 451, 456, 457, 459, 465,\n",
       "       469, 471, 475, 476, 499, 511, 515, 522, 524, 525, 528, 532, 538,\n",
       "       546, 550, 554, 564, 571, 578, 580, 582, 595, 597, 617, 621, 629,\n",
       "       635, 636, 640, 641, 642, 645, 648, 649, 650, 653, 654, 669, 671,\n",
       "       672, 674, 682, 685, 689, 693, 698, 699, 701, 707, 713, 723, 727,\n",
       "       730, 739, 744, 752, 756, 757, 760, 762, 766, 767, 774, 775, 777,\n",
       "       780, 782, 785, 786, 791])"
      ]
     },
     "execution_count": 48,
     "metadata": {},
     "output_type": "execute_result"
    }
   ],
   "source": [
    "test_cv_no"
   ]
  },
  {
   "cell_type": "code",
   "execution_count": 49,
   "metadata": {},
   "outputs": [
    {
     "data": {
      "text/plain": [
       "array([  1,   2,   4,   5,   7,   9,  10,  11,  12,  13,  16,  18,  19,\n",
       "        20,  21,  22,  23,  25,  27,  29,  30,  32,  33,  34,  35,  37,\n",
       "        38,  39,  41,  42,  43,  45,  46,  47,  48,  49,  50,  51,  53,\n",
       "        54,  55,  56,  58,  59,  60,  61,  62,  63,  64,  65,  66,  67,\n",
       "        68,  69,  71,  72,  73,  75,  76,  78,  79,  80,  81,  82,  84,\n",
       "        85,  86,  87,  88,  89,  91,  96,  98, 100, 101, 103, 104, 108,\n",
       "       109, 110, 111, 112, 113, 118, 119, 121, 122, 123, 125, 126, 127,\n",
       "       128, 129, 132, 133, 134, 135, 136, 138, 139, 142, 145, 146, 147,\n",
       "       148, 149, 150, 151, 154, 155, 156, 157, 158, 159, 161, 162, 163,\n",
       "       166, 167, 168, 169, 171, 173, 174, 175, 177, 179, 180, 181, 182,\n",
       "       183, 184, 187, 189, 190, 191, 192, 193, 194, 195, 196, 198, 199,\n",
       "       200, 201, 202, 204, 205, 206, 208, 211, 213, 215, 220, 223, 224,\n",
       "       226, 227, 230, 231, 232, 233, 234, 235, 236, 237, 238, 239, 240,\n",
       "       242, 244, 245, 246, 247, 248, 249, 250, 251, 255, 256, 257, 258,\n",
       "       260, 261, 262, 263, 264, 265, 266, 268, 270, 271, 272, 273, 274,\n",
       "       275, 276, 277, 278, 279, 280, 281, 282, 283, 284, 286, 287, 289,\n",
       "       290, 292, 293, 294, 296, 297, 298, 299, 300, 301, 302, 303, 304,\n",
       "       305, 306, 307, 308, 309, 310, 311, 315, 316, 317, 318, 319, 320,\n",
       "       321, 324, 325, 326, 328, 329, 330, 333, 338, 340, 342, 343, 345,\n",
       "       346, 348, 349, 350, 351, 352, 353, 354, 355, 356, 357, 358, 359,\n",
       "       360, 361, 362, 364, 365, 366, 367, 368, 371, 373, 374, 375, 378,\n",
       "       379, 381, 382, 385, 387, 389, 390, 391, 393, 395, 396, 397, 398,\n",
       "       399, 400, 401, 402, 403, 405, 406, 407, 408, 409, 411, 413, 414,\n",
       "       415, 416, 417, 419, 420, 422, 423, 424, 425, 426, 430, 431, 432,\n",
       "       433, 434, 436, 437, 438, 440, 442, 443, 444, 445, 446, 447, 448,\n",
       "       449, 452, 453, 454, 455, 458, 460, 461, 462, 463, 464, 466, 467,\n",
       "       468, 470, 472, 473, 474, 477, 478, 479, 480, 481, 482, 483, 484,\n",
       "       485, 486, 487, 488, 489, 490, 491, 492, 493, 494, 495, 496, 497,\n",
       "       498, 500, 501, 502, 503, 504, 505, 506, 507, 508, 509, 510, 512,\n",
       "       513, 514, 516, 517, 518, 519, 520, 521, 523, 526, 527, 529, 530,\n",
       "       531, 533, 534, 535, 536, 537, 539, 540, 541, 542, 543, 544, 545,\n",
       "       547, 548, 549, 551, 552, 553, 555, 556, 557, 558, 559, 560, 561,\n",
       "       562, 563, 565, 566, 567, 568, 569, 570, 572, 573, 574, 575, 576,\n",
       "       577, 579, 581, 583, 584, 585, 586, 587, 588, 589, 590, 591, 592,\n",
       "       593, 594, 596, 598, 599, 600, 601, 602, 603, 604, 605, 606, 607,\n",
       "       608, 609, 610, 611, 612, 613, 614, 615, 616, 618, 619, 620, 622,\n",
       "       623, 624, 625, 626, 627, 628, 630, 631, 632, 633, 634, 637, 638,\n",
       "       639, 643, 644, 646, 647, 651, 652, 655, 656, 657, 658, 659, 660,\n",
       "       661, 662, 663, 664, 665, 666, 667, 668, 670, 673, 675, 676, 677,\n",
       "       678, 679, 680, 681, 683, 684, 686, 687, 688, 690, 691, 692, 694,\n",
       "       695, 696, 697, 700, 702, 703, 704, 705, 706, 708, 709, 710, 711,\n",
       "       712, 714, 715, 716, 717, 718, 719, 720, 721, 722, 724, 725, 726,\n",
       "       728, 729, 731, 732, 733, 734, 735, 736, 737, 738, 740, 741, 742,\n",
       "       743, 745, 746, 747, 748, 749, 750, 751, 753, 754, 755, 758, 759,\n",
       "       761, 763, 764, 765, 768, 769, 770, 771, 772, 773, 776, 778, 779,\n",
       "       781, 783, 784, 787, 788, 789, 790, 792, 793, 794, 795, 796, 797,\n",
       "       798, 799])"
      ]
     },
     "execution_count": 49,
     "metadata": {},
     "output_type": "execute_result"
    }
   ],
   "source": [
    "train_cv_no"
   ]
  },
  {
   "cell_type": "markdown",
   "metadata": {},
   "source": [
    "* train_data와 train_target을 학습 데이터로, \n",
    "* test_data와 test_target을 검증 데이터로 머신러닝 모델을 구축하고 검증한다.\n",
    "\n",
    "* 교차 검증 결과를 정리한다.\n",
    "\n",
    "* train을 학습 데이터로, private_test를 검증 데이터로 머신러닝 모델을 구축하고 검증한다."
   ]
  },
  {
   "cell_type": "markdown",
   "metadata": {},
   "source": [
    "---------------\n",
    "## 5.2 모델 검증을 위한 시간 데이터 분할\n",
    "교차 검증으로 모델의 정확도가 부당하게 높아지는 경우가 많아 시간 데이터를 이용한 단순한 교차 검증은 유효하지 않다.\n",
    "\n",
    "* 해결 방법 : 학습 데이터와 검증 데이터를 시간축을 기준으로 이동하면서 검증하는 방법.\n"
   ]
  },
  {
   "cell_type": "markdown",
   "metadata": {},
   "source": [
    "### Q1. 학습 및 검증을 위한 시간 데이터 준비\n",
    "학습 데이터와 검증 데이터를 시간축을 기준으로 한 달씩 이동하면서 생성한다.\n",
    "* 학습 기간은 24개월, 검증 기간은 12개월, 이동하는 기간은 12개월로 한다."
   ]
  },
  {
   "cell_type": "code",
   "execution_count": 13,
   "metadata": {},
   "outputs": [
    {
     "data": {
      "text/html": [
       "<div>\n",
       "<style scoped>\n",
       "    .dataframe tbody tr th:only-of-type {\n",
       "        vertical-align: middle;\n",
       "    }\n",
       "\n",
       "    .dataframe tbody tr th {\n",
       "        vertical-align: top;\n",
       "    }\n",
       "\n",
       "    .dataframe thead th {\n",
       "        text-align: right;\n",
       "    }\n",
       "</style>\n",
       "<table border=\"1\" class=\"dataframe\">\n",
       "  <thead>\n",
       "    <tr style=\"text-align: right;\">\n",
       "      <th></th>\n",
       "      <th>year_month</th>\n",
       "      <th>sales_amount</th>\n",
       "      <th>customer_number</th>\n",
       "    </tr>\n",
       "  </thead>\n",
       "  <tbody>\n",
       "    <tr>\n",
       "      <th>0</th>\n",
       "      <td>2010-01</td>\n",
       "      <td>7191240</td>\n",
       "      <td>6885</td>\n",
       "    </tr>\n",
       "    <tr>\n",
       "      <th>1</th>\n",
       "      <td>2010-02</td>\n",
       "      <td>6253663</td>\n",
       "      <td>6824</td>\n",
       "    </tr>\n",
       "    <tr>\n",
       "      <th>2</th>\n",
       "      <td>2010-03</td>\n",
       "      <td>6868320</td>\n",
       "      <td>7834</td>\n",
       "    </tr>\n",
       "    <tr>\n",
       "      <th>3</th>\n",
       "      <td>2010-04</td>\n",
       "      <td>7147388</td>\n",
       "      <td>8552</td>\n",
       "    </tr>\n",
       "    <tr>\n",
       "      <th>4</th>\n",
       "      <td>2010-05</td>\n",
       "      <td>8755929</td>\n",
       "      <td>8171</td>\n",
       "    </tr>\n",
       "  </tbody>\n",
       "</table>\n",
       "</div>"
      ],
      "text/plain": [
       "  year_month  sales_amount  customer_number\n",
       "0    2010-01       7191240             6885\n",
       "1    2010-02       6253663             6824\n",
       "2    2010-03       6868320             7834\n",
       "3    2010-04       7147388             8552\n",
       "4    2010-05       8755929             8171"
      ]
     },
     "execution_count": 13,
     "metadata": {},
     "output_type": "execute_result"
    }
   ],
   "source": [
    "monthly_index_tb=pd.read_csv('./data/monthly_index.csv',encoding='UTF-8')\n",
    "monthly_index_tb.head()"
   ]
  },
  {
   "cell_type": "code",
   "execution_count": 14,
   "metadata": {},
   "outputs": [],
   "source": [
    "# train_window_start 에 맨 처음 학습 데이터의 시작 행 번호를 지정한다.\n",
    "train_window_start =1\n",
    "\n",
    "# train_window_end에 맨 처음 학습 데이터의 종료 행 번호를 지정한다.\n",
    "train_window_end=24\n",
    "\n",
    "# horizon에 검증 데이터의 데이터 수를 지정한다.\n",
    "horizon = 12\n",
    "\n",
    "# skip 에 이동할 데이터 수를 설정한다.\n",
    "skip=12"
   ]
  },
  {
   "cell_type": "code",
   "execution_count": 16,
   "metadata": {},
   "outputs": [
    {
     "data": {
      "text/html": [
       "<div>\n",
       "<style scoped>\n",
       "    .dataframe tbody tr th:only-of-type {\n",
       "        vertical-align: middle;\n",
       "    }\n",
       "\n",
       "    .dataframe tbody tr th {\n",
       "        vertical-align: top;\n",
       "    }\n",
       "\n",
       "    .dataframe thead th {\n",
       "        text-align: right;\n",
       "    }\n",
       "</style>\n",
       "<table border=\"1\" class=\"dataframe\">\n",
       "  <thead>\n",
       "    <tr style=\"text-align: right;\">\n",
       "      <th></th>\n",
       "      <th>year_month</th>\n",
       "      <th>sales_amount</th>\n",
       "      <th>customer_number</th>\n",
       "    </tr>\n",
       "  </thead>\n",
       "  <tbody>\n",
       "    <tr>\n",
       "      <th>0</th>\n",
       "      <td>2010-01</td>\n",
       "      <td>7191240</td>\n",
       "      <td>6885</td>\n",
       "    </tr>\n",
       "    <tr>\n",
       "      <th>1</th>\n",
       "      <td>2010-02</td>\n",
       "      <td>6253663</td>\n",
       "      <td>6824</td>\n",
       "    </tr>\n",
       "    <tr>\n",
       "      <th>2</th>\n",
       "      <td>2010-03</td>\n",
       "      <td>6868320</td>\n",
       "      <td>7834</td>\n",
       "    </tr>\n",
       "    <tr>\n",
       "      <th>3</th>\n",
       "      <td>2010-04</td>\n",
       "      <td>7147388</td>\n",
       "      <td>8552</td>\n",
       "    </tr>\n",
       "    <tr>\n",
       "      <th>4</th>\n",
       "      <td>2010-05</td>\n",
       "      <td>8755929</td>\n",
       "      <td>8171</td>\n",
       "    </tr>\n",
       "  </tbody>\n",
       "</table>\n",
       "</div>"
      ],
      "text/plain": [
       "  year_month  sales_amount  customer_number\n",
       "0    2010-01       7191240             6885\n",
       "1    2010-02       6253663             6824\n",
       "2    2010-03       6868320             7834\n",
       "3    2010-04       7147388             8552\n",
       "4    2010-05       8755929             8171"
      ]
     },
     "execution_count": 16,
     "metadata": {},
     "output_type": "execute_result"
    }
   ],
   "source": [
    "# 연월을 기준으로 데이터를 정렬한다.\n",
    "monthly_index_tb.sort_values(by='year_month').head()"
   ]
  },
  {
   "cell_type": "code",
   "execution_count": 19,
   "metadata": {},
   "outputs": [
    {
     "data": {
      "text/plain": [
       "120"
      ]
     },
     "execution_count": 19,
     "metadata": {},
     "output_type": "execute_result"
    }
   ],
   "source": [
    "len(monthly_index_tb)"
   ]
  },
  {
   "cell_type": "code",
   "execution_count": 23,
   "metadata": {},
   "outputs": [],
   "source": [
    "while True:\n",
    "    # 검증 데이터의 종료 행 번호를 계산한다.\n",
    "    test_window_end = train_window_end + horizon\n",
    "    \n",
    "    # 행 번호를 지정하여 원본 데이터에서 학습 데이터를 구한다.\n",
    "    # train_window_start를 1로 고정하면 학습 데이터를 늘려가는 검증으로 변환할 수 있다. \n",
    "    train = monthly_index_tb[train_window_start:train_window_end]\n",
    "    \n",
    "    test = monthly_index_tb[(train_window_end + 1) : test_window_end]\n",
    "    \n",
    "    if test_window_end >= len(monthly_index_tb.index):\n",
    "        break\n",
    "    train_window_start += skip\n",
    "    train_window_end += skip\n",
    "    "
   ]
  },
  {
   "cell_type": "code",
   "execution_count": 20,
   "metadata": {},
   "outputs": [
    {
     "data": {
      "text/html": [
       "<div>\n",
       "<style scoped>\n",
       "    .dataframe tbody tr th:only-of-type {\n",
       "        vertical-align: middle;\n",
       "    }\n",
       "\n",
       "    .dataframe tbody tr th {\n",
       "        vertical-align: top;\n",
       "    }\n",
       "\n",
       "    .dataframe thead th {\n",
       "        text-align: right;\n",
       "    }\n",
       "</style>\n",
       "<table border=\"1\" class=\"dataframe\">\n",
       "  <thead>\n",
       "    <tr style=\"text-align: right;\">\n",
       "      <th></th>\n",
       "      <th>year_month</th>\n",
       "      <th>sales_amount</th>\n",
       "      <th>customer_number</th>\n",
       "    </tr>\n",
       "  </thead>\n",
       "  <tbody>\n",
       "    <tr>\n",
       "      <th>1</th>\n",
       "      <td>2010-02</td>\n",
       "      <td>6253663</td>\n",
       "      <td>6824</td>\n",
       "    </tr>\n",
       "    <tr>\n",
       "      <th>2</th>\n",
       "      <td>2010-03</td>\n",
       "      <td>6868320</td>\n",
       "      <td>7834</td>\n",
       "    </tr>\n",
       "    <tr>\n",
       "      <th>3</th>\n",
       "      <td>2010-04</td>\n",
       "      <td>7147388</td>\n",
       "      <td>8552</td>\n",
       "    </tr>\n",
       "    <tr>\n",
       "      <th>4</th>\n",
       "      <td>2010-05</td>\n",
       "      <td>8755929</td>\n",
       "      <td>8171</td>\n",
       "    </tr>\n",
       "    <tr>\n",
       "      <th>5</th>\n",
       "      <td>2010-06</td>\n",
       "      <td>8373124</td>\n",
       "      <td>8925</td>\n",
       "    </tr>\n",
       "    <tr>\n",
       "      <th>6</th>\n",
       "      <td>2010-07</td>\n",
       "      <td>9916308</td>\n",
       "      <td>10104</td>\n",
       "    </tr>\n",
       "    <tr>\n",
       "      <th>7</th>\n",
       "      <td>2010-08</td>\n",
       "      <td>12393468</td>\n",
       "      <td>11236</td>\n",
       "    </tr>\n",
       "    <tr>\n",
       "      <th>8</th>\n",
       "      <td>2010-09</td>\n",
       "      <td>11116463</td>\n",
       "      <td>9983</td>\n",
       "    </tr>\n",
       "    <tr>\n",
       "      <th>9</th>\n",
       "      <td>2010-10</td>\n",
       "      <td>8933028</td>\n",
       "      <td>10477</td>\n",
       "    </tr>\n",
       "    <tr>\n",
       "      <th>10</th>\n",
       "      <td>2010-11</td>\n",
       "      <td>15456653</td>\n",
       "      <td>13283</td>\n",
       "    </tr>\n",
       "    <tr>\n",
       "      <th>11</th>\n",
       "      <td>2010-12</td>\n",
       "      <td>10358716</td>\n",
       "      <td>12275</td>\n",
       "    </tr>\n",
       "    <tr>\n",
       "      <th>12</th>\n",
       "      <td>2011-01</td>\n",
       "      <td>14693940</td>\n",
       "      <td>12974</td>\n",
       "    </tr>\n",
       "  </tbody>\n",
       "</table>\n",
       "</div>"
      ],
      "text/plain": [
       "   year_month  sales_amount  customer_number\n",
       "1     2010-02       6253663             6824\n",
       "2     2010-03       6868320             7834\n",
       "3     2010-04       7147388             8552\n",
       "4     2010-05       8755929             8171\n",
       "5     2010-06       8373124             8925\n",
       "6     2010-07       9916308            10104\n",
       "7     2010-08      12393468            11236\n",
       "8     2010-09      11116463             9983\n",
       "9     2010-10       8933028            10477\n",
       "10    2010-11      15456653            13283\n",
       "11    2010-12      10358716            12275\n",
       "12    2011-01      14693940            12974"
      ]
     },
     "execution_count": 20,
     "metadata": {},
     "output_type": "execute_result"
    }
   ],
   "source": [
    "monthly_index_tb[1:13]"
   ]
  },
  {
   "cell_type": "code",
   "execution_count": 21,
   "metadata": {},
   "outputs": [
    {
     "data": {
      "text/html": [
       "<div>\n",
       "<style scoped>\n",
       "    .dataframe tbody tr th:only-of-type {\n",
       "        vertical-align: middle;\n",
       "    }\n",
       "\n",
       "    .dataframe tbody tr th {\n",
       "        vertical-align: top;\n",
       "    }\n",
       "\n",
       "    .dataframe thead th {\n",
       "        text-align: right;\n",
       "    }\n",
       "</style>\n",
       "<table border=\"1\" class=\"dataframe\">\n",
       "  <thead>\n",
       "    <tr style=\"text-align: right;\">\n",
       "      <th></th>\n",
       "      <th>year_month</th>\n",
       "      <th>sales_amount</th>\n",
       "      <th>customer_number</th>\n",
       "    </tr>\n",
       "  </thead>\n",
       "  <tbody>\n",
       "    <tr>\n",
       "      <th>25</th>\n",
       "      <td>2012-02</td>\n",
       "      <td>25463522</td>\n",
       "      <td>21875</td>\n",
       "    </tr>\n",
       "    <tr>\n",
       "      <th>26</th>\n",
       "      <td>2012-03</td>\n",
       "      <td>20119418</td>\n",
       "      <td>23667</td>\n",
       "    </tr>\n",
       "    <tr>\n",
       "      <th>27</th>\n",
       "      <td>2012-04</td>\n",
       "      <td>25893403</td>\n",
       "      <td>23565</td>\n",
       "    </tr>\n",
       "    <tr>\n",
       "      <th>28</th>\n",
       "      <td>2012-05</td>\n",
       "      <td>22022850</td>\n",
       "      <td>24826</td>\n",
       "    </tr>\n",
       "    <tr>\n",
       "      <th>29</th>\n",
       "      <td>2012-06</td>\n",
       "      <td>22059480</td>\n",
       "      <td>22390</td>\n",
       "    </tr>\n",
       "    <tr>\n",
       "      <th>30</th>\n",
       "      <td>2012-07</td>\n",
       "      <td>23467487</td>\n",
       "      <td>23515</td>\n",
       "    </tr>\n",
       "    <tr>\n",
       "      <th>31</th>\n",
       "      <td>2012-08</td>\n",
       "      <td>29272775</td>\n",
       "      <td>27095</td>\n",
       "    </tr>\n",
       "    <tr>\n",
       "      <th>32</th>\n",
       "      <td>2012-09</td>\n",
       "      <td>31017056</td>\n",
       "      <td>25984</td>\n",
       "    </tr>\n",
       "    <tr>\n",
       "      <th>33</th>\n",
       "      <td>2012-10</td>\n",
       "      <td>23617191</td>\n",
       "      <td>25813</td>\n",
       "    </tr>\n",
       "    <tr>\n",
       "      <th>34</th>\n",
       "      <td>2012-11</td>\n",
       "      <td>29220027</td>\n",
       "      <td>26596</td>\n",
       "    </tr>\n",
       "    <tr>\n",
       "      <th>35</th>\n",
       "      <td>2012-12</td>\n",
       "      <td>30238780</td>\n",
       "      <td>26831</td>\n",
       "    </tr>\n",
       "  </tbody>\n",
       "</table>\n",
       "</div>"
      ],
      "text/plain": [
       "   year_month  sales_amount  customer_number\n",
       "25    2012-02      25463522            21875\n",
       "26    2012-03      20119418            23667\n",
       "27    2012-04      25893403            23565\n",
       "28    2012-05      22022850            24826\n",
       "29    2012-06      22059480            22390\n",
       "30    2012-07      23467487            23515\n",
       "31    2012-08      29272775            27095\n",
       "32    2012-09      31017056            25984\n",
       "33    2012-10      23617191            25813\n",
       "34    2012-11      29220027            26596\n",
       "35    2012-12      30238780            26831"
      ]
     },
     "execution_count": 21,
     "metadata": {},
     "output_type": "execute_result"
    }
   ],
   "source": [
    "monthly_index_tb[25:36]"
   ]
  },
  {
   "cell_type": "code",
   "execution_count": 22,
   "metadata": {},
   "outputs": [
    {
     "data": {
      "text/plain": [
       "RangeIndex(start=0, stop=120, step=1)"
      ]
     },
     "execution_count": 22,
     "metadata": {},
     "output_type": "execute_result"
    }
   ],
   "source": [
    "monthly_index_tb.index"
   ]
  },
  {
   "cell_type": "code",
   "execution_count": null,
   "metadata": {},
   "outputs": [],
   "source": []
  },
  {
   "cell_type": "code",
   "execution_count": null,
   "metadata": {},
   "outputs": [],
   "source": []
  },
  {
   "cell_type": "code",
   "execution_count": null,
   "metadata": {},
   "outputs": [],
   "source": []
  }
 ],
 "metadata": {
  "kernelspec": {
   "display_name": "Python 3",
   "language": "python",
   "name": "python3"
  },
  "language_info": {
   "codemirror_mode": {
    "name": "ipython",
    "version": 3
   },
   "file_extension": ".py",
   "mimetype": "text/x-python",
   "name": "python",
   "nbconvert_exporter": "python",
   "pygments_lexer": "ipython3",
   "version": "3.7.3"
  }
 },
 "nbformat": 4,
 "nbformat_minor": 2
}
