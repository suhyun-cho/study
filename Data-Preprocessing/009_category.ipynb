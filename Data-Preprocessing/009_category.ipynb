{
 "cells": [
  {
   "cell_type": "markdown",
   "metadata": {},
   "source": [
    "# 9장. 범주형\n",
    "범주형 데이터는 두 종류의 값을 플래그 값, 자료형을 불리언(boolean)형이라고 합니다. <br>\n",
    "불리언형은 프로그램에서 True 또는 False값으로 나타냅니다.\n",
    "\n"
   ]
  },
  {
   "cell_type": "markdown",
   "metadata": {},
   "source": [
    "---------------------------------------------------------------\n",
    "## 9.1 범주형으로 변환\n",
    "* 고객 테이블의 성별을 불리언형과 범주형으로 변환"
   ]
  },
  {
   "cell_type": "code",
   "execution_count": 1,
   "metadata": {},
   "outputs": [],
   "source": [
    "import pandas as pd\n",
    "import numpy as np"
   ]
  },
  {
   "cell_type": "code",
   "execution_count": 6,
   "metadata": {},
   "outputs": [],
   "source": [
    "customer_tb=pd.read_csv('./data/customer.csv',encoding='UTF-8')"
   ]
  },
  {
   "cell_type": "code",
   "execution_count": 5,
   "metadata": {},
   "outputs": [
    {
     "data": {
      "text/html": [
       "<div>\n",
       "<style scoped>\n",
       "    .dataframe tbody tr th:only-of-type {\n",
       "        vertical-align: middle;\n",
       "    }\n",
       "\n",
       "    .dataframe tbody tr th {\n",
       "        vertical-align: top;\n",
       "    }\n",
       "\n",
       "    .dataframe thead th {\n",
       "        text-align: right;\n",
       "    }\n",
       "</style>\n",
       "<table border=\"1\" class=\"dataframe\">\n",
       "  <thead>\n",
       "    <tr style=\"text-align: right;\">\n",
       "      <th></th>\n",
       "      <th>customer_id</th>\n",
       "      <th>age</th>\n",
       "      <th>sex</th>\n",
       "      <th>home_latitude</th>\n",
       "      <th>home_longitude</th>\n",
       "    </tr>\n",
       "  </thead>\n",
       "  <tbody>\n",
       "    <tr>\n",
       "      <th>0</th>\n",
       "      <td>c_1</td>\n",
       "      <td>41</td>\n",
       "      <td>man</td>\n",
       "      <td>35.092193</td>\n",
       "      <td>136.512347</td>\n",
       "    </tr>\n",
       "    <tr>\n",
       "      <th>1</th>\n",
       "      <td>c_2</td>\n",
       "      <td>38</td>\n",
       "      <td>man</td>\n",
       "      <td>35.325076</td>\n",
       "      <td>139.410551</td>\n",
       "    </tr>\n",
       "    <tr>\n",
       "      <th>2</th>\n",
       "      <td>c_3</td>\n",
       "      <td>49</td>\n",
       "      <td>woman</td>\n",
       "      <td>35.120543</td>\n",
       "      <td>136.511179</td>\n",
       "    </tr>\n",
       "    <tr>\n",
       "      <th>3</th>\n",
       "      <td>c_4</td>\n",
       "      <td>43</td>\n",
       "      <td>man</td>\n",
       "      <td>43.034868</td>\n",
       "      <td>141.240314</td>\n",
       "    </tr>\n",
       "    <tr>\n",
       "      <th>4</th>\n",
       "      <td>c_5</td>\n",
       "      <td>31</td>\n",
       "      <td>man</td>\n",
       "      <td>35.102661</td>\n",
       "      <td>136.523797</td>\n",
       "    </tr>\n",
       "    <tr>\n",
       "      <th>...</th>\n",
       "      <td>...</td>\n",
       "      <td>...</td>\n",
       "      <td>...</td>\n",
       "      <td>...</td>\n",
       "      <td>...</td>\n",
       "    </tr>\n",
       "    <tr>\n",
       "      <th>995</th>\n",
       "      <td>c_996</td>\n",
       "      <td>44</td>\n",
       "      <td>man</td>\n",
       "      <td>34.465648</td>\n",
       "      <td>135.373787</td>\n",
       "    </tr>\n",
       "    <tr>\n",
       "      <th>996</th>\n",
       "      <td>c_997</td>\n",
       "      <td>35</td>\n",
       "      <td>man</td>\n",
       "      <td>35.345372</td>\n",
       "      <td>139.413754</td>\n",
       "    </tr>\n",
       "    <tr>\n",
       "      <th>997</th>\n",
       "      <td>c_998</td>\n",
       "      <td>32</td>\n",
       "      <td>woman</td>\n",
       "      <td>43.062267</td>\n",
       "      <td>141.272126</td>\n",
       "    </tr>\n",
       "    <tr>\n",
       "      <th>998</th>\n",
       "      <td>c_999</td>\n",
       "      <td>48</td>\n",
       "      <td>woman</td>\n",
       "      <td>38.172800</td>\n",
       "      <td>140.464198</td>\n",
       "    </tr>\n",
       "    <tr>\n",
       "      <th>999</th>\n",
       "      <td>c_1000</td>\n",
       "      <td>39</td>\n",
       "      <td>man</td>\n",
       "      <td>35.452412</td>\n",
       "      <td>139.411310</td>\n",
       "    </tr>\n",
       "  </tbody>\n",
       "</table>\n",
       "<p>1000 rows × 5 columns</p>\n",
       "</div>"
      ],
      "text/plain": [
       "    customer_id  age    sex  home_latitude  home_longitude\n",
       "0           c_1   41    man      35.092193      136.512347\n",
       "1           c_2   38    man      35.325076      139.410551\n",
       "2           c_3   49  woman      35.120543      136.511179\n",
       "3           c_4   43    man      43.034868      141.240314\n",
       "4           c_5   31    man      35.102661      136.523797\n",
       "..          ...  ...    ...            ...             ...\n",
       "995       c_996   44    man      34.465648      135.373787\n",
       "996       c_997   35    man      35.345372      139.413754\n",
       "997       c_998   32  woman      43.062267      141.272126\n",
       "998       c_999   48  woman      38.172800      140.464198\n",
       "999      c_1000   39    man      35.452412      139.411310\n",
       "\n",
       "[1000 rows x 5 columns]"
      ]
     },
     "execution_count": 5,
     "metadata": {},
     "output_type": "execute_result"
    }
   ],
   "source": [
    "customer_tb"
   ]
  },
  {
   "cell_type": "code",
   "execution_count": 8,
   "metadata": {},
   "outputs": [],
   "source": [
    "# sex가 man일때 TRUE값인 불리언형을 추가한다.\n",
    "## astype이 아니여도 불리언형으로 변환한다.\n",
    "customer_tb[['sex_is_man']]=(customer_tb[['sex']]=='man').astype('bool')"
   ]
  },
  {
   "cell_type": "code",
   "execution_count": 22,
   "metadata": {},
   "outputs": [],
   "source": [
    "# sex를 범주형으로 변환한다.\n",
    "customer_tb['sex_c']=pd.Categorical(customer_tb['sex'],categories=['man','woman'])    # categories매개변수에 마스터 데이터의 배열을 지정 가능."
   ]
  },
  {
   "cell_type": "code",
   "execution_count": 23,
   "metadata": {},
   "outputs": [
    {
     "data": {
      "text/plain": [
       "CategoricalDtype(categories=['man', 'woman'], ordered=False)"
      ]
     },
     "execution_count": 23,
     "metadata": {},
     "output_type": "execute_result"
    }
   ],
   "source": [
    "(customer_tb['sex_c']).dtype"
   ]
  },
  {
   "cell_type": "code",
   "execution_count": 24,
   "metadata": {},
   "outputs": [],
   "source": [
    "# astype함수로도 변환할 수 있다.\n",
    "customer_tb['sex_c']=customer_tb['sex_c'].astype('category')"
   ]
  },
  {
   "cell_type": "code",
   "execution_count": 29,
   "metadata": {},
   "outputs": [
    {
     "data": {
      "text/plain": [
       "0      0\n",
       "1      0\n",
       "2      1\n",
       "3      0\n",
       "4      0\n",
       "      ..\n",
       "995    0\n",
       "996    0\n",
       "997    1\n",
       "998    1\n",
       "999    0\n",
       "Length: 1000, dtype: int8"
      ]
     },
     "execution_count": 29,
     "metadata": {},
     "output_type": "execute_result"
    }
   ],
   "source": [
    "# 인덱스 데이터는 codes에 저장된다.\n",
    "customer_tb['sex_c'].cat.codes"
   ]
  },
  {
   "cell_type": "code",
   "execution_count": 30,
   "metadata": {},
   "outputs": [
    {
     "data": {
      "text/plain": [
       "Index(['man', 'woman'], dtype='object')"
      ]
     },
     "execution_count": 30,
     "metadata": {},
     "output_type": "execute_result"
    }
   ],
   "source": [
    "# 마스터 데이터는 categories에 저장된다.\n",
    "customer_tb['sex_c'].cat.categories"
   ]
  },
  {
   "cell_type": "markdown",
   "metadata": {},
   "source": [
    "---------------------------------------------------------------\n",
    "## 9.2 더미 변수화\n",
    "* 더미 변수는 범주의 종류 수만큼 생성한다.\n",
    "* 머신러닝에서 예측 모델을 만들 때 더미변수를 하나 줄일 수 있어 필요한 학습 데이터를 조금 줄일 수 있지만, <br>\n",
    "이 방법을 사용하지 않는 편이 좋을 때도 있다.\n",
    "    * ex) 더미변수를 줄이지 않고 분석하면 더미 변수의 중요도(중회귀 모델의 각 더미 변수의 계수)로 연령대의 이용 금액이 어떠한 영향을 받는지 알 수 있다. <br>\n",
    "    하지만 더미 변수를 하나 줄이면 남은 더미 변수에 반영되므로 각 연령대의 이용 금액이 어떠한 영향을 받는지 파악하기 어려움.\n",
    "    \n",
    " * 이처럼 각 변줏값의 영향을 분석하고 싶을 때 더미 변수를 줄이는 방법은 좋지 않다."
   ]
  },
  {
   "cell_type": "markdown",
   "metadata": {},
   "source": [
    "#### Q1 : 고객 테이블의 성별을 더미 변수로 만들어보자.\n",
    "* man이면 1, woman 이면 0"
   ]
  },
  {
   "cell_type": "code",
   "execution_count": 10,
   "metadata": {},
   "outputs": [],
   "source": [
    "# 더미 변수로 만들기 전 범주형으로 변환한다.\n",
    "customer_tb['sex']=pd.Categorical(customer_tb['sex'])"
   ]
  },
  {
   "cell_type": "code",
   "execution_count": 15,
   "metadata": {},
   "outputs": [],
   "source": [
    "# drop_first를 False로 하면 범줏값의 모든 종류 값의 더미 플래그를 생성한다.\n",
    "dummy_vars=pd.get_dummies(customer_tb['sex'],drop_first=False)"
   ]
  },
  {
   "cell_type": "code",
   "execution_count": 17,
   "metadata": {},
   "outputs": [
    {
     "data": {
      "text/html": [
       "<div>\n",
       "<style scoped>\n",
       "    .dataframe tbody tr th:only-of-type {\n",
       "        vertical-align: middle;\n",
       "    }\n",
       "\n",
       "    .dataframe tbody tr th {\n",
       "        vertical-align: top;\n",
       "    }\n",
       "\n",
       "    .dataframe thead th {\n",
       "        text-align: right;\n",
       "    }\n",
       "</style>\n",
       "<table border=\"1\" class=\"dataframe\">\n",
       "  <thead>\n",
       "    <tr style=\"text-align: right;\">\n",
       "      <th></th>\n",
       "      <th>man</th>\n",
       "      <th>woman</th>\n",
       "    </tr>\n",
       "  </thead>\n",
       "  <tbody>\n",
       "    <tr>\n",
       "      <th>0</th>\n",
       "      <td>1</td>\n",
       "      <td>0</td>\n",
       "    </tr>\n",
       "    <tr>\n",
       "      <th>1</th>\n",
       "      <td>1</td>\n",
       "      <td>0</td>\n",
       "    </tr>\n",
       "    <tr>\n",
       "      <th>2</th>\n",
       "      <td>0</td>\n",
       "      <td>1</td>\n",
       "    </tr>\n",
       "    <tr>\n",
       "      <th>3</th>\n",
       "      <td>1</td>\n",
       "      <td>0</td>\n",
       "    </tr>\n",
       "    <tr>\n",
       "      <th>4</th>\n",
       "      <td>1</td>\n",
       "      <td>0</td>\n",
       "    </tr>\n",
       "  </tbody>\n",
       "</table>\n",
       "</div>"
      ],
      "text/plain": [
       "   man  woman\n",
       "0    1      0\n",
       "1    1      0\n",
       "2    0      1\n",
       "3    1      0\n",
       "4    1      0"
      ]
     },
     "execution_count": 17,
     "metadata": {},
     "output_type": "execute_result"
    }
   ],
   "source": [
    "dummy_vars.head()"
   ]
  },
  {
   "cell_type": "markdown",
   "metadata": {},
   "source": [
    "---------------------------------------------------------------\n",
    "## 9.3 범줏값의 집약\n",
    "범주형을 사용할 때 해당하는 데이터 수가 적은 범줏값이 존재하면, 적은 데이터에서 범줏값의 특성을 학습하게 되므로 과학습이 발생하기 쉽다. <br>\n",
    "또한 애드폭 분석을 실행할 때 범줏값 종류가 많아지면 집계가 어렵다. <br>\n",
    "이런 문제가 발생하지 않도록 데이터 수가 극단적으로 적은 범줏값을 다른 범줏값과 묶는 방법이 있다. \n",
    "\n",
    "> add_categories() 함수 <br>\n",
    "* 범주형 마스터 데이터를 추가하는 함수\n",
    "\n",
    "> remove_unused_categories() 함수\n",
    "* 범주형 마스터 데이터를 제거하는 함수"
   ]
  },
  {
   "cell_type": "markdown",
   "metadata": {},
   "source": [
    "#### Q1 : 고객 테이블의 연령을 10세 단위로 구분하여 범주형으로 변환하고, 60세 이상인 경우엔 '60세 이상' 이라는 범줏값으로 변환하자."
   ]
  },
  {
   "cell_type": "code",
   "execution_count": 29,
   "metadata": {},
   "outputs": [],
   "source": [
    "# 범주형으로 변환\n",
    "customer_tb['age_rank']=pd.Categorical(np.floor(customer_tb['age']/10)*10)"
   ]
  },
  {
   "cell_type": "code",
   "execution_count": 24,
   "metadata": {},
   "outputs": [
    {
     "data": {
      "text/plain": [
       "0      4.0\n",
       "1      3.0\n",
       "2      4.0\n",
       "3      4.0\n",
       "4      3.0\n",
       "      ... \n",
       "995    4.0\n",
       "996    3.0\n",
       "997    3.0\n",
       "998    4.0\n",
       "999    3.0\n",
       "Name: age, Length: 1000, dtype: float64"
      ]
     },
     "execution_count": 24,
     "metadata": {},
     "output_type": "execute_result"
    }
   ],
   "source": [
    "np.floor(customer_tb['age']/10)"
   ]
  },
  {
   "cell_type": "code",
   "execution_count": 30,
   "metadata": {},
   "outputs": [
    {
     "data": {
      "text/plain": [
       "0      40.0\n",
       "1      30.0\n",
       "2      40.0\n",
       "3      40.0\n",
       "4      30.0\n",
       "       ... \n",
       "995    40.0\n",
       "996    30.0\n",
       "997    30.0\n",
       "998    40.0\n",
       "999    30.0\n",
       "Name: age_rank, Length: 1000, dtype: category\n",
       "Categories (7, float64): [20.0, 30.0, 40.0, 50.0, 60.0, 70.0, 80.0]"
      ]
     },
     "execution_count": 30,
     "metadata": {},
     "output_type": "execute_result"
    }
   ],
   "source": [
    "customer_tb['age_rank']"
   ]
  },
  {
   "cell_type": "code",
   "execution_count": 31,
   "metadata": {},
   "outputs": [],
   "source": [
    "# 마스터 데이터에 '60 이상'을 추가한다.\n",
    "customer_tb['age_rank'].cat.add_categories(['60 이상'], inplace=True)"
   ]
  },
  {
   "cell_type": "code",
   "execution_count": 32,
   "metadata": {},
   "outputs": [
    {
     "data": {
      "text/plain": [
       "0      40\n",
       "1      30\n",
       "2      40\n",
       "3      40\n",
       "4      30\n",
       "       ..\n",
       "995    40\n",
       "996    30\n",
       "997    30\n",
       "998    40\n",
       "999    30\n",
       "Name: age_rank, Length: 1000, dtype: category\n",
       "Categories (8, object): [20, 30, 40, 50, 60, 70, 80, 60 이상]"
      ]
     },
     "execution_count": 32,
     "metadata": {},
     "output_type": "execute_result"
    }
   ],
   "source": [
    "# 아래 Categories를 보면 '60 이상' 이라는 카테고리 추가됨.\n",
    "customer_tb['age_rank']"
   ]
  },
  {
   "cell_type": "code",
   "execution_count": 43,
   "metadata": {},
   "outputs": [],
   "source": [
    "# 집약할 데이터를 변경한다.\n",
    "# 범주형은 = 또는 !=만 판정할 수 있어 isin 함수 이용.\n",
    "customer_tb.loc[customer_tb['age_rank'].isin([60.0, 70.0, 80.0]), 'age_rank']='60 이상'"
   ]
  },
  {
   "cell_type": "code",
   "execution_count": 46,
   "metadata": {},
   "outputs": [
    {
     "data": {
      "text/plain": [
       "0       40\n",
       "1       30\n",
       "2       40\n",
       "3       40\n",
       "4       30\n",
       "5       50\n",
       "6       50\n",
       "7    60 이상\n",
       "8       30\n",
       "9       30\n",
       "Name: age_rank, dtype: category\n",
       "Categories (8, object): [20, 30, 40, 50, 60, 70, 80, 60 이상]"
      ]
     },
     "execution_count": 46,
     "metadata": {},
     "output_type": "execute_result"
    }
   ],
   "source": [
    "customer_tb['age_rank'][:10]"
   ]
  },
  {
   "cell_type": "code",
   "execution_count": 47,
   "metadata": {},
   "outputs": [],
   "source": [
    "# 사용되지 않는 마스터 데이터를 제거한다.\n",
    "customer_tb['age_rank'].cat.remove_unused_categories(inplace=True)"
   ]
  },
  {
   "cell_type": "code",
   "execution_count": 50,
   "metadata": {},
   "outputs": [
    {
     "data": {
      "text/plain": [
       "0      40\n",
       "1      30\n",
       "2      40\n",
       "3      40\n",
       "4      30\n",
       "       ..\n",
       "995    40\n",
       "996    30\n",
       "997    30\n",
       "998    40\n",
       "999    30\n",
       "Name: age_rank, Length: 1000, dtype: category\n",
       "Categories (5, object): [20, 30, 40, 50, 60 이상]"
      ]
     },
     "execution_count": 50,
     "metadata": {},
     "output_type": "execute_result"
    }
   ],
   "source": [
    "# 기존에 60, 70, 80 카테고리 삭제.\n",
    "customer_tb['age_rank']"
   ]
  },
  {
   "cell_type": "markdown",
   "metadata": {},
   "source": [
    "-----------------------------------------------------------------------------------------------------\n",
    "## 9.4 범줏값의 조합\n",
    "성별과 연령대의 범줏값을 조합하여 '남성 20대', '여성 50대' 등과 같은 새로운 범줏값으로 확장하는 것도 가능. <br>\n",
    "\n",
    "[ 단점 ]\n",
    "* 범줏값을 조합하면 더미 변수의 수도 조합한 수에 따라 늘어나게 되어 분석에 필요한 데이터양도 늘어난다.\n",
    "    * 따라서, 범줏값을 조합할 때는 데이터양을 파악하면서 데이터 종류가 많은 범줏값 조합은 피하는 것이 좋다."
   ]
  },
  {
   "cell_type": "code",
   "execution_count": 60,
   "metadata": {},
   "outputs": [],
   "source": [
    "# lambd함수에서 sex와 10세 단위로 구분한 age사이에 _를 추가하여 연결한다.\n",
    "customer_tb['sex_and_age']=pd.Categorical(\\\n",
    "                                          customer_tb[['sex','age']].apply(lambda x: '{}_{}'.format(x[0], np.floor(x[1]/10)*10),  axis=1 ) \\\n",
    "                                         )"
   ]
  },
  {
   "cell_type": "code",
   "execution_count": 62,
   "metadata": {},
   "outputs": [
    {
     "data": {
      "text/plain": [
       "0        man_40.0\n",
       "1        man_30.0\n",
       "2      woman_40.0\n",
       "3        man_40.0\n",
       "4        man_30.0\n",
       "          ...    \n",
       "995      man_40.0\n",
       "996      man_30.0\n",
       "997    woman_30.0\n",
       "998    woman_40.0\n",
       "999      man_30.0\n",
       "Name: sex_and_age, Length: 1000, dtype: category\n",
       "Categories (14, object): [man_20.0, man_30.0, man_40.0, man_50.0, ..., woman_50.0, woman_60.0, woman_70.0, woman_80.0]"
      ]
     },
     "execution_count": 62,
     "metadata": {},
     "output_type": "execute_result"
    }
   ],
   "source": [
    "customer_tb['sex_and_age']"
   ]
  },
  {
   "cell_type": "markdown",
   "metadata": {},
   "source": [
    "---------------------------------------------------------------\n",
    "## 9.5 범주형의 수치화"
   ]
  },
  {
   "cell_type": "code",
   "execution_count": null,
   "metadata": {},
   "outputs": [],
   "source": []
  },
  {
   "cell_type": "code",
   "execution_count": null,
   "metadata": {},
   "outputs": [],
   "source": []
  },
  {
   "cell_type": "code",
   "execution_count": null,
   "metadata": {},
   "outputs": [],
   "source": []
  },
  {
   "cell_type": "code",
   "execution_count": null,
   "metadata": {},
   "outputs": [],
   "source": []
  },
  {
   "cell_type": "code",
   "execution_count": null,
   "metadata": {},
   "outputs": [],
   "source": []
  },
  {
   "cell_type": "code",
   "execution_count": null,
   "metadata": {},
   "outputs": [],
   "source": []
  },
  {
   "cell_type": "code",
   "execution_count": null,
   "metadata": {},
   "outputs": [],
   "source": []
  },
  {
   "cell_type": "code",
   "execution_count": null,
   "metadata": {},
   "outputs": [],
   "source": []
  }
 ],
 "metadata": {
  "hide_input": false,
  "kernelspec": {
   "display_name": "suhyun2",
   "language": "python",
   "name": "suhyun2"
  },
  "language_info": {
   "codemirror_mode": {
    "name": "ipython",
    "version": 3
   },
   "file_extension": ".py",
   "mimetype": "text/x-python",
   "name": "python",
   "nbconvert_exporter": "python",
   "pygments_lexer": "ipython3",
   "version": "3.6.8"
  },
  "toc": {
   "base_numbering": 1,
   "nav_menu": {},
   "number_sections": true,
   "sideBar": true,
   "skip_h1_title": false,
   "title_cell": "Table of Contents",
   "title_sidebar": "Contents",
   "toc_cell": false,
   "toc_position": {},
   "toc_section_display": true,
   "toc_window_display": false
  }
 },
 "nbformat": 4,
 "nbformat_minor": 2
}
