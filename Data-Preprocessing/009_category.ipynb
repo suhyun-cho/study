{
 "cells": [
  {
   "cell_type": "markdown",
   "metadata": {},
   "source": [
    "# 9장. 범주형\n",
    "범주형 데이터는 두 종류의 값을 플래그 값, 자료형을 불리언(boolean)형이라고 합니다. <br>\n",
    "불리언형은 프로그램에서 True 또는 False값으로 나타냅니다.\n",
    "\n"
   ]
  },
  {
   "cell_type": "markdown",
   "metadata": {},
   "source": [
    "---------------------------------------------------------------\n",
    "## 9.1 범주형으로 변환\n",
    "* 고객 테이블의 성별을 불리언형과 범주형으로 변환"
   ]
  },
  {
   "cell_type": "code",
   "execution_count": 3,
   "metadata": {},
   "outputs": [],
   "source": [
    "import pandas as pd\n",
    "import numpy as np"
   ]
  },
  {
   "cell_type": "code",
   "execution_count": 4,
   "metadata": {},
   "outputs": [],
   "source": [
    "customer_tb=pd.read_csv('./data/customer.csv',encoding='UTF-8')"
   ]
  },
  {
   "cell_type": "code",
   "execution_count": 5,
   "metadata": {},
   "outputs": [
    {
     "data": {
      "text/html": [
       "<div>\n",
       "<style scoped>\n",
       "    .dataframe tbody tr th:only-of-type {\n",
       "        vertical-align: middle;\n",
       "    }\n",
       "\n",
       "    .dataframe tbody tr th {\n",
       "        vertical-align: top;\n",
       "    }\n",
       "\n",
       "    .dataframe thead th {\n",
       "        text-align: right;\n",
       "    }\n",
       "</style>\n",
       "<table border=\"1\" class=\"dataframe\">\n",
       "  <thead>\n",
       "    <tr style=\"text-align: right;\">\n",
       "      <th></th>\n",
       "      <th>customer_id</th>\n",
       "      <th>age</th>\n",
       "      <th>sex</th>\n",
       "      <th>home_latitude</th>\n",
       "      <th>home_longitude</th>\n",
       "    </tr>\n",
       "  </thead>\n",
       "  <tbody>\n",
       "    <tr>\n",
       "      <td>0</td>\n",
       "      <td>c_1</td>\n",
       "      <td>41</td>\n",
       "      <td>man</td>\n",
       "      <td>35.092193</td>\n",
       "      <td>136.512347</td>\n",
       "    </tr>\n",
       "    <tr>\n",
       "      <td>1</td>\n",
       "      <td>c_2</td>\n",
       "      <td>38</td>\n",
       "      <td>man</td>\n",
       "      <td>35.325076</td>\n",
       "      <td>139.410551</td>\n",
       "    </tr>\n",
       "    <tr>\n",
       "      <td>2</td>\n",
       "      <td>c_3</td>\n",
       "      <td>49</td>\n",
       "      <td>woman</td>\n",
       "      <td>35.120543</td>\n",
       "      <td>136.511179</td>\n",
       "    </tr>\n",
       "    <tr>\n",
       "      <td>3</td>\n",
       "      <td>c_4</td>\n",
       "      <td>43</td>\n",
       "      <td>man</td>\n",
       "      <td>43.034868</td>\n",
       "      <td>141.240314</td>\n",
       "    </tr>\n",
       "    <tr>\n",
       "      <td>4</td>\n",
       "      <td>c_5</td>\n",
       "      <td>31</td>\n",
       "      <td>man</td>\n",
       "      <td>35.102661</td>\n",
       "      <td>136.523797</td>\n",
       "    </tr>\n",
       "    <tr>\n",
       "      <td>...</td>\n",
       "      <td>...</td>\n",
       "      <td>...</td>\n",
       "      <td>...</td>\n",
       "      <td>...</td>\n",
       "      <td>...</td>\n",
       "    </tr>\n",
       "    <tr>\n",
       "      <td>995</td>\n",
       "      <td>c_996</td>\n",
       "      <td>44</td>\n",
       "      <td>man</td>\n",
       "      <td>34.465648</td>\n",
       "      <td>135.373787</td>\n",
       "    </tr>\n",
       "    <tr>\n",
       "      <td>996</td>\n",
       "      <td>c_997</td>\n",
       "      <td>35</td>\n",
       "      <td>man</td>\n",
       "      <td>35.345372</td>\n",
       "      <td>139.413754</td>\n",
       "    </tr>\n",
       "    <tr>\n",
       "      <td>997</td>\n",
       "      <td>c_998</td>\n",
       "      <td>32</td>\n",
       "      <td>woman</td>\n",
       "      <td>43.062267</td>\n",
       "      <td>141.272126</td>\n",
       "    </tr>\n",
       "    <tr>\n",
       "      <td>998</td>\n",
       "      <td>c_999</td>\n",
       "      <td>48</td>\n",
       "      <td>woman</td>\n",
       "      <td>38.172800</td>\n",
       "      <td>140.464198</td>\n",
       "    </tr>\n",
       "    <tr>\n",
       "      <td>999</td>\n",
       "      <td>c_1000</td>\n",
       "      <td>39</td>\n",
       "      <td>man</td>\n",
       "      <td>35.452412</td>\n",
       "      <td>139.411310</td>\n",
       "    </tr>\n",
       "  </tbody>\n",
       "</table>\n",
       "<p>1000 rows × 5 columns</p>\n",
       "</div>"
      ],
      "text/plain": [
       "    customer_id  age    sex  home_latitude  home_longitude\n",
       "0           c_1   41    man      35.092193      136.512347\n",
       "1           c_2   38    man      35.325076      139.410551\n",
       "2           c_3   49  woman      35.120543      136.511179\n",
       "3           c_4   43    man      43.034868      141.240314\n",
       "4           c_5   31    man      35.102661      136.523797\n",
       "..          ...  ...    ...            ...             ...\n",
       "995       c_996   44    man      34.465648      135.373787\n",
       "996       c_997   35    man      35.345372      139.413754\n",
       "997       c_998   32  woman      43.062267      141.272126\n",
       "998       c_999   48  woman      38.172800      140.464198\n",
       "999      c_1000   39    man      35.452412      139.411310\n",
       "\n",
       "[1000 rows x 5 columns]"
      ]
     },
     "execution_count": 5,
     "metadata": {},
     "output_type": "execute_result"
    }
   ],
   "source": [
    "customer_tb"
   ]
  },
  {
   "cell_type": "code",
   "execution_count": 8,
   "metadata": {},
   "outputs": [],
   "source": [
    "# sex가 man일때 TRUE값인 불리언형을 추가한다.\n",
    "## astype이 아니여도 불리언형으로 변환한다.\n",
    "customer_tb[['sex_is_man']]=(customer_tb[['sex']]=='man').astype('bool')"
   ]
  },
  {
   "cell_type": "code",
   "execution_count": 22,
   "metadata": {},
   "outputs": [],
   "source": [
    "# sex를 범주형으로 변환한다.\n",
    "customer_tb['sex_c']=pd.Categorical(customer_tb['sex'],categories=['man','woman'])    # categories매개변수에 마스터 데이터의 배열을 지정 가능."
   ]
  },
  {
   "cell_type": "code",
   "execution_count": 23,
   "metadata": {},
   "outputs": [
    {
     "data": {
      "text/plain": [
       "CategoricalDtype(categories=['man', 'woman'], ordered=False)"
      ]
     },
     "execution_count": 23,
     "metadata": {},
     "output_type": "execute_result"
    }
   ],
   "source": [
    "(customer_tb['sex_c']).dtype"
   ]
  },
  {
   "cell_type": "code",
   "execution_count": 24,
   "metadata": {},
   "outputs": [],
   "source": [
    "# astype함수로도 변환할 수 있다.\n",
    "customer_tb['sex_c']=customer_tb['sex_c'].astype('category')"
   ]
  },
  {
   "cell_type": "code",
   "execution_count": 29,
   "metadata": {},
   "outputs": [
    {
     "data": {
      "text/plain": [
       "0      0\n",
       "1      0\n",
       "2      1\n",
       "3      0\n",
       "4      0\n",
       "      ..\n",
       "995    0\n",
       "996    0\n",
       "997    1\n",
       "998    1\n",
       "999    0\n",
       "Length: 1000, dtype: int8"
      ]
     },
     "execution_count": 29,
     "metadata": {},
     "output_type": "execute_result"
    }
   ],
   "source": [
    "# 인덱스 데이터는 codes에 저장된다.\n",
    "customer_tb['sex_c'].cat.codes"
   ]
  },
  {
   "cell_type": "code",
   "execution_count": 30,
   "metadata": {},
   "outputs": [
    {
     "data": {
      "text/plain": [
       "Index(['man', 'woman'], dtype='object')"
      ]
     },
     "execution_count": 30,
     "metadata": {},
     "output_type": "execute_result"
    }
   ],
   "source": [
    "# 마스터 데이터는 categories에 저장된다.\n",
    "customer_tb['sex_c'].cat.categories"
   ]
  },
  {
   "cell_type": "markdown",
   "metadata": {},
   "source": [
    "---------------------------------------------------------------\n",
    "## 9.2 더미 변수화\n",
    "* 더미 변수는 범주의 종류 수만큼 생성한다.\n",
    "* 머신러닝에서 예측 모델을 만들 때 더미변수를 하나 줄일 수 있어 필요한 학습 데이터를 조금 줄일 수 있지만, <br>\n",
    "이 방법을 사용하지 않는 편이 좋을 때도 있다.\n",
    "    * ex) 더미변수를 줄이지 않고 분석하면 더미 변수의 중요도(중회귀 모델의 각 더미 변수의 계수)로 연령대의 이용 금액이 어떠한 영향을 받는지 알 수 있다. <br>\n",
    "    하지만 더미 변수를 하나 줄이면 남은 더미 변수에 반영되므로 각 연령대의 이용 금액이 어떠한 영향을 받는지 파악하기 어려움.\n",
    "    \n",
    " * 이처럼 각 변줏값의 영향을 분석하고 싶을 때 더미 변수를 줄이는 방법은 좋지 않다."
   ]
  },
  {
   "cell_type": "markdown",
   "metadata": {},
   "source": [
    "#### Q1 : 고객 테이블의 성별을 더미 변수로 만들어보자.\n",
    "* man이면 1, woman 이면 0"
   ]
  },
  {
   "cell_type": "code",
   "execution_count": 10,
   "metadata": {},
   "outputs": [],
   "source": [
    "# 더미 변수로 만들기 전 범주형으로 변환한다.\n",
    "customer_tb['sex']=pd.Categorical(customer_tb['sex'])"
   ]
  },
  {
   "cell_type": "code",
   "execution_count": 15,
   "metadata": {},
   "outputs": [],
   "source": [
    "# drop_first를 False로 하면 범줏값의 모든 종류 값의 더미 플래그를 생성한다.\n",
    "dummy_vars=pd.get_dummies(customer_tb['sex'],drop_first=False)"
   ]
  },
  {
   "cell_type": "code",
   "execution_count": 17,
   "metadata": {},
   "outputs": [
    {
     "data": {
      "text/html": [
       "<div>\n",
       "<style scoped>\n",
       "    .dataframe tbody tr th:only-of-type {\n",
       "        vertical-align: middle;\n",
       "    }\n",
       "\n",
       "    .dataframe tbody tr th {\n",
       "        vertical-align: top;\n",
       "    }\n",
       "\n",
       "    .dataframe thead th {\n",
       "        text-align: right;\n",
       "    }\n",
       "</style>\n",
       "<table border=\"1\" class=\"dataframe\">\n",
       "  <thead>\n",
       "    <tr style=\"text-align: right;\">\n",
       "      <th></th>\n",
       "      <th>man</th>\n",
       "      <th>woman</th>\n",
       "    </tr>\n",
       "  </thead>\n",
       "  <tbody>\n",
       "    <tr>\n",
       "      <th>0</th>\n",
       "      <td>1</td>\n",
       "      <td>0</td>\n",
       "    </tr>\n",
       "    <tr>\n",
       "      <th>1</th>\n",
       "      <td>1</td>\n",
       "      <td>0</td>\n",
       "    </tr>\n",
       "    <tr>\n",
       "      <th>2</th>\n",
       "      <td>0</td>\n",
       "      <td>1</td>\n",
       "    </tr>\n",
       "    <tr>\n",
       "      <th>3</th>\n",
       "      <td>1</td>\n",
       "      <td>0</td>\n",
       "    </tr>\n",
       "    <tr>\n",
       "      <th>4</th>\n",
       "      <td>1</td>\n",
       "      <td>0</td>\n",
       "    </tr>\n",
       "  </tbody>\n",
       "</table>\n",
       "</div>"
      ],
      "text/plain": [
       "   man  woman\n",
       "0    1      0\n",
       "1    1      0\n",
       "2    0      1\n",
       "3    1      0\n",
       "4    1      0"
      ]
     },
     "execution_count": 17,
     "metadata": {},
     "output_type": "execute_result"
    }
   ],
   "source": [
    "dummy_vars.head()"
   ]
  },
  {
   "cell_type": "markdown",
   "metadata": {},
   "source": [
    "---------------------------------------------------------------\n",
    "## 9.3 범줏값의 집약\n",
    "범주형을 사용할 때 해당하는 데이터 수가 적은 범줏값이 존재하면, 적은 데이터에서 범줏값의 특성을 학습하게 되므로 과학습이 발생하기 쉽다. <br>\n",
    "또한 애드폭 분석을 실행할 때 범줏값 종류가 많아지면 집계가 어렵다. <br>\n",
    "이런 문제가 발생하지 않도록 데이터 수가 극단적으로 적은 범줏값을 다른 범줏값과 묶는 방법이 있다. \n",
    "\n",
    "> add_categories() 함수 <br>\n",
    "* 범주형 마스터 데이터를 추가하는 함수\n",
    "\n",
    "> remove_unused_categories() 함수\n",
    "* 범주형 마스터 데이터를 제거하는 함수"
   ]
  },
  {
   "cell_type": "markdown",
   "metadata": {},
   "source": [
    "#### Q1 : 고객 테이블의 연령을 10세 단위로 구분하여 범주형으로 변환하고, 60세 이상인 경우엔 '60세 이상' 이라는 범줏값으로 변환하자."
   ]
  },
  {
   "cell_type": "code",
   "execution_count": 29,
   "metadata": {},
   "outputs": [],
   "source": [
    "# 범주형으로 변환\n",
    "customer_tb['age_rank']=pd.Categorical(np.floor(customer_tb['age']/10)*10)"
   ]
  },
  {
   "cell_type": "code",
   "execution_count": 24,
   "metadata": {},
   "outputs": [
    {
     "data": {
      "text/plain": [
       "0      4.0\n",
       "1      3.0\n",
       "2      4.0\n",
       "3      4.0\n",
       "4      3.0\n",
       "      ... \n",
       "995    4.0\n",
       "996    3.0\n",
       "997    3.0\n",
       "998    4.0\n",
       "999    3.0\n",
       "Name: age, Length: 1000, dtype: float64"
      ]
     },
     "execution_count": 24,
     "metadata": {},
     "output_type": "execute_result"
    }
   ],
   "source": [
    "np.floor(customer_tb['age']/10)"
   ]
  },
  {
   "cell_type": "code",
   "execution_count": 30,
   "metadata": {},
   "outputs": [
    {
     "data": {
      "text/plain": [
       "0      40.0\n",
       "1      30.0\n",
       "2      40.0\n",
       "3      40.0\n",
       "4      30.0\n",
       "       ... \n",
       "995    40.0\n",
       "996    30.0\n",
       "997    30.0\n",
       "998    40.0\n",
       "999    30.0\n",
       "Name: age_rank, Length: 1000, dtype: category\n",
       "Categories (7, float64): [20.0, 30.0, 40.0, 50.0, 60.0, 70.0, 80.0]"
      ]
     },
     "execution_count": 30,
     "metadata": {},
     "output_type": "execute_result"
    }
   ],
   "source": [
    "customer_tb['age_rank']"
   ]
  },
  {
   "cell_type": "code",
   "execution_count": 31,
   "metadata": {},
   "outputs": [],
   "source": [
    "# 마스터 데이터에 '60 이상'을 추가한다.\n",
    "customer_tb['age_rank'].cat.add_categories(['60 이상'], inplace=True)"
   ]
  },
  {
   "cell_type": "code",
   "execution_count": 32,
   "metadata": {},
   "outputs": [
    {
     "data": {
      "text/plain": [
       "0      40\n",
       "1      30\n",
       "2      40\n",
       "3      40\n",
       "4      30\n",
       "       ..\n",
       "995    40\n",
       "996    30\n",
       "997    30\n",
       "998    40\n",
       "999    30\n",
       "Name: age_rank, Length: 1000, dtype: category\n",
       "Categories (8, object): [20, 30, 40, 50, 60, 70, 80, 60 이상]"
      ]
     },
     "execution_count": 32,
     "metadata": {},
     "output_type": "execute_result"
    }
   ],
   "source": [
    "# 아래 Categories를 보면 '60 이상' 이라는 카테고리 추가됨.\n",
    "customer_tb['age_rank']"
   ]
  },
  {
   "cell_type": "code",
   "execution_count": 43,
   "metadata": {},
   "outputs": [],
   "source": [
    "# 집약할 데이터를 변경한다.\n",
    "# 범주형은 = 또는 !=만 판정할 수 있어 isin 함수 이용.\n",
    "customer_tb.loc[customer_tb['age_rank'].isin([60.0, 70.0, 80.0]), 'age_rank']='60 이상'"
   ]
  },
  {
   "cell_type": "code",
   "execution_count": 46,
   "metadata": {},
   "outputs": [
    {
     "data": {
      "text/plain": [
       "0       40\n",
       "1       30\n",
       "2       40\n",
       "3       40\n",
       "4       30\n",
       "5       50\n",
       "6       50\n",
       "7    60 이상\n",
       "8       30\n",
       "9       30\n",
       "Name: age_rank, dtype: category\n",
       "Categories (8, object): [20, 30, 40, 50, 60, 70, 80, 60 이상]"
      ]
     },
     "execution_count": 46,
     "metadata": {},
     "output_type": "execute_result"
    }
   ],
   "source": [
    "customer_tb['age_rank'][:10]"
   ]
  },
  {
   "cell_type": "code",
   "execution_count": 47,
   "metadata": {},
   "outputs": [],
   "source": [
    "# 사용되지 않는 마스터 데이터를 제거한다.\n",
    "customer_tb['age_rank'].cat.remove_unused_categories(inplace=True)"
   ]
  },
  {
   "cell_type": "code",
   "execution_count": 50,
   "metadata": {},
   "outputs": [
    {
     "data": {
      "text/plain": [
       "0      40\n",
       "1      30\n",
       "2      40\n",
       "3      40\n",
       "4      30\n",
       "       ..\n",
       "995    40\n",
       "996    30\n",
       "997    30\n",
       "998    40\n",
       "999    30\n",
       "Name: age_rank, Length: 1000, dtype: category\n",
       "Categories (5, object): [20, 30, 40, 50, 60 이상]"
      ]
     },
     "execution_count": 50,
     "metadata": {},
     "output_type": "execute_result"
    }
   ],
   "source": [
    "# 기존에 60, 70, 80 카테고리 삭제.\n",
    "customer_tb['age_rank']"
   ]
  },
  {
   "cell_type": "markdown",
   "metadata": {},
   "source": [
    "-----------------------------------------------------------------------------------------------------\n",
    "## 9.4 범줏값의 조합\n",
    "성별과 연령대의 범줏값을 조합하여 '남성 20대', '여성 50대' 등과 같은 새로운 범줏값으로 확장하는 것도 가능. <br>\n",
    "\n",
    "[ 단점 ]\n",
    "* 범줏값을 조합하면 더미 변수의 수도 조합한 수에 따라 늘어나게 되어 분석에 필요한 데이터양도 늘어난다.\n",
    "    * 따라서, 범줏값을 조합할 때는 데이터양을 파악하면서 데이터 종류가 많은 범줏값 조합은 피하는 것이 좋다."
   ]
  },
  {
   "cell_type": "code",
   "execution_count": 13,
   "metadata": {},
   "outputs": [
    {
     "data": {
      "text/html": [
       "<div>\n",
       "<style scoped>\n",
       "    .dataframe tbody tr th:only-of-type {\n",
       "        vertical-align: middle;\n",
       "    }\n",
       "\n",
       "    .dataframe tbody tr th {\n",
       "        vertical-align: top;\n",
       "    }\n",
       "\n",
       "    .dataframe thead th {\n",
       "        text-align: right;\n",
       "    }\n",
       "</style>\n",
       "<table border=\"1\" class=\"dataframe\">\n",
       "  <thead>\n",
       "    <tr style=\"text-align: right;\">\n",
       "      <th></th>\n",
       "      <th>customer_id</th>\n",
       "      <th>age</th>\n",
       "      <th>sex</th>\n",
       "      <th>home_latitude</th>\n",
       "      <th>home_longitude</th>\n",
       "    </tr>\n",
       "  </thead>\n",
       "  <tbody>\n",
       "    <tr>\n",
       "      <td>0</td>\n",
       "      <td>c_1</td>\n",
       "      <td>41</td>\n",
       "      <td>man</td>\n",
       "      <td>35.092193</td>\n",
       "      <td>136.512347</td>\n",
       "    </tr>\n",
       "    <tr>\n",
       "      <td>1</td>\n",
       "      <td>c_2</td>\n",
       "      <td>38</td>\n",
       "      <td>man</td>\n",
       "      <td>35.325076</td>\n",
       "      <td>139.410551</td>\n",
       "    </tr>\n",
       "    <tr>\n",
       "      <td>2</td>\n",
       "      <td>c_3</td>\n",
       "      <td>49</td>\n",
       "      <td>woman</td>\n",
       "      <td>35.120543</td>\n",
       "      <td>136.511179</td>\n",
       "    </tr>\n",
       "    <tr>\n",
       "      <td>3</td>\n",
       "      <td>c_4</td>\n",
       "      <td>43</td>\n",
       "      <td>man</td>\n",
       "      <td>43.034868</td>\n",
       "      <td>141.240314</td>\n",
       "    </tr>\n",
       "    <tr>\n",
       "      <td>4</td>\n",
       "      <td>c_5</td>\n",
       "      <td>31</td>\n",
       "      <td>man</td>\n",
       "      <td>35.102661</td>\n",
       "      <td>136.523797</td>\n",
       "    </tr>\n",
       "  </tbody>\n",
       "</table>\n",
       "</div>"
      ],
      "text/plain": [
       "  customer_id  age    sex  home_latitude  home_longitude\n",
       "0         c_1   41    man      35.092193      136.512347\n",
       "1         c_2   38    man      35.325076      139.410551\n",
       "2         c_3   49  woman      35.120543      136.511179\n",
       "3         c_4   43    man      43.034868      141.240314\n",
       "4         c_5   31    man      35.102661      136.523797"
      ]
     },
     "execution_count": 13,
     "metadata": {},
     "output_type": "execute_result"
    }
   ],
   "source": [
    "customer_tb.head()"
   ]
  },
  {
   "cell_type": "code",
   "execution_count": 60,
   "metadata": {},
   "outputs": [],
   "source": [
    "# lambd함수에서 sex와 10세 단위로 구분한 age사이에 _를 추가하여 연결한다.\n",
    "customer_tb['sex_and_age']=pd.Categorical(\\\n",
    "                                          customer_tb[['sex','age']].apply(lambda x: '{}_{}'.format(x[0], np.floor(x[1]/10)*10),  axis=1 ) \\\n",
    "                                         )"
   ]
  },
  {
   "cell_type": "code",
   "execution_count": 62,
   "metadata": {},
   "outputs": [
    {
     "data": {
      "text/plain": [
       "0        man_40.0\n",
       "1        man_30.0\n",
       "2      woman_40.0\n",
       "3        man_40.0\n",
       "4        man_30.0\n",
       "          ...    \n",
       "995      man_40.0\n",
       "996      man_30.0\n",
       "997    woman_30.0\n",
       "998    woman_40.0\n",
       "999      man_30.0\n",
       "Name: sex_and_age, Length: 1000, dtype: category\n",
       "Categories (14, object): [man_20.0, man_30.0, man_40.0, man_50.0, ..., woman_50.0, woman_60.0, woman_70.0, woman_80.0]"
      ]
     },
     "execution_count": 62,
     "metadata": {},
     "output_type": "execute_result"
    }
   ],
   "source": [
    "customer_tb['sex_and_age']"
   ]
  },
  {
   "cell_type": "markdown",
   "metadata": {},
   "source": [
    "---------------------------------------------------------------\n",
    "## 9.5 범주형의 수치화\n",
    "학습 데이터의 양이 적어 범줏값을 고려한 예측 모델을 만들 때 자주 사용한다. <br>\n",
    "하지만 범주형을 수치화할 때는 주의해야함. 과학습이 발생하거나 원래 데이터가 지니는 의미를 잃을 수 있다. <br>\n",
    "따라서 범주 데이터를 수치화하는 방법은 기본적으로 추천하지 않는다. <br>\n",
    "<br>\n",
    "\n",
    "수치화 방법은 해당하는 범줏값별로 지표나 범줏값에 대한 극값, 대푯값, 분포를 이용하는 경우가 많다. <br>\n",
    "예를 들어 제조 레코드 결과물을 수치화할 경우 다음 세 가지가 있다.\n",
    "1. 결과물 종류별로 레코드에서의 출현 횟수를 세서 범줏값 대신 사용한다.\n",
    "2. 결과물 종류별로 제조 불량률을 계산하여 범줏값 대신 이용한다.\n",
    "3. 범줏값별로 제조 불량률을 기준으로 하고 불량률이 높은 순서로 순위를 매겨 범줏값 대신 이용한다.\n",
    "\n"
   ]
  },
  {
   "cell_type": "code",
   "execution_count": 60,
   "metadata": {},
   "outputs": [],
   "source": [
    "production=pd.read_csv('./data/production.csv',encoding='UTF-8')"
   ]
  },
  {
   "cell_type": "code",
   "execution_count": 68,
   "metadata": {},
   "outputs": [
    {
     "data": {
      "text/html": [
       "<div>\n",
       "<style scoped>\n",
       "    .dataframe tbody tr th:only-of-type {\n",
       "        vertical-align: middle;\n",
       "    }\n",
       "\n",
       "    .dataframe tbody tr th {\n",
       "        vertical-align: top;\n",
       "    }\n",
       "\n",
       "    .dataframe thead th {\n",
       "        text-align: right;\n",
       "    }\n",
       "</style>\n",
       "<table border=\"1\" class=\"dataframe\">\n",
       "  <thead>\n",
       "    <tr style=\"text-align: right;\">\n",
       "      <th></th>\n",
       "      <th>type</th>\n",
       "      <th>length</th>\n",
       "      <th>thickness</th>\n",
       "      <th>fault_flg</th>\n",
       "    </tr>\n",
       "  </thead>\n",
       "  <tbody>\n",
       "    <tr>\n",
       "      <th>0</th>\n",
       "      <td>E</td>\n",
       "      <td>274.027383</td>\n",
       "      <td>40.241131</td>\n",
       "      <td>False</td>\n",
       "    </tr>\n",
       "    <tr>\n",
       "      <th>1</th>\n",
       "      <td>D</td>\n",
       "      <td>86.319269</td>\n",
       "      <td>16.906715</td>\n",
       "      <td>False</td>\n",
       "    </tr>\n",
       "    <tr>\n",
       "      <th>2</th>\n",
       "      <td>E</td>\n",
       "      <td>123.940388</td>\n",
       "      <td>1.018462</td>\n",
       "      <td>False</td>\n",
       "    </tr>\n",
       "    <tr>\n",
       "      <th>3</th>\n",
       "      <td>B</td>\n",
       "      <td>175.554886</td>\n",
       "      <td>16.414924</td>\n",
       "      <td>False</td>\n",
       "    </tr>\n",
       "    <tr>\n",
       "      <th>4</th>\n",
       "      <td>B</td>\n",
       "      <td>244.934740</td>\n",
       "      <td>29.061081</td>\n",
       "      <td>False</td>\n",
       "    </tr>\n",
       "  </tbody>\n",
       "</table>\n",
       "</div>"
      ],
      "text/plain": [
       "  type      length  thickness  fault_flg\n",
       "0    E  274.027383  40.241131      False\n",
       "1    D   86.319269  16.906715      False\n",
       "2    E  123.940388   1.018462      False\n",
       "3    B  175.554886  16.414924      False\n",
       "4    B  244.934740  29.061081      False"
      ]
     },
     "execution_count": 68,
     "metadata": {},
     "output_type": "execute_result"
    }
   ],
   "source": [
    "production.head()"
   ]
  },
  {
   "cell_type": "code",
   "execution_count": 63,
   "metadata": {},
   "outputs": [],
   "source": [
    "# 제품 종류별 불량률\n",
    "fault_cnt_per_type=production.query('fault_flg').groupby('type')['fault_flg'].count()"
   ]
  },
  {
   "cell_type": "code",
   "execution_count": 67,
   "metadata": {},
   "outputs": [
    {
     "data": {
      "text/plain": [
       "type\n",
       "A    11\n",
       "B     6\n",
       "C    16\n",
       "D     7\n",
       "E    12\n",
       "Name: fault_flg, dtype: int64"
      ]
     },
     "execution_count": 67,
     "metadata": {},
     "output_type": "execute_result"
    }
   ],
   "source": [
    "fault_cnt_per_type"
   ]
  },
  {
   "cell_type": "code",
   "execution_count": 78,
   "metadata": {},
   "outputs": [],
   "source": [
    "# 제품 종류별 제조 수\n",
    "type_cnt=production.groupby(['type'])['fault_flg'].count()"
   ]
  },
  {
   "cell_type": "code",
   "execution_count": 79,
   "metadata": {},
   "outputs": [
    {
     "data": {
      "text/plain": [
       "type\n",
       "A    202\n",
       "B    175\n",
       "C    211\n",
       "D    215\n",
       "E    197\n",
       "Name: fault_flg, dtype: int64"
      ]
     },
     "execution_count": 79,
     "metadata": {},
     "output_type": "execute_result"
    }
   ],
   "source": [
    "type_cnt"
   ]
  },
  {
   "cell_type": "code",
   "execution_count": 90,
   "metadata": {},
   "outputs": [
    {
     "data": {
      "text/plain": [
       "11"
      ]
     },
     "execution_count": 90,
     "metadata": {},
     "output_type": "execute_result"
    }
   ],
   "source": [
    "fault_cnt_per_type['A']"
   ]
  },
  {
   "cell_type": "code",
   "execution_count": 93,
   "metadata": {},
   "outputs": [
    {
     "data": {
      "text/plain": [
       "1"
      ]
     },
     "execution_count": 93,
     "metadata": {},
     "output_type": "execute_result"
    }
   ],
   "source": [
    "int(True)"
   ]
  },
  {
   "cell_type": "code",
   "execution_count": 94,
   "metadata": {},
   "outputs": [
    {
     "data": {
      "text/plain": [
       "0"
      ]
     },
     "execution_count": 94,
     "metadata": {},
     "output_type": "execute_result"
    }
   ],
   "source": [
    "int(False)"
   ]
  },
  {
   "cell_type": "code",
   "execution_count": 82,
   "metadata": {},
   "outputs": [],
   "source": [
    "production['type_fault_rate']=production[['type','fault_flg']].apply(lambda x: (fault_cnt_per_type[x[0]] - int(x[1]) ) / (type_cnt[x[0]] - 1), axis=1 )"
   ]
  },
  {
   "cell_type": "code",
   "execution_count": 84,
   "metadata": {},
   "outputs": [
    {
     "data": {
      "text/html": [
       "<div>\n",
       "<style scoped>\n",
       "    .dataframe tbody tr th:only-of-type {\n",
       "        vertical-align: middle;\n",
       "    }\n",
       "\n",
       "    .dataframe tbody tr th {\n",
       "        vertical-align: top;\n",
       "    }\n",
       "\n",
       "    .dataframe thead th {\n",
       "        text-align: right;\n",
       "    }\n",
       "</style>\n",
       "<table border=\"1\" class=\"dataframe\">\n",
       "  <thead>\n",
       "    <tr style=\"text-align: right;\">\n",
       "      <th></th>\n",
       "      <th>type</th>\n",
       "      <th>length</th>\n",
       "      <th>thickness</th>\n",
       "      <th>fault_flg</th>\n",
       "      <th>type_fault_rate</th>\n",
       "    </tr>\n",
       "  </thead>\n",
       "  <tbody>\n",
       "    <tr>\n",
       "      <th>0</th>\n",
       "      <td>E</td>\n",
       "      <td>274.027383</td>\n",
       "      <td>40.241131</td>\n",
       "      <td>False</td>\n",
       "      <td>0.061224</td>\n",
       "    </tr>\n",
       "    <tr>\n",
       "      <th>1</th>\n",
       "      <td>D</td>\n",
       "      <td>86.319269</td>\n",
       "      <td>16.906715</td>\n",
       "      <td>False</td>\n",
       "      <td>0.032710</td>\n",
       "    </tr>\n",
       "    <tr>\n",
       "      <th>2</th>\n",
       "      <td>E</td>\n",
       "      <td>123.940388</td>\n",
       "      <td>1.018462</td>\n",
       "      <td>False</td>\n",
       "      <td>0.061224</td>\n",
       "    </tr>\n",
       "    <tr>\n",
       "      <th>3</th>\n",
       "      <td>B</td>\n",
       "      <td>175.554886</td>\n",
       "      <td>16.414924</td>\n",
       "      <td>False</td>\n",
       "      <td>0.034483</td>\n",
       "    </tr>\n",
       "    <tr>\n",
       "      <th>4</th>\n",
       "      <td>B</td>\n",
       "      <td>244.934740</td>\n",
       "      <td>29.061081</td>\n",
       "      <td>False</td>\n",
       "      <td>0.034483</td>\n",
       "    </tr>\n",
       "  </tbody>\n",
       "</table>\n",
       "</div>"
      ],
      "text/plain": [
       "  type      length  thickness  fault_flg  type_fault_rate\n",
       "0    E  274.027383  40.241131      False         0.061224\n",
       "1    D   86.319269  16.906715      False         0.032710\n",
       "2    E  123.940388   1.018462      False         0.061224\n",
       "3    B  175.554886  16.414924      False         0.034483\n",
       "4    B  244.934740  29.061081      False         0.034483"
      ]
     },
     "execution_count": 84,
     "metadata": {},
     "output_type": "execute_result"
    }
   ],
   "source": [
    "production.head()"
   ]
  },
  {
   "cell_type": "markdown",
   "metadata": {},
   "source": [
    "----------------------\n",
    "## 9.6 범주형의 보완\n",
    "1. 고정값으로 보완한다.\n",
    "    * 임의의 값으로 결손값을 보완하는 방법.\n",
    "2. 집곗값으로 보완한다.\n",
    "    * 결손이 발생하지 않는 데이터에서 최빈값을 계산하여 결손값의 보완값으로 이용하는 방법. \n",
    "        * 단, 지정한 최빈값의 데이터가 극단적으로 늘어나므로 결손값이 많을 때는 추천하지 않음.\n",
    "3. 결손이 발생하지 않은 데이터에 기반한 예측값으로 보완한다.\n",
    "    * 결손이 발생하지 않은 열의 값과 일부 결손이 발생한 열의 값과의 관계에서 결손이 발생한 값을 예측하여 보완하는 방법.\n",
    "    * 예측을 위한 관계는 머신러닝 모델등으로 표현. \n",
    "4. 시간 관계로 보완한다.\n",
    "    * 결손이 발생한 데이터의 앞뒤 데이터에서 결손값을 예측하여 보완하는 방법. 범주형에서는 사용하지 않는다. \n",
    "5. 다중대입법으로 보완\n",
    "6. 최대 가능도로 보완\n"
   ]
  },
  {
   "cell_type": "markdown",
   "metadata": {},
   "source": [
    "--------------------------------------------------------------------------------------------------\n",
    "# KNN 알고리즘 개념\n",
    "\n",
    "### 모델 개요\n",
    "> KNN은 새로운 데이터가 주어졌을 때 기존 데이터 가운데 가장 가까운 k개 이웃의 정보로 새로운 데이터를 예측하는 방법론입니다.\n",
    "\n",
    "#### KNN의 하이퍼파라메터(Hyper parameter)\n",
    "> * 탐색할 이웃 수(k)\n",
    "    * k가 작을 경우 데이터의 지역적 특성을 지나치게 반영하게 됩니다(overfitting). 반대로 매우 클 경우 모델이 과하게 정규화되는 경향이 있습니다(underfitting). k의 크기에 따라 분류 경계면이 단순해진다.\n",
    "> * 거리 측정 방법.\n",
    "\n",
    "### 거리 지표\n",
    "> * Euclidean Distance (유클리디언 거리)\n",
    "    * 가장 흔히 사용하는 거리 척도입니다. 두 관측치 사이의 직선 최단거리를 의미\n",
    "> * Manhattan Distance (맨하탄 거리)\n",
    "    * A에서 B로 이동할 때 각 좌표축 방향으로만 이동할 경우에 계산되는 거리입니다. \n",
    "> * Mahalanobis Distance (마할라노비스 거리)\n",
    "    * 변수 내 분산, 변수 간 공분산을 모두 반영하여 거리를 계산하는 방식입니다. 변수 간 상관관계를 고려한 거리 지표입니다.\n",
    "> * Correlation Distance\n",
    "    * 데이터의 pearson correlation을 거리 척도로 직접 사용합니다. 개별 관측치 하나하나가 아니라 데이터 전체의 경향성을 비교하기 위한 척도입니다. \n",
    "> * Rank Correlation Distance\n",
    "\n",
    "### combining rule\n",
    "1-NN을 제외한 KNN은 주변 이웃의 분포에 따라 예측 결과가 충분히 달라질 수 있다.<br>\n",
    "> * **다수결**\n",
    "    * 가장 단순한 결정 방식은 다수결(Majority voting)이다. 이웃들 범주 가운데 빈도 기준 제일 많은 범주로 새 데이터의 범주를 예측하는 것.\n",
    "\n",
    "> * **가중합(weighted voting) 방식**\n",
    "    * 거리(d)가 가까운(=유사도가 높은) 이웃의 정보에 좀 더 가중치를 줍니다. 1/(1+d), 1/(1+d2), exp(−d) 등 단조감소함수이기만 하면 무엇이든 가중치 산출 함수로 쓸 수 있다고 합니다.\n",
    "    \n",
    "### cut-off 기준 설정\n",
    "범주 간 비율이 불균형한 데이터일 땐 여기에 주의를 해야 합니다. <br>\n",
    "예로, 제조업 정상/불량 데이터를 분류하는 문제의 경우 학습데이터에선 정상 관측치가 대다수일 겁니다.<br>\n",
    "여기에서 새 관측치 주변 이웃의 범주 비율 정보가 ‘정상 : 0.8, 불량 : 0.2’이라면 불량으로 판정하는 게 합리적일 것\n",
    "\n",
    "* 컷오프 기준을 설정할 때 학습데이터 범주의 사전확률(prior probability)을 고려해야 한다는 것입니다.\n",
    "\n",
    "### KNN 수행시 주의점\n",
    "* KNN 수행 전 반드시 변수를 정규화(Normalization)해 주어야 합니다. \n",
    "    * 예시 : 도시별 정보를 모아서 유사한 환경을 지닌 도시를 뽑는 문제를 풀어봅시다.거리/유사성 측정시 미세먼지농도 정보는 전혀 반영이 되지 않을 겁니다. 인구 변수에 해당하는 숫자가 훨씬 크기 때문입니다. <br>\n",
    "    따라서 변수별로 평균과 분산을 일치시키는 정규화 작업을 반드시 KNN 적용 전 수행해 주어야 합니다.\n",
    "    \n",
    "### KNN의 장단점\n",
    "**[장점]** <br>\n",
    "\n",
    "> KNN은 학습데이터 내에 끼어있는 노이즈의 영향을 크게 받지 않으며<br>\n",
    "학습데이터 수가 많다면 꽤 효과적인 알고리즘이라고 합니다. <br>\n",
    "* 특히 **마할라노비스 거리**와 같이 데이터의 분산을 고려할 경우 **매우 강건(robust)한 방법론**으로 알려져 있습니다.<br>\n",
    "\n",
    "\n",
    "**[단점]** <br>\n",
    "\n",
    "> 그러나 최적 이웃의 수(k)와 어떤 거리척도가 분석에 적합한지 불분명해 <br>\n",
    "데이터 각각의 특성에 맞게 연구자가 임의로 선정해야 하는 단점이 있습니다.\n",
    "\n",
    "> 또 새로운 관측치와 각각의 학습 데이터 사이의 거리를 전부 측정해야 하므로 계산 시간이 오래 걸리는 한계점이 존재.\n",
    "\n",
    "이 때문에 Locality Sensitive Hashing, Network based Indexer, Optimized product quantization 등 KNN의 계산복잡성을 줄이려는 시도들이 여럿 제안되었습니다. 인스턴스 간 거리를 모두 계산하지 않고도 마치 그렇게 한 것처럼 결과를 내는 방법론들입니다. "
   ]
  },
  {
   "cell_type": "code",
   "execution_count": 70,
   "metadata": {},
   "outputs": [],
   "source": [
    "from sklearn.neighbors import KNeighborsClassifier"
   ]
  },
  {
   "cell_type": "code",
   "execution_count": 129,
   "metadata": {},
   "outputs": [],
   "source": [
    "production_missc_tb=pd.read_csv('./data/production_missing_category.csv',encoding='UTF-8')"
   ]
  },
  {
   "cell_type": "code",
   "execution_count": 130,
   "metadata": {},
   "outputs": [
    {
     "data": {
      "text/plain": [
       "type         100\n",
       "length         0\n",
       "thickness      0\n",
       "fault_flg      0\n",
       "dtype: int64"
      ]
     },
     "execution_count": 130,
     "metadata": {},
     "output_type": "execute_result"
    }
   ],
   "source": [
    "production_missc_tb.isnull().sum()"
   ]
  },
  {
   "cell_type": "code",
   "execution_count": 131,
   "metadata": {},
   "outputs": [],
   "source": [
    "production_missc_tb.replace('None',np.nan, inplace=True)"
   ]
  },
  {
   "cell_type": "code",
   "execution_count": 133,
   "metadata": {},
   "outputs": [
    {
     "data": {
      "text/plain": [
       "(1000, 4)"
      ]
     },
     "execution_count": 133,
     "metadata": {},
     "output_type": "execute_result"
    }
   ],
   "source": [
    "production_missc_tb.shape"
   ]
  },
  {
   "cell_type": "code",
   "execution_count": 134,
   "metadata": {},
   "outputs": [],
   "source": [
    "# 결손이 발생하지 않은 데이터\n",
    "train=production_missc_tb.dropna(subset=['type'],inplace=False)"
   ]
  },
  {
   "cell_type": "code",
   "execution_count": 135,
   "metadata": {},
   "outputs": [
    {
     "data": {
      "text/plain": [
       "(900, 4)"
      ]
     },
     "execution_count": 135,
     "metadata": {},
     "output_type": "execute_result"
    }
   ],
   "source": [
    "train.shape"
   ]
  },
  {
   "cell_type": "code",
   "execution_count": 136,
   "metadata": {},
   "outputs": [
    {
     "data": {
      "text/plain": [
       "Int64Index([  0,   1,   2,   3,   4,   5,   6,   7,   9,  10,\n",
       "            ...\n",
       "            988, 989, 990, 991, 993, 994, 995, 997, 998, 999],\n",
       "           dtype='int64', length=900)"
      ]
     },
     "execution_count": 136,
     "metadata": {},
     "output_type": "execute_result"
    }
   ],
   "source": [
    "train.index"
   ]
  },
  {
   "cell_type": "markdown",
   "metadata": {},
   "source": [
    "### DataFrame.index.difference함수\n",
    "* 매개변수의 index와 다른 index를 반환하는 함수. \n",
    "    * 즉 호출한 index에만 있는 index를 반환한다."
   ]
  },
  {
   "cell_type": "code",
   "execution_count": 138,
   "metadata": {},
   "outputs": [
    {
     "data": {
      "text/plain": [
       "Int64Index([  8,  26,  30,  36,  41,  42,  44,  58,  93, 105, 117, 125, 126,\n",
       "            127, 130, 135, 149, 157, 169, 230, 232, 233, 243, 245, 246, 252,\n",
       "            259, 269, 303, 305, 310, 318, 332, 341, 343, 348, 354, 356, 378,\n",
       "            380, 384, 403, 431, 443, 506, 516, 527, 529, 532, 535, 557, 581,\n",
       "            582, 596, 601, 630, 666, 675, 688, 693, 701, 717, 720, 726, 731,\n",
       "            732, 733, 738, 744, 751, 752, 754, 761, 763, 771, 778, 782, 785,\n",
       "            796, 798, 805, 813, 844, 850, 858, 881, 885, 892, 904, 906, 920,\n",
       "            924, 945, 953, 956, 971, 980, 983, 992, 996],\n",
       "           dtype='int64')"
      ]
     },
     "execution_count": 138,
     "metadata": {},
     "output_type": "execute_result"
    }
   ],
   "source": [
    "production_missc_tb.index.difference(train.index)"
   ]
  },
  {
   "cell_type": "code",
   "execution_count": 139,
   "metadata": {},
   "outputs": [
    {
     "data": {
      "text/html": [
       "<div>\n",
       "<style scoped>\n",
       "    .dataframe tbody tr th:only-of-type {\n",
       "        vertical-align: middle;\n",
       "    }\n",
       "\n",
       "    .dataframe tbody tr th {\n",
       "        vertical-align: top;\n",
       "    }\n",
       "\n",
       "    .dataframe thead th {\n",
       "        text-align: right;\n",
       "    }\n",
       "</style>\n",
       "<table border=\"1\" class=\"dataframe\">\n",
       "  <thead>\n",
       "    <tr style=\"text-align: right;\">\n",
       "      <th></th>\n",
       "      <th>type</th>\n",
       "      <th>length</th>\n",
       "      <th>thickness</th>\n",
       "      <th>fault_flg</th>\n",
       "    </tr>\n",
       "  </thead>\n",
       "  <tbody>\n",
       "    <tr>\n",
       "      <td>8</td>\n",
       "      <td>NaN</td>\n",
       "      <td>276.386631</td>\n",
       "      <td>29.899611</td>\n",
       "      <td>False</td>\n",
       "    </tr>\n",
       "    <tr>\n",
       "      <td>26</td>\n",
       "      <td>NaN</td>\n",
       "      <td>263.844324</td>\n",
       "      <td>34.664251</td>\n",
       "      <td>False</td>\n",
       "    </tr>\n",
       "    <tr>\n",
       "      <td>30</td>\n",
       "      <td>NaN</td>\n",
       "      <td>129.364736</td>\n",
       "      <td>21.346752</td>\n",
       "      <td>False</td>\n",
       "    </tr>\n",
       "    <tr>\n",
       "      <td>36</td>\n",
       "      <td>NaN</td>\n",
       "      <td>203.378972</td>\n",
       "      <td>30.286454</td>\n",
       "      <td>False</td>\n",
       "    </tr>\n",
       "    <tr>\n",
       "      <td>41</td>\n",
       "      <td>NaN</td>\n",
       "      <td>157.463166</td>\n",
       "      <td>11.166165</td>\n",
       "      <td>False</td>\n",
       "    </tr>\n",
       "    <tr>\n",
       "      <td>...</td>\n",
       "      <td>...</td>\n",
       "      <td>...</td>\n",
       "      <td>...</td>\n",
       "      <td>...</td>\n",
       "    </tr>\n",
       "    <tr>\n",
       "      <td>971</td>\n",
       "      <td>NaN</td>\n",
       "      <td>130.088061</td>\n",
       "      <td>0.207250</td>\n",
       "      <td>False</td>\n",
       "    </tr>\n",
       "    <tr>\n",
       "      <td>980</td>\n",
       "      <td>NaN</td>\n",
       "      <td>284.562824</td>\n",
       "      <td>49.211790</td>\n",
       "      <td>False</td>\n",
       "    </tr>\n",
       "    <tr>\n",
       "      <td>983</td>\n",
       "      <td>NaN</td>\n",
       "      <td>264.130761</td>\n",
       "      <td>4.560416</td>\n",
       "      <td>False</td>\n",
       "    </tr>\n",
       "    <tr>\n",
       "      <td>992</td>\n",
       "      <td>NaN</td>\n",
       "      <td>182.252364</td>\n",
       "      <td>33.314305</td>\n",
       "      <td>False</td>\n",
       "    </tr>\n",
       "    <tr>\n",
       "      <td>996</td>\n",
       "      <td>NaN</td>\n",
       "      <td>134.773797</td>\n",
       "      <td>26.861665</td>\n",
       "      <td>False</td>\n",
       "    </tr>\n",
       "  </tbody>\n",
       "</table>\n",
       "<p>100 rows × 4 columns</p>\n",
       "</div>"
      ],
      "text/plain": [
       "    type      length  thickness  fault_flg\n",
       "8    NaN  276.386631  29.899611      False\n",
       "26   NaN  263.844324  34.664251      False\n",
       "30   NaN  129.364736  21.346752      False\n",
       "36   NaN  203.378972  30.286454      False\n",
       "41   NaN  157.463166  11.166165      False\n",
       "..   ...         ...        ...        ...\n",
       "971  NaN  130.088061   0.207250      False\n",
       "980  NaN  284.562824  49.211790      False\n",
       "983  NaN  264.130761   4.560416      False\n",
       "992  NaN  182.252364  33.314305      False\n",
       "996  NaN  134.773797  26.861665      False\n",
       "\n",
       "[100 rows x 4 columns]"
      ]
     },
     "execution_count": 139,
     "metadata": {},
     "output_type": "execute_result"
    }
   ],
   "source": [
    "# 결손이 발생한 데이터\n",
    "test=production_missc_tb.loc[production_missc_tb.index.difference(train.index),:]\n",
    "test"
   ]
  },
  {
   "cell_type": "markdown",
   "metadata": {},
   "source": [
    "* knn모델을 생성하고, neighbors는 knn의 k 매개변수이다."
   ]
  },
  {
   "cell_type": "code",
   "execution_count": 140,
   "metadata": {},
   "outputs": [],
   "source": [
    "kn=KNeighborsClassifier(n_neighbors=3)"
   ]
  },
  {
   "cell_type": "code",
   "execution_count": 141,
   "metadata": {},
   "outputs": [
    {
     "data": {
      "text/plain": [
       "KNeighborsClassifier(algorithm='auto', leaf_size=30, metric='minkowski',\n",
       "                     metric_params=None, n_jobs=None, n_neighbors=3, p=2,\n",
       "                     weights='uniform')"
      ]
     },
     "execution_count": 141,
     "metadata": {},
     "output_type": "execute_result"
    }
   ],
   "source": [
    "kn.fit(train[['length','thickness']],train['type'])"
   ]
  },
  {
   "cell_type": "code",
   "execution_count": 144,
   "metadata": {},
   "outputs": [
    {
     "data": {
      "text/plain": [
       "8      E\n",
       "26     E\n",
       "30     E\n",
       "36     A\n",
       "41     E\n",
       "      ..\n",
       "971    A\n",
       "980    E\n",
       "983    B\n",
       "992    A\n",
       "996    A\n",
       "Name: type, Length: 100, dtype: object"
      ]
     },
     "execution_count": 144,
     "metadata": {},
     "output_type": "execute_result"
    }
   ],
   "source": [
    "test['type']=kn.predict(test[['length','thickness']])\n",
    "test['type']"
   ]
  },
  {
   "cell_type": "code",
   "execution_count": null,
   "metadata": {},
   "outputs": [],
   "source": []
  },
  {
   "cell_type": "code",
   "execution_count": null,
   "metadata": {},
   "outputs": [],
   "source": []
  },
  {
   "cell_type": "code",
   "execution_count": null,
   "metadata": {},
   "outputs": [],
   "source": []
  }
 ],
 "metadata": {
  "hide_input": false,
  "kernelspec": {
   "display_name": "suhyun3",
   "language": "python",
   "name": "suhyun3"
  },
  "language_info": {
   "codemirror_mode": {
    "name": "ipython",
    "version": 3
   },
   "file_extension": ".py",
   "mimetype": "text/x-python",
   "name": "python",
   "nbconvert_exporter": "python",
   "pygments_lexer": "ipython3",
   "version": "3.7.4"
  },
  "toc": {
   "base_numbering": 1,
   "nav_menu": {},
   "number_sections": true,
   "sideBar": true,
   "skip_h1_title": false,
   "title_cell": "Table of Contents",
   "title_sidebar": "Contents",
   "toc_cell": false,
   "toc_position": {},
   "toc_section_display": true,
   "toc_window_display": false
  }
 },
 "nbformat": 4,
 "nbformat_minor": 4
}
