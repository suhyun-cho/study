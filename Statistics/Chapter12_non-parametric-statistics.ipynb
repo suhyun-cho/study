{
 "cells": [
  {
   "cell_type": "markdown",
   "metadata": {},
   "source": [
    "## 비모수검정 (non-parametric-statistic)"
   ]
  },
  {
   "cell_type": "markdown",
   "metadata": {},
   "source": [
    "### Types of Nonparametric Tests\n",
    "https://www.statisticshowto.com/parametric-and-non-parametric-data/ <br>\n",
    "\n",
    "* 1-sample sign test. \n",
    "    * Use this test to estimate the median of a population and compare it to a reference value or target value.\n",
    "* 1-sample Wilcoxon signed rank test. \n",
    "    * With this test, you also estimate the population median and compare it to a reference/target value. However, the test assumes your data comes from a symmetric distribution (like the Cauchy distribution or uniform distribution).\n",
    "    * 대칭확률분포인 경우 사용\n",
    "* Friedman test. \n",
    "    * This test is used to test for differences between groups with ordinal dependent variables. It can also be used for continuous data if the one-way ANOVA with repeated measures is inappropriate (i.e. some assumption has been violated).\n",
    "* Goodman Kruska’s Gamma: a test of association for ranked variables.\n",
    "* Kruskal-Wallis test. \n",
    "    * Use this test instead of a one-way ANOVA to find out if two or more medians are different. Ranks of the data points are used for the calculations, rather than the data points themselves.\n",
    "* The Mann-Kendall Trend Test \n",
    "    * looks for trends in time-series data.\n",
    "* Mann-Whitney test. \n",
    "    * Use this test to compare differences between two independent groups when dependent variables are either ordinal or continuous.\n",
    "* Mood’s Median test. \n",
    "    * Use this test instead of the sign test when you have two independent samples.\n",
    "* Spearman Rank Correlation.\n",
    "    * Use when you want to find a correlation between two sets of data.\n",
    "------------------------------------------------------------------------------------------------------------------------------------------------------------------------"
   ]
  },
  {
   "cell_type": "markdown",
   "metadata": {},
   "source": [
    "비모수검정 통계량은 관측값 자체를 사용하지 않고 흔히 관측값의 부호나 순위(rank)등을 사용하는 것이 보통이다.<br>\n",
    "데이터 자체보다 데이터의 순위를 갖고 통계적 가설검정 문제를 다룰 때 정보의 손실 때문에 효율이 많이 감소되리라 생각하나 ,<br>\n",
    "실제로는 효율의 감소는 적은 반면 상당히 안전한 방법임이 증명되어 있다. <br>\n",
    "\n",
    "또한, 데이터가 순위로만 주어졌을 때는 모수적 방법은 사용할 수 없고, 이 경우엔 비모수적 방법을 사용해야 한다. <br>\n"
   ]
  },
  {
   "cell_type": "markdown",
   "metadata": {},
   "source": [
    "#### < 정리 >\n",
    "\n",
    "| | 모수적 방법 | 비모수적 방법 |\n",
    "|--------|--------|--------|\n",
    "|독립적인 두 표본| T-검정 |윌콕슨 순위합 검정|\n",
    "|대응되는 두 표본| 대응표본 T검정 | 윌콕슨 부호순위 검정|\n",
    "|독립적인 셋 이상의 표본| 분산분석 (ANOVA) | 크루스칼-왈리스 검정 |"
   ]
  },
  {
   "cell_type": "markdown",
   "metadata": {},
   "source": [
    "## Wilcoxon 순위합 검정\n",
    "2개의 처리 1과 2를 비교 연구하기 위하여$n = n_1 + n_2$ 개의 실험대상을 표본의 크기가 각각 $n_1$ 과 $n_2$인 2개의 집단으로 임의로 나눈 다음, <br>\n",
    "처리 A를 $n_1$개의 표본에 시행하고, 처리 B를 $n_2$ 개의 표본에 시행하여 다음과 같은 관측값을 얻었다고 하자. <br>\n",
    "* 처리 1 : $X_1, X_2, ..., X_{N_1}$\n",
    "* 처리 2 : $Y_1, Y_2, ..., Y_{N_2}$\n",
    "그러면 이 두 처리는 두 모집단에서 추출된 서로 독립인 확률표본을 형성한다. <br>\n",
    "\n",
    "$X_1, X_2, ..., X_{N_1}$ 은 연속분포 $F(x)$에서의 확률표본이고, <br>\n",
    "$Y_1, Y_2, ..., Y_{N_2}$ 는 연속분포 $G(y) = F(y-\\Delta)$ 에서의 확률표본이라 하자. <br>\n",
    "따라서, 두 모집단의 분포의 모양은 같으며, Y의 분포는 X의 분포를 $\\Delta$ 만큼 평행이동하여 얻은것으로 간주할 수 있다. \n",
    "\n",
    "[가설] <br>\n",
    "$H_0 : \\Delta = 0$ (두 모집단의 분포는 같다) <br>\n",
    "$H_1 : \\Delta > 0$ (Y가 X보다 확률적으로 크다)\n",
    "\n",
    "###  [ Wilcoxon 순위합 검정 ] \n",
    "$H_0$ : $\\Delta$ = 0 <br>\n",
    "(a) $n = n_1 + n_2$ 개의 관측값의 혼합표본을 작은 것부터 크기 순으로 순위를 부여한다. <br>\n",
    "\n",
    "(b) Y표본의 순위합 W를 구한다 <br>\n",
    "\n",
    "(c) $H_1 : \\Delta>0$ (Y가 X보다 확률적으로 크다.) <br>\n",
    "$H_1 : \\Delta<0$ (Y가 X보다 확률적으로 작다.) <br>\n",
    "$H_1 : \\Delta \\ne 0$ (두 분포는 서로 다르다)\n",
    "\n",
    "#### [ W의 평균, 분산 그리고 정규근사 ]\n",
    "귀무가설 $H_0$ 하에서, <br>\n",
    "#### $E(W) = \\frac{n_2(n_1 + n_2 + 1)}{2}$ ,\n",
    "#### $Var(W) = \\frac{n_1 n_2 (n_1 + n_2 + 1)}{12}$\n",
    "이며, 대표본에서 ($H_0$가 참일 때)\n",
    "#### $Z = \\frac{W - E(W)}{\\sqrt{ Var(W)}}$"
   ]
  },
  {
   "cell_type": "markdown",
   "metadata": {},
   "source": [
    "---------------------------\n",
    "## 부호검정\n",
    "부호검정은 차 $D_i$ 의 부호에 기초를 둔 검정법이다. 부호검정통계량은 <br>\n",
    "$S = D_1 , D_2, ..., D_n$ 중 양의 부호의 개수 <br>\n",
    "$H_0$ 하에서 <br>\n",
    "P{$D_I$>0} = 0.5 = P{$D_i$<0} 이므로 귀무가설하에서 S는 이항분포 B(n, 0.5) 를 따른다. <br>\n",
    "\n",
    "=> 모집단의 분포와는 관계없이, 이항분포를 따르므로 S를 이용한 검정은 분포무관검정이 된다.\n",
    "\n",
    "#### [부호검정통계량의 정규근사]\n",
    "$H_0$하에서 <br>\n",
    "### $Z = \\frac{S - n/2}{\\sqrt n / 2}$\n",
    "\n",
    "## Wilcoxon 부호순위검정\n",
    "부호검정에서는 관측값의 크기는 무시하고 부호만 사용하므로 일반적으로 정보의 손실이 크다. <br>\n",
    "따라서 $D_i$의 부호뿐 아니라 상대적인 크기를 고려하는 통계량을 생각할 수 있다. \n",
    "\n",
    "(a) 차 $D_i = X_{1i} - X_{2i}$ 를 구한다<br>\n",
    "\n",
    "(b) |$D_i$|의 순위를 부여하고, 그 순위에 $D_i$의 부호를 붙인다.<br>\n",
    "\n",
    "(c) 부호순위통계량의 값을 구한다. <br>\n",
    "$T+$ = 양의 $D_i$ 에 해당되는 순위합 <br>\n",
    "\n",
    "(d) 대립가설에 따라 기각역을 구한다.\n",
    "\n"
   ]
  },
  {
   "cell_type": "markdown",
   "metadata": {},
   "source": [
    "------------------------\n",
    "## Kruskall-Wallis 검정\n",
    "$n = n_1 + n_2 + ...+n_k$ 개의 실험단위들을 표본의 크기가 $n_1, n_2, ..., n_k$ 인 k개의 집단으로 랜덤하게 나누어, <br>\n",
    "각 집단에 처리 1,2, ...k 가 적용된다고 하자. <br>\n",
    "\n",
    "우리가 검정하고자 하는 문제는 이들 k개의 처리효과가 모두 같은가 하는 것이다. <br>\n",
    "$H_0$ : 연속인 k개의 모집단은 동일하다. <br>\n",
    "$H_1$ : k개의 모집단이 모두 동일하지는 않다.\n",
    "\n",
    "각 처리별 순위합을 \n",
    "#### $W_i = \\sum_{j=1}^{n_i} R_{ij}$\n",
    "각 처리별 평균순위는 \n",
    "#### $\\bar R_i = \\frac{1}{n_i} \\sum_{j=1}^{n_i} R_{ij} = \\frac{W_i}{n_i}$\n",
    "\n",
    "n개의 관측값으로 이루어진 혼합표본의 평균순위는\n",
    "#### $\\bar R = \\frac{1+2+ ...+n}{n}$ = $\\frac{n+1}{2}$\n",
    "\n",
    "$H_0$가 참일 때 각 처리별 평균순위는 혼합표본의 총평균순위인 (n+1)/2 에 가까울 것으로 기대된다. <br>\n",
    "따라서 각 처리별 평균순위의 총편균순위로부터늬 편차들의 크기가 상대적으로 작을 때 $H_0$가 참이라는 근거가 된다. <br>\n",
    "\n",
    "### [ Kruskall-Wallis검정통계량의 $\\chi^2$ 근사 ]\n",
    "(a) 표본의 크기가 클 때\n",
    "### $H = \\frac{12}{n(n+1)} \\sum_{i=1}^k n_i (\\bar R_i - \\frac{n+1}{2})^2$\n",
    "은 $H_0$ 하에서 근사적으로 자유도 K-1인 $\\chi^2$ 분포를 따른다.\n",
    "\n",
    "(b) $H > \\chi^2 (k-1, \\alpha)$ 일때 $H_0$를 기각한다."
   ]
  },
  {
   "cell_type": "markdown",
   "metadata": {},
   "source": [
    "------------------\n",
    "## 결론\n",
    "\n",
    "#### [비모수검정의 특징]\n",
    "* 관측값이 수치로서 주어져 있지않고, 상대적인 순위 관계로만 주어져 있을 때 특히 유용하다.\n",
    "    * 관측값이 수치로 주어져 있을 때, 이 수치의 정보는 무시한 채 수치의 부호나 상대적인 크기만 사용한다는 것은 어느정도 정보의 손실을 의미한다.\n",
    "    \n",
    "* Wilcoxon 순위합검정은 모 집단이 정규분포를 가질 때는 t검정에 비해 효율이 약간 떨어지나, <br>\n",
    "모집단이 두터운 꼬리를 갖는 분포를 가질 때는 t검정에비해 효율이 훨씬 더 좋게 된다.\n",
    "\n",
    "* 모집단이 정규분포를 가질 때 검정력의 손실이 약간 있게 된다. \n",
    "    * 그러나 wilcoxon 검정 같은 것은 그 검정력의 손실이 작다.\n",
    "    \n",
    "#### [검정의 우수성 기준]\n",
    "1. 제1종 오류에 대한 제어\n",
    "2. 귀무가설이 참이 아닐 때 이를 기각시키는 검정력\n",
    "\n",
    "=> 일반적으로 비모수검정은 제1종의 오류를 확실하게 제어하나 모수검정은 그렇지 못하다.\n",
    "\n",
    "#### [유의사항]\n",
    "* 일표본문제나 이표본문제에서와 같이 모형이 간단한 문제에서는 비모수검정이 모수검정에 비하여 많은 장점을 갖고 있다.\n",
    "* 그러나 독립성의 조건이 만족되지 않는 모형에서는 비모수적 방법의 효율이 훨씬 떨어질 수도 있다.\n",
    "\n",
    "=> 모집단이 근사적으로 정규분포를 갖거나 표본의 크기가 충분히 클 때는 모수적 방법이 더 효율적인 추론법이 될 수 있다.\n"
   ]
  },
  {
   "cell_type": "code",
   "execution_count": null,
   "metadata": {},
   "outputs": [],
   "source": []
  }
 ],
 "metadata": {
  "kernelspec": {
   "display_name": "Python 3",
   "language": "python",
   "name": "python3"
  },
  "language_info": {
   "codemirror_mode": {
    "name": "ipython",
    "version": 3
   },
   "file_extension": ".py",
   "mimetype": "text/x-python",
   "name": "python",
   "nbconvert_exporter": "python",
   "pygments_lexer": "ipython3",
   "version": "3.7.4"
  }
 },
 "nbformat": 4,
 "nbformat_minor": 4
}
