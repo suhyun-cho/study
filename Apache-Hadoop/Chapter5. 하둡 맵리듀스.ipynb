{
 "cells": [
  {
   "cell_type": "markdown",
   "metadata": {},
   "source": [
    "# Apache-Hadoop\n",
    "T-academy 온라인강의 <br>\n",
    "https://tacademy.skplanet.com/live/player/onlineLectureDetail.action?seq=188\n",
    "\n",
    "## [5강] 하둡 맵리듀스\n",
    "수강일 : 2020-11-28\n"
   ]
  },
  {
   "cell_type": "markdown",
   "metadata": {},
   "source": [
    "----------------------------------------------------\n",
    "#### 맵리듀스 알고리즘\n",
    "* Map Function : (key1, value1)->(key2,value2)\n",
    "* Reduce Function : (key2 , List of value2)-> (key3, value3)\n",
    "\n",
    "#### 맵리듀스 장/단점\n",
    "* 장점\n",
    "    * 단순하고 사용이 편리\n",
    "    * 높은 확장성\n",
    "    * 특정 데이터모델이나 스키마, 질의에 의존적이지 않은 유연성\n",
    "* 단점\n",
    "    * 기존 DBMS보다 불편한 스키마 질의\n",
    "    * 개발도구의 불편함\n",
    "    * 단순한 스케줄링\n",
    "    * 작은 데이터를 저장/처리하기에 적합하지 않다. (하둡 자체가 작은 데이터에 적합하지 않음)\n",
    "#### 맵리듀스 구동방식\n",
    "* Local\n",
    "* Classic\n",
    "* YARN\n",
    "\n",
    "#### 주요 컴포넌트\n",
    "* 클라이언트\n",
    "* 잡트래커\n",
    "* 태스크트래커\n",
    "    * 실질적인 데이터 처리를하는\n",
    "* 하둡분산파일시스템(HDFS)\n",
    "\n",
    "#### 하둡 예제\n",
    "<img src=\"./example-of-MapReduce.PNG\" >\n"
   ]
  },
  {
   "cell_type": "markdown",
   "metadata": {},
   "source": [
    "---------------------------------\n",
    "#### 맵리듀스 구현을 위한 인터페이스\n",
    "* Input : TextInputFormat\n",
    "* Mapper \n",
    "    * (k1,v1)->(k2,v2)\n",
    "* Combiner \n",
    "    * (k2, list(v2)) -> (k2,v2)\n",
    "* Partitioner\n",
    "    * (k2, v2, #reducer)-> #partition\n",
    "* shuffle/sort\n",
    "* Reducer\n",
    "    * (k2, list(v2)) -> (k3, v3)\n",
    "* Output : TextOutputFormat\n",
    "\n",
    "---------------------------------\n",
    "#### SequenceFile 이란\n",
    "* 하둡 자체적으로 구현된 Binary파일 포맷으로 Key-Value Pair로 구성\n",
    "* Mapper에 아웃풋을 이형태로\n",
    "\n",
    "#### RecordReader\n",
    "* 실제 파일에 접근하여 데이터를 읽어들임\n",
    "* 읽어드린 데이터를 Key-value형태로 변환해서 Mapper에게 전달\n",
    "\n",
    "#### Mapper\n",
    "\n",
    "#### Combiner\n",
    "* 트래픽을 전송하는 양을 어느정도 줄여줌.\n",
    "\n",
    "#### Partitioner의 역할\n",
    "* 기본 파티셔너는 데이터의 key값을 해싱 처리하고 Reducer의 개수만큼 모듈러 연산\n",
    "\n",
    "#### Reducer\n",
    "* 같은 key를 갖고있는 데이터끼리 엮어서 연산\n",
    "---------------------------------------"
   ]
  },
  {
   "cell_type": "markdown",
   "metadata": {},
   "source": []
  },
  {
   "cell_type": "code",
   "execution_count": null,
   "metadata": {},
   "outputs": [],
   "source": []
  },
  {
   "cell_type": "code",
   "execution_count": null,
   "metadata": {},
   "outputs": [],
   "source": []
  }
 ],
 "metadata": {
  "kernelspec": {
   "display_name": "suhyun2",
   "language": "python",
   "name": "suhyun2"
  },
  "language_info": {
   "codemirror_mode": {
    "name": "ipython",
    "version": 3
   },
   "file_extension": ".py",
   "mimetype": "text/x-python",
   "name": "python",
   "nbconvert_exporter": "python",
   "pygments_lexer": "ipython3",
   "version": "3.6.8"
  }
 },
 "nbformat": 4,
 "nbformat_minor": 2
}
