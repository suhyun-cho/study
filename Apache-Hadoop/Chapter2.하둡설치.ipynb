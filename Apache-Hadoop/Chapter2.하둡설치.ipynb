{
 "cells": [
  {
   "cell_type": "markdown",
   "metadata": {},
   "source": [
    "# Apache-Hadoop\n",
    "T-academy 온라인강의 <br>\n",
    "https://tacademy.skplanet.com/live/player/onlineLectureDetail.action?seq=188\n",
    "\n",
    "## [2강] 하둡설치 \n",
    "수강일 : 2020-11-24"
   ]
  },
  {
   "cell_type": "markdown",
   "metadata": {},
   "source": [
    "--------------------------------\n",
    "### Name Node Web Interface 실행이 안되는 이슈\n",
    "(NameNode가 안떠서 문제인것으로 파악)\n",
    "\n",
    "* jps확인했을때 기존에 아래와같이 떴음. <br>\n",
    "(base) josuhyeon-ui-MacBook-Pro:hadoop suhyun$ jps <br>\n",
    "\n",
    "> 4260 SecondaryNameNode<br>\n",
    "1607 <br>\n",
    "5223 Jps<br>\n",
    "1674 RemoteMavenServer36<br>\n",
    "3436 DataNode<br>\n",
    "4892 ResourceManager<br>\n",
    "4990 NodeManager<br>\n",
    "<br>\n",
    "\n",
    "* 우선 모든 하둡 다끄고 다시 실행해봄 (명령어 : ./stop-all.sh)<br>\n",
    "(base) josuhyeon-ui-MacBook-Pro:sbin suhyun$ ./stop-all.sh<br>\n",
    "\n",
    "(base) josuhyeon-ui-MacBook-Pro:sbin suhyun$ jps <br>\n",
    "\n",
    "> 6708 Jps<br>\n",
    "1607 <br>\n",
    "1674 RemoteMavenServer36<br>\n",
    "<br>\n",
    "\n",
    "* 다 끄고난 다음에 namenode 포맷 다시하고 (=> bin/hdfs namenode -format)  <br>\n",
    "(base) josuhyeon-ui-MacBook-Pro:hadoop suhyun$ bin/hdfs namenode -format\n",
    "<br>\n",
    "\n",
    "* DFS 데몬 다시 실행해봄 (=> start-dfs.sh) <br>\n",
    "(base) josuhyeon-ui-MacBook-Pro:hadoop-3.3.0 suhyun$ sbin/start-dfs.sh\n",
    "<br>\n",
    "\n",
    "* 그리고나서 jps다시 확인해보니 NameNode가 뜸 <br>\n",
    "(base) josuhyeon-ui-MacBook-Pro:hadoop-3.3.0 suhyun$ jps<br>\n",
    "> 7204 Jps<br>\n",
    "1607 <br>\n",
    "1674 RemoteMavenServer36<br>\n",
    "6940 NameNode<br>"
   ]
  },
  {
   "cell_type": "markdown",
   "metadata": {},
   "source": []
  },
  {
   "cell_type": "markdown",
   "metadata": {},
   "source": []
  },
  {
   "cell_type": "code",
   "execution_count": null,
   "metadata": {},
   "outputs": [],
   "source": []
  }
 ],
 "metadata": {
  "kernelspec": {
   "display_name": "suhyun2",
   "language": "python",
   "name": "suhyun2"
  },
  "language_info": {
   "codemirror_mode": {
    "name": "ipython",
    "version": 3
   },
   "file_extension": ".py",
   "mimetype": "text/x-python",
   "name": "python",
   "nbconvert_exporter": "python",
   "pygments_lexer": "ipython3",
   "version": "3.6.8"
  }
 },
 "nbformat": 4,
 "nbformat_minor": 2
}
