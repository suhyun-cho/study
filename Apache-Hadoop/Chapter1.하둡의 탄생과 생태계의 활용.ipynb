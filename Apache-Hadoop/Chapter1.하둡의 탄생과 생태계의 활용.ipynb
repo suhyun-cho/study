{
 "cells": [
  {
   "cell_type": "markdown",
   "metadata": {},
   "source": [
    "# Apache-Hadoop\n",
    "T-academy 온라인강의<br>\n",
    "https://tacademy.skplanet.com/live/player/onlineLectureDetail.action?seq=188\n",
    "\n",
    "## [1강] 하둡의 탄생과 생태계의 활용\n",
    "수강시작일 : 2020-11-23"
   ]
  },
  {
   "cell_type": "markdown",
   "metadata": {},
   "source": [
    "----------------------------------------------------------------\n",
    "#### 구글의 논문과 아파치 프로젝트\n",
    "* 하둡은 분산 파일 시스템과 분산파일을 병렬로 처리할 수 있는 소프트웨어 MapReduce를 가지고 있음.\n",
    "* 요즘은 HBase(NoSQL)같은 분산 데이터베이스가 발전하고있음.\n",
    "    * HBase : 분산 데이터베이스\n",
    "* 기본적으로 하둡은 java로 개발되어있지만, python이나 c도 지원함.\n",
    "* Pig역할\n",
    "    * 분산 파일에 저장된 데이터를 맵리듀스로 할수도있지만, pig가 지원하는 신텍스를 사용해서 분산파일을 처리할 수 있는 스크립트 언어\n",
    "* Hive\n",
    "    * SQL언어를 지원함. \n",
    "    * 정형화된 데이터에 대해서는 SQL로 핸들링이 가능함. 비정형, 반정형 데이터는 SQL로 처리가 쉽지않아서 맵리듀스로 프로그래밍하는게 필요\n",
    "    * 하둡을 다룰 수 있는 엔진 중 하나"
   ]
  },
  {
   "cell_type": "markdown",
   "metadata": {},
   "source": [
    "----------------------------------------------------------------\n",
    "#### Hadoop생태계의 진화 \n",
    "**정리**\n",
    "* Hadoop 은 데이터를 저장하고, 프로세싱하는 영역에 해당 (resource management)\n",
    "* Hive 는 저장되어있는 메타스토어를 참조해서 쿼리를 던짐\n",
    "* HBase 는 분산 데이터베이스\n",
    "\n"
   ]
  },
  {
   "cell_type": "markdown",
   "metadata": {},
   "source": [
    "**하둡의 큰 장점**\n",
    "* 하둡 덕분에 이제는 더이상 많은 데이터를 저장하기 위해 큰 비용이 들지 않는다."
   ]
  },
  {
   "cell_type": "markdown",
   "metadata": {},
   "source": [
    "**데이터분석 환경 구축 전체구성** <br>\n",
    "\n",
    "ETL과정을 거친다음, DataWarehouse에 데이터를 저장, 통합.  <br>\n",
    "현업의 의견을 받아서 유의미한 데이터를 만들어내는데, 그런 데이터를 Data Marts라고 표현.<br>\n",
    "주로 하둡 에코시스템으로 이 영역을 구축\n"
   ]
  },
  {
   "cell_type": "markdown",
   "metadata": {},
   "source": [
    "**많은 회사가 구성원에게 요구하는 역량** <br>\n",
    "\n",
    "데이터 사이언티스트\n",
    "> 데이터에서(프로그래머) + 패턴을 찾아내서(통계학자) + 비즈니스(컨설턴트) 기회로"
   ]
  },
  {
   "cell_type": "code",
   "execution_count": null,
   "metadata": {},
   "outputs": [],
   "source": []
  },
  {
   "cell_type": "code",
   "execution_count": null,
   "metadata": {},
   "outputs": [],
   "source": []
  },
  {
   "cell_type": "code",
   "execution_count": null,
   "metadata": {},
   "outputs": [],
   "source": []
  }
 ],
 "metadata": {
  "kernelspec": {
   "display_name": "suhyun2",
   "language": "python",
   "name": "suhyun2"
  },
  "language_info": {
   "codemirror_mode": {
    "name": "ipython",
    "version": 3
   },
   "file_extension": ".py",
   "mimetype": "text/x-python",
   "name": "python",
   "nbconvert_exporter": "python",
   "pygments_lexer": "ipython3",
   "version": "3.6.8"
  }
 },
 "nbformat": 4,
 "nbformat_minor": 2
}
